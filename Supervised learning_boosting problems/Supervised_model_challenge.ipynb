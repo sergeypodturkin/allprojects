{
  "nbformat": 4,
  "nbformat_minor": 5,
  "metadata": {
    "kernelspec": {
      "display_name": "Python 3",
      "language": "python",
      "name": "python3"
    },
    "language_info": {
      "codemirror_mode": {
        "name": "ipython",
        "version": 3
      },
      "file_extension": ".py",
      "mimetype": "text/x-python",
      "name": "python",
      "nbconvert_exporter": "python",
      "pygments_lexer": "ipython3",
      "version": "3.8.1"
    },
    "colab": {
      "name": "Supervised_model_challenge.ipynb",
      "provenance": []
    }
  },
  "cells": [
    {
      "cell_type": "markdown",
      "metadata": {
        "id": "noble-quality"
      },
      "source": [
        "# Challenge: Which model?"
      ],
      "id": "noble-quality"
    },
    {
      "cell_type": "markdown",
      "metadata": {
        "id": "tribal-secret"
      },
      "source": [
        "You now have a fairly substantial starting toolbox of supervised learning methods that you can use to tackle a host of exciting problems. To make sure that all of these ideas are organized in your mind, go through the list of problems below. For each, identify which supervised learning method (or methods) would be best for addressing that particular problem. Explain your reasoning."
      ],
      "id": "tribal-secret"
    },
    {
      "cell_type": "markdown",
      "metadata": {
        "id": "utility-canadian"
      },
      "source": [
        "Using data from the last 20 Olympics, predict the running times of prospective Olympic sprinters.\n",
        "- I would use linear regression. linear regression is a good start. Since the dataset is not too big feature selection should be easy."
      ],
      "id": "utility-canadian"
    },
    {
      "cell_type": "markdown",
      "metadata": {
        "id": "actual-sweden"
      },
      "source": [
        "You have more features (columns) than rows in your dataset.\n",
        "- we can't use linear regression, ther's not enough data to estimate coefficients. We can use PCA to reduce features or study the subject and eleminate irrelivant features. Also Lasso regression helps to reduce number of features by turning coefficients to 0 with lamda parameter."
      ],
      "id": "actual-sweden"
    },
    {
      "cell_type": "markdown",
      "metadata": {
        "id": "fourth-student"
      },
      "source": [
        "# Identify the most important characteristic for predicting the likelihood of being jailed before age 20."
      ],
      "id": "fourth-student"
    },
    {
      "cell_type": "markdown",
      "metadata": {
        "id": "international-samoa"
      },
      "source": [
        "- random forest feature importances, fast calculation, easy to retrieve."
      ],
      "id": "international-samoa"
    },
    {
      "cell_type": "markdown",
      "metadata": {
        "id": "grand-march"
      },
      "source": [
        "# Implement a filter to highlight emails that might be important to the recipient."
      ],
      "id": "grand-march"
    },
    {
      "cell_type": "markdown",
      "metadata": {
        "id": "exterior-comedy"
      },
      "source": [
        "-content based filtering technique such as Naïve Bayesian classification, Support Vector Machine, K Nearest Neighbor can be implemented"
      ],
      "id": "exterior-comedy"
    },
    {
      "cell_type": "markdown",
      "metadata": {
        "id": "medieval-disclosure"
      },
      "source": [
        "# You have more than 1,000 features."
      ],
      "id": "medieval-disclosure"
    },
    {
      "cell_type": "markdown",
      "metadata": {
        "id": "extreme-nickname"
      },
      "source": [
        "- to reduce number of features we would try Lasso regression"
      ],
      "id": "extreme-nickname"
    },
    {
      "cell_type": "markdown",
      "metadata": {
        "id": "defined-raising"
      },
      "source": [
        "# Predict whether someone who adds items to their cart on a website will purchase the items."
      ],
      "id": "defined-raising"
    },
    {
      "cell_type": "markdown",
      "metadata": {
        "id": "cognitive-tsunami"
      },
      "source": [
        "- Random forest would be a good choice"
      ],
      "id": "cognitive-tsunami"
    },
    {
      "cell_type": "markdown",
      "metadata": {
        "id": "downtown-campus"
      },
      "source": [
        "# Your dataset dimensions are 982400x500."
      ],
      "id": "downtown-campus"
    },
    {
      "cell_type": "markdown",
      "metadata": {
        "id": "sound-garlic"
      },
      "source": [
        "- linear regression to search for best features."
      ],
      "id": "sound-garlic"
    },
    {
      "cell_type": "markdown",
      "metadata": {
        "id": "derived-bread"
      },
      "source": [
        "# Identify faces in an image"
      ],
      "id": "derived-bread"
    },
    {
      "cell_type": "markdown",
      "metadata": {
        "id": "characteristic-tutorial"
      },
      "source": [
        "- PCA method"
      ],
      "id": "characteristic-tutorial"
    },
    {
      "cell_type": "markdown",
      "metadata": {
        "id": "cloudy-summary"
      },
      "source": [
        "# Predict which of three flavors of ice cream will be most popular with boys versus girls."
      ],
      "id": "cloudy-summary"
    },
    {
      "cell_type": "markdown",
      "metadata": {
        "id": "adult-console"
      },
      "source": [
        "- classification problem, random forrest"
      ],
      "id": "adult-console"
    },
    {
      "cell_type": "code",
      "metadata": {
        "id": "enormous-gateway"
      },
      "source": [
        ""
      ],
      "id": "enormous-gateway",
      "execution_count": null,
      "outputs": []
    }
  ]
}
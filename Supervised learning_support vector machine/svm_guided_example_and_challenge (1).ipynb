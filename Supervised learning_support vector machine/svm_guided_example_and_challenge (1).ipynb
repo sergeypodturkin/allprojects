{
  "nbformat": 4,
  "nbformat_minor": 0,
  "metadata": {
    "colab": {
      "name": "svm_guided_example_and_challenge.ipynb",
      "provenance": []
    },
    "hide_input": false,
    "kernelspec": {
      "display_name": "Python 3",
      "language": "python",
      "name": "python3"
    },
    "language_info": {
      "codemirror_mode": {
        "name": "ipython",
        "version": 3
      },
      "file_extension": ".py",
      "mimetype": "text/x-python",
      "name": "python",
      "nbconvert_exporter": "python",
      "pygments_lexer": "ipython3",
      "version": "3.8.1"
    },
    "toc": {
      "colors": {
        "hover_highlight": "#DAA520",
        "running_highlight": "#FF0000",
        "selected_highlight": "#FFD700"
      },
      "moveMenuLeft": true,
      "nav_menu": {
        "height": "12px",
        "width": "252px"
      },
      "navigate_menu": true,
      "number_sections": true,
      "sideBar": true,
      "threshold": 4,
      "toc_cell": false,
      "toc_section_display": "block",
      "toc_window_display": false
    }
  },
  "cells": [
    {
      "cell_type": "code",
      "metadata": {
        "id": "JBNL3W2XWFDV"
      },
      "source": [
        "import numpy as np\n",
        "import pandas as pd\n",
        "import scipy\n",
        "import matplotlib.pyplot as plt\n",
        "import seaborn as sns\n",
        "from sklearn.feature_selection import RFE\n",
        "from sklearn.svm import SVR\n",
        "from sklearn.svm import SVC\n",
        "%matplotlib inline"
      ],
      "execution_count": null,
      "outputs": []
    },
    {
      "cell_type": "markdown",
      "metadata": {
        "id": "dXrIXl0JWFD1"
      },
      "source": [
        "Now it's time for another guided example. This time, you're going to look at recipes. Specifically, you'll use the *epicurious* dataset, which has a collection of recipes, key terms, ingredients, and ratings.\n",
        "\n",
        "What you want to see is if you can use the ingredient and keyword list to predict the rating. For someone writing a cookbook, this could be really useful information. They could use it to identify which recipes are more likely to be enjoyed, which could help them choose which recipes to include to make the book more likely to be successful.\n",
        "\n",
        "First, load the dataset, which is [available on Kaggle](https://www.kaggle.com/hugodarwood/epirecipes). You'll use the CSV file here; start by pulling out column names and some summary statistics for ratings."
      ]
    },
    {
      "cell_type": "code",
      "metadata": {
        "id": "_YT1LGFbWFD4"
      },
      "source": [
        "raw_data = pd.read_csv('https://tf-assets-prod.s3.amazonaws.com/tf-curric/data-science/epi_r.csv')"
      ],
      "execution_count": null,
      "outputs": []
    },
    {
      "cell_type": "code",
      "metadata": {
        "id": "7v8cy8DgWFD6",
        "scrolled": true
      },
      "source": [
        "d_col=list(raw_data.columns)"
      ],
      "execution_count": null,
      "outputs": []
    },
    {
      "cell_type": "code",
      "metadata": {
        "colab": {
          "base_uri": "https://localhost:8080/"
        },
        "id": "EGbSARZ-WFD7",
        "scrolled": true,
        "outputId": "50d28d0f-5fc9-4a15-d809-1127762137d9"
      },
      "source": [
        "raw_data.rating"
      ],
      "execution_count": null,
      "outputs": [
        {
          "data": {
            "text/plain": [
              "0        2.500\n",
              "1        4.375\n",
              "2        3.750\n",
              "3        5.000\n",
              "4        3.125\n",
              "         ...  \n",
              "20047    3.125\n",
              "20048    4.375\n",
              "20049    4.375\n",
              "20050    4.375\n",
              "20051    4.375\n",
              "Name: rating, Length: 20052, dtype: float64"
            ]
          },
          "execution_count": 4,
          "metadata": {
            "tags": []
          },
          "output_type": "execute_result"
        }
      ]
    },
    {
      "cell_type": "markdown",
      "metadata": {
        "id": "KHZRs7CPWFEA"
      },
      "source": [
        "You can learn a few things from this analysis. From a ratings perspective, there are just over 20,000 recipes, with an average rating of 3.71. What is interesting is that the twenty-fifth percentile is actually above the mean. This means that there is likely some kind of outlier population. This makes sense when you think about reviews; some bad recipes may have very few very low reviews.\n",
        "\n",
        "Now, use a histogram to validate that idea a bit further."
      ]
    },
    {
      "cell_type": "code",
      "metadata": {
        "colab": {
          "base_uri": "https://localhost:8080/",
          "height": 281
        },
        "id": "fyORzDTXWFEC",
        "outputId": "d2538b66-48ae-45dd-abf7-e2ee16d701f9"
      },
      "source": [
        "raw_data.rating.hist(bins=20)\n",
        "plt.title('Histogram of Recipe Ratings')\n",
        "plt.show()"
      ],
      "execution_count": null,
      "outputs": [
        {
          "data": {
            "image/png": "[encoded data removed]",
            "text/plain": [
              "<Figure size 432x288 with 1 Axes>"
            ]
          },
          "metadata": {
            "tags": []
          },
          "output_type": "display_data"
        }
      ]
    },
    {
      "cell_type": "markdown",
      "metadata": {
        "id": "X2g3yxKyWFED"
      },
      "source": [
        "This histogram reveals a few things. Firstly, there are sharp discontinuities. You don't have continuous data. No recipe has a 3.5 rating, for example. Also, you can see the anticipated increase at 0.\n",
        "\n",
        "Now, try a naive approach again, this time using an SVM regressor. But first, you'll have to do a bit of data cleaning."
      ]
    },
    {
      "cell_type": "code",
      "metadata": {
        "colab": {
          "base_uri": "https://localhost:8080/"
        },
        "id": "JNjoCQaeWFEE",
        "outputId": "2a9d6d96-8a26-46d8-bb39-6ccf451bff32"
      },
      "source": [
        "# Count the nulls \n",
        "null_count = raw_data.isnull().sum()/raw_data.isnull().count()\n",
        "null_count[null_count>0]"
      ],
      "execution_count": null,
      "outputs": [
        {
          "data": {
            "text/plain": [
              "calories    0.205316\n",
              "protein     0.207560\n",
              "fat         0.208608\n",
              "sodium      0.205416\n",
              "dtype: float64"
            ]
          },
          "execution_count": 6,
          "metadata": {
            "tags": []
          },
          "output_type": "execute_result"
        }
      ]
    },
    {
      "cell_type": "code",
      "metadata": {
        "colab": {
          "base_uri": "https://localhost:8080/"
        },
        "id": "pfVPDFFSWFEG",
        "outputId": "eb342769-d84b-482d-8220-dc1365477a2e"
      },
      "source": [
        "raw_data.info()"
      ],
      "execution_count": null,
      "outputs": [
        {
          "name": "stdout",
          "output_type": "stream",
          "text": [
            "<class 'pandas.core.frame.DataFrame'>\n",
            "RangeIndex: 20052 entries, 0 to 20051\n",
            "Columns: 680 entries, title to turkey\n",
            "dtypes: float64(679), object(1)\n",
            "memory usage: 104.0+ MB\n"
          ]
        }
      ]
    },
    {
      "cell_type": "markdown",
      "metadata": {
        "id": "azBnZgeUWFEI"
      },
      "source": [
        ""
      ]
    },
    {
      "cell_type": "markdown",
      "metadata": {
        "id": "RlE9FAoDWFEI"
      },
      "source": [
        "What you can see right away is that nutrition information is not available for all goods. This would be an interesting data point, but focus on ingredients and keywords right now. So go ahead and drop the whole columns for calories, protein, fat, and sodium. You'll come back to nutrition information later."
      ]
    },
    {
      "cell_type": "code",
      "metadata": {
        "colab": {
          "base_uri": "https://localhost:8080/"
        },
        "id": "SMH6E2KEWFER",
        "outputId": "a6f5e239-904c-41d2-8f8c-fb1a821af56e"
      },
      "source": [
        "from sklearn.svm import SVR\n",
        "svr = SVR()\n",
        "X = raw_data.drop(['rating', 'title', 'calories', 'protein', 'fat', 'sodium'], 1).sample(frac=0.3, replace=True, random_state=1)\n",
        "Y = raw_data.rating.sample(frac=0.3, replace=True, random_state=1)\n",
        "svr.fit(X,Y)"
      ],
      "execution_count": null,
      "outputs": [
        {
          "data": {
            "text/plain": [
              "SVR(C=1.0, cache_size=200, coef0=0.0, degree=3, epsilon=0.1, gamma='scale',\n",
              "    kernel='rbf', max_iter=-1, shrinking=True, tol=0.001, verbose=False)"
            ]
          },
          "execution_count": 8,
          "metadata": {
            "tags": []
          },
          "output_type": "execute_result"
        }
      ]
    },
    {
      "cell_type": "markdown",
      "metadata": {
        "id": "mNriqI9EWFET"
      },
      "source": [
        "Note that this actually takes quite a while to run, compared to some of the models that you've done before. Be patient—it's because of the number of features that you have.\n",
        "\n",
        "Now, see what a scatter plot looks like if you compare actual ratings to predicted ratings:"
      ]
    },
    {
      "cell_type": "code",
      "metadata": {
        "colab": {
          "base_uri": "https://localhost:8080/",
          "height": 282
        },
        "id": "82F5bm7iWFEV",
        "outputId": "ce8b30bf-2820-4604-c196-b08128a4b8af"
      },
      "source": [
        "plt.scatter(Y, svr.predict(X))"
      ],
      "execution_count": null,
      "outputs": [
        {
          "data": {
            "text/plain": [
              "<matplotlib.collections.PathCollection at 0x7f73db2614d0>"
            ]
          },
          "execution_count": 9,
          "metadata": {
            "tags": []
          },
          "output_type": "execute_result"
        },
        {
          "data": {
            "image/png": "[encoded data removed]",
            "text/plain": [
              "<Figure size 432x288 with 1 Axes>"
            ]
          },
          "metadata": {
            "tags": []
          },
          "output_type": "display_data"
        }
      ]
    },
    {
      "cell_type": "markdown",
      "metadata": {
        "id": "qs1hHjBZWFEW"
      },
      "source": [
        "Now, that is a pretty useless visualization. This is because of the discontinuous nature of the outcome variable. There's too much data for you to really see what's going on here. If you wanted to look at it, you could create histograms. But here, you'll move on to the scores of both the full-fit model and the model with cross-validation. Again, if you choose to run it again, it will take some time—so you probably shouldn't run it again."
      ]
    },
    {
      "cell_type": "code",
      "metadata": {
        "colab": {
          "base_uri": "https://localhost:8080/"
        },
        "id": "kbXh8AKhWFEX",
        "outputId": "a91ed711-1526-405c-fb61-14bbbc98cc98"
      },
      "source": [
        "svr.score(X, Y)"
      ],
      "execution_count": null,
      "outputs": [
        {
          "data": {
            "text/plain": [
              "0.4099845913800794"
            ]
          },
          "execution_count": 10,
          "metadata": {
            "tags": []
          },
          "output_type": "execute_result"
        }
      ]
    },
    {
      "cell_type": "code",
      "metadata": {
        "colab": {
          "base_uri": "https://localhost:8080/"
        },
        "id": "n9fYgZYjWFEY",
        "outputId": "2f757a2d-0fe1-4ef1-d18a-027d9f7f38dc"
      },
      "source": [
        "from sklearn.model_selection import cross_val_score\n",
        "cross_val_score(svr, X, Y, cv=5)"
      ],
      "execution_count": null,
      "outputs": [
        {
          "data": {
            "text/plain": [
              "array([0.19563385, 0.14683481, 0.15013401, 0.13597791, 0.16082192])"
            ]
          },
          "execution_count": 11,
          "metadata": {
            "tags": []
          },
          "output_type": "execute_result"
        }
      ]
    },
    {
      "cell_type": "markdown",
      "metadata": {
        "id": "XlkJfJ6rWFEZ"
      },
      "source": [
        "Oh dear, this does not seem to have worked very well. In fact, it is remarkably poor! There are many things that you could do here. \n",
        "\n",
        "The overfit is a problem, even though it was poor in the first place. You could go back and clean up your feature set. There might be some gains to be made by getting rid of the noise.\n",
        "\n",
        "You could also try removing the nulls but including dietary information, and see how that performs. Though it's a slight change to the question, you could still possibly get some improvements there.\n",
        "\n",
        "Also, you could take your regression problem and turn it into a classifier. With this number of features and a discontinuous outcome, you might have better luck thinking of this as a classification problem. You could make it simpler still if, instead of classifying on each possible value, you group reviews to some specific high and low values.\n",
        "\n",
        "And that is your challenge for this checkpoint.\n",
        "\n",
        "Transform this regression problem into a binary classifier and clean up the feature set. You can choose whether or not to include nutritional information, but try to cut your feature set down to the 30 most valuable features.\n",
        "\n",
        "Good luck!"
      ]
    },
    {
      "cell_type": "markdown",
      "metadata": {
        "id": "7fkOMWEfWFEb"
      },
      "source": [
        "When you've finished that, also take a moment to think about bias. Is there anything in this dataset that makes you think that it could be biased, perhaps extremely so?\n",
        "\n",
        "There is. There are several things, in fact. But most glaringly, you don't actually have a random sample. It could be, and probably is, that the people more likely to choose some kinds of recipes are also more likely to give high reviews.\n",
        "\n",
        "After all, people who eat chocolate might just be happier people."
      ]
    },
    {
      "cell_type": "code",
      "metadata": {
        "id": "oNFBlJ16WFEc"
      },
      "source": [
        "#estimator = SVR(kernel=\"linear\")\n",
        "#selector = RFE(estimator, n_features_to_select=30, step=10)\n",
        "#selector = selector.fit(X, Y)\n",
        "#selector.support_"
      ],
      "execution_count": null,
      "outputs": []
    },
    {
      "cell_type": "code",
      "metadata": {
        "id": "jOvglMgbWFEd"
      },
      "source": [
        "#create 2 categories with rating<4 and rating>=4\n",
        "raw_data.loc[raw_data.rating<4,'rating']=0\n",
        "raw_data.loc[raw_data.rating>=4,'rating']=1"
      ],
      "execution_count": null,
      "outputs": []
    },
    {
      "cell_type": "code",
      "metadata": {
        "colab": {
          "base_uri": "https://localhost:8080/"
        },
        "id": "qk6-H69OWFEf",
        "outputId": "936eeb79-9621-486b-d3eb-a9c4a6a22b6c"
      },
      "source": [
        "#fitting the model\n",
        "\n",
        "from sklearn.svm import SVC\n",
        "\n",
        "svm = SVC(kernel = 'linear')\n",
        "X = raw_data.drop(['rating', 'title', 'calories', 'protein', 'fat', 'sodium'], 1).sample(frac=0.3, replace=True, random_state=1)\n",
        "Y = raw_data.rating.sample(frac=0.3, replace=True, random_state=1)\n",
        "svm.fit(X,Y)"
      ],
      "execution_count": null,
      "outputs": [
        {
          "data": {
            "text/plain": [
              "SVC(C=1.0, break_ties=False, cache_size=200, class_weight=None, coef0=0.0,\n",
              "    decision_function_shape='ovr', degree=3, gamma='scale', kernel='linear',\n",
              "    max_iter=-1, probability=False, random_state=None, shrinking=True,\n",
              "    tol=0.001, verbose=False)"
            ]
          },
          "execution_count": 14,
          "metadata": {
            "tags": []
          },
          "output_type": "execute_result"
        }
      ]
    },
    {
      "cell_type": "code",
      "metadata": {
        "colab": {
          "base_uri": "https://localhost:8080/"
        },
        "id": "L8713VbqWFEg",
        "outputId": "e74cb791-0d1c-4b8f-960b-e3590ca27b06"
      },
      "source": [
        "svm.score(X, Y)"
      ],
      "execution_count": null,
      "outputs": [
        {
          "data": {
            "text/plain": [
              "0.690658244680851"
            ]
          },
          "execution_count": 15,
          "metadata": {
            "tags": []
          },
          "output_type": "execute_result"
        }
      ]
    },
    {
      "cell_type": "code",
      "metadata": {
        "colab": {
          "base_uri": "https://localhost:8080/"
        },
        "id": "oKfrVEq5WFEh",
        "outputId": "4606c8f0-9c96-4622-d823-57533b98f637"
      },
      "source": [
        "#the score is much better, \n",
        "cross_val_score(svm, X, Y, cv=5)"
      ],
      "execution_count": null,
      "outputs": [
        {
          "data": {
            "text/plain": [
              "array([0.61046512, 0.59268495, 0.59517872, 0.60681629, 0.60681629])"
            ]
          },
          "execution_count": 16,
          "metadata": {
            "tags": []
          },
          "output_type": "execute_result"
        }
      ]
    },
    {
      "cell_type": "code",
      "metadata": {
        "id": "pOsQ6l-xWFEj"
      },
      "source": [
        "#remove na rows\n",
        "raw_data.dropna(axis=0, inplace=True)"
      ],
      "execution_count": null,
      "outputs": []
    },
    {
      "cell_type": "code",
      "metadata": {
        "colab": {
          "background_save": true
        },
        "id": "-jYVRbfXWFEk",
        "outputId": "bffbd535-7a16-4d3b-cced-b000c74e07e5"
      },
      "source": [
        "svm = SVC(kernel = 'linear')\n",
        "X = raw_data.drop(['rating', 'title'], 1).sample(frac=0.3, replace=True, random_state=1)\n",
        "Y = raw_data.rating.sample(frac=0.3, replace=True, random_state=1)\n",
        "svm.fit(X,Y)"
      ],
      "execution_count": null,
      "outputs": [
        {
          "data": {
            "text/plain": [
              "SVC(C=1.0, break_ties=False, cache_size=200, class_weight=None, coef0=0.0,\n",
              "    decision_function_shape='ovr', degree=3, gamma='scale', kernel='linear',\n",
              "    max_iter=-1, probability=False, random_state=None, shrinking=True,\n",
              "    tol=0.001, verbose=False)"
            ]
          },
          "execution_count": null,
          "metadata": {},
          "output_type": "execute_result"
        }
      ]
    },
    {
      "cell_type": "code",
      "metadata": {
        "colab": {
          "background_save": true
        },
        "id": "x5Bzc1uqWFEm",
        "outputId": "9c777a85-ba1e-4cc6-e98b-0416bc7babab"
      },
      "source": [
        "svm.score(X, Y)"
      ],
      "execution_count": null,
      "outputs": [
        {
          "data": {
            "text/plain": [
              "0.627862996427821"
            ]
          },
          "execution_count": null,
          "metadata": {},
          "output_type": "execute_result"
        }
      ]
    },
    {
      "cell_type": "code",
      "metadata": {
        "id": "Ib_gg3MdWFEn"
      },
      "source": [
        "cross_val_score(svm, X, Y, cv=5)"
      ],
      "execution_count": null,
      "outputs": []
    },
    {
      "cell_type": "code",
      "metadata": {
        "id": "CuTPPczaWFEo"
      },
      "source": [
        ""
      ],
      "execution_count": null,
      "outputs": []
    }
  ]
}
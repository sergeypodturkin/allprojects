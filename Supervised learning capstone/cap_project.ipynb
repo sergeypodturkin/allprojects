{
  "nbformat": 4,
  "nbformat_minor": 5,
  "metadata": {
    "kernelspec": {
      "display_name": "Python 3",
      "language": "python",
      "name": "python3"
    },
    "language_info": {
      "codemirror_mode": {
        "name": "ipython",
        "version": 3
      },
      "file_extension": ".py",
      "mimetype": "text/x-python",
      "name": "python",
      "nbconvert_exporter": "python",
      "pygments_lexer": "ipython3",
      "version": "3.8.1"
    },
    "colab": {
      "name": "cap_project.ipynb",
      "provenance": []
    }
  },
  "cells": [
    {
      "cell_type": "code",
      "metadata": {
        "id": "brazilian-horizontal"
      },
      "source": [
        "\n",
        "import seaborn as sns\n",
        "from sklearn.model_selection import train_test_split\n",
        "from sklearn.linear_model import LinearRegression\n",
        "from sklearn.metrics import accuracy_score, mean_squared_error, mean_absolute_error\n",
        "from sklearn.ensemble import RandomForestRegressor\n",
        "from sklearn.model_selection import GridSearchCV\n",
        "from sklearn.ensemble import GradientBoostingRegressor\n",
        "from sklearn import svm\n",
        "from sklearn.decomposition import PCA\n",
        "from sklearn.svm import SVR\n",
        "from sklearn.pipeline import make_pipeline\n",
        "from sklearn.tree import DecisionTreeRegressor\n",
        "from sklearn.tree import plot_tree\n",
        "from sklearn.decomposition import PCA\n",
        "from sklearn.linear_model import Lasso, Ridge\n",
        "from sklearn.model_selection import cross_val_score\n",
        "sns.set()\n",
        "import numpy as np # linear algebra\n",
        "import pandas as pd # data processing, CSV file I/O (e.g. pd.read_csv)\n",
        "import pandas as pd\n",
        "import numpy as np\n",
        "import matplotlib.pyplot as plt\n",
        "import xgboost as xgb\n",
        "from sklearn import model_selection, preprocessing\n",
        "from sklearn.metrics import accuracy_score\n",
        "from sklearn.preprocessing import LabelEncoder\n",
        "from sklearn.preprocessing import StandardScaler\n"
      ],
      "id": "brazilian-horizontal",
      "execution_count": null,
      "outputs": []
    },
    {
      "cell_type": "code",
      "metadata": {
        "id": "applicable-speed"
      },
      "source": [
        "import os\n",
        "os.getcwd()\n",
        "os.chdir('C:\\\\Users\\\\serge\\\\thinkful\\\\SUPERVISED LEARNING\\cap_project')"
      ],
      "id": "applicable-speed",
      "execution_count": null,
      "outputs": []
    },
    {
      "cell_type": "markdown",
      "metadata": {
        "id": "other-testing"
      },
      "source": [
        "# Data cleaning"
      ],
      "id": "other-testing"
    },
    {
      "cell_type": "markdown",
      "metadata": {
        "id": "lasting-prescription"
      },
      "source": [
        "Brand of the car  is an important feature when buying cars. We will include it in the dataset. Also, age makes more sense vs year."
      ],
      "id": "lasting-prescription"
    },
    {
      "cell_type": "code",
      "metadata": {
        "id": "regional-seventh"
      },
      "source": [
        "\n",
        "#read the data\n",
        "#\n",
        "df_audi=pd.read_csv('audi.csv')\n",
        "df_audi['brand']='audi'\n",
        "df_bmw=pd.read_csv('bmw.csv')\n",
        "df_bmw['brand']='bmw'\n",
        "df_cclass=pd.read_csv('cclass.csv')\n",
        "df_cclass['brand']='cclass'\n",
        "df_focus=pd.read_csv('focus.csv')\n",
        "df_focus['brand']='focus'\n",
        "df_ford=pd.read_csv('ford.csv')\n",
        "df_ford['brand']='ford'\n",
        "df_hyundi=pd.read_csv('hyundi.csv')\n",
        "df_hyundi['brand']='hyundi'\n",
        "df_hyundi = df_hyundi.rename(columns={'tax(£)': 'tax'})\n",
        "df_merc=pd.read_csv('merc.csv')\n",
        "df_merc['brand']='merc'\n",
        "df_skoda=pd.read_csv('skoda.csv')\n",
        "df_skoda['brand']='skoda'\n",
        "df_toyota=pd.read_csv('toyota.csv')\n",
        "df_toyota['brand']='toyota'\n",
        "df_vauxhall=pd.read_csv('vauxhall.csv')\n",
        "df_vauxhall['brand']='vauxhall'\n",
        "df_vw=pd.read_csv('vw.csv')\n",
        "df_vw['brand']='vw'"
      ],
      "id": "regional-seventh",
      "execution_count": null,
      "outputs": []
    },
    {
      "cell_type": "code",
      "metadata": {
        "id": "small-jacksonville"
      },
      "source": [
        "#merging the data\n",
        "df=pd.concat([df_audi, df_bmw, df_cclass, df_focus, df_ford, df_hyundi, df_merc, df_skoda, df_toyota, df_vauxhall, df_vw], ignore_index=True)"
      ],
      "id": "small-jacksonville",
      "execution_count": null,
      "outputs": []
    },
    {
      "cell_type": "code",
      "metadata": {
        "id": "expressed-genome",
        "outputId": "b14b08de-38da-4a52-ae92-0060bb8ec6b8"
      },
      "source": [
        "df.head(100)"
      ],
      "id": "expressed-genome",
      "execution_count": null,
      "outputs": [
        {
          "output_type": "execute_result",
          "data": {
            "text/html": [
              "<div>\n",
              "<style scoped>\n",
              "    .dataframe tbody tr th:only-of-type {\n",
              "        vertical-align: middle;\n",
              "    }\n",
              "\n",
              "    .dataframe tbody tr th {\n",
              "        vertical-align: top;\n",
              "    }\n",
              "\n",
              "    .dataframe thead th {\n",
              "        text-align: right;\n",
              "    }\n",
              "</style>\n",
              "<table border=\"1\" class=\"dataframe\">\n",
              "  <thead>\n",
              "    <tr style=\"text-align: right;\">\n",
              "      <th></th>\n",
              "      <th>model</th>\n",
              "      <th>year</th>\n",
              "      <th>price</th>\n",
              "      <th>transmission</th>\n",
              "      <th>mileage</th>\n",
              "      <th>fuelType</th>\n",
              "      <th>tax</th>\n",
              "      <th>mpg</th>\n",
              "      <th>engineSize</th>\n",
              "      <th>brand</th>\n",
              "    </tr>\n",
              "  </thead>\n",
              "  <tbody>\n",
              "    <tr>\n",
              "      <th>0</th>\n",
              "      <td>A1</td>\n",
              "      <td>2017</td>\n",
              "      <td>12500</td>\n",
              "      <td>Manual</td>\n",
              "      <td>15735</td>\n",
              "      <td>Petrol</td>\n",
              "      <td>150.0</td>\n",
              "      <td>55.4</td>\n",
              "      <td>1.4</td>\n",
              "      <td>audi</td>\n",
              "    </tr>\n",
              "    <tr>\n",
              "      <th>1</th>\n",
              "      <td>A6</td>\n",
              "      <td>2016</td>\n",
              "      <td>16500</td>\n",
              "      <td>Automatic</td>\n",
              "      <td>36203</td>\n",
              "      <td>Diesel</td>\n",
              "      <td>20.0</td>\n",
              "      <td>64.2</td>\n",
              "      <td>2.0</td>\n",
              "      <td>audi</td>\n",
              "    </tr>\n",
              "    <tr>\n",
              "      <th>2</th>\n",
              "      <td>A1</td>\n",
              "      <td>2016</td>\n",
              "      <td>11000</td>\n",
              "      <td>Manual</td>\n",
              "      <td>29946</td>\n",
              "      <td>Petrol</td>\n",
              "      <td>30.0</td>\n",
              "      <td>55.4</td>\n",
              "      <td>1.4</td>\n",
              "      <td>audi</td>\n",
              "    </tr>\n",
              "    <tr>\n",
              "      <th>3</th>\n",
              "      <td>A4</td>\n",
              "      <td>2017</td>\n",
              "      <td>16800</td>\n",
              "      <td>Automatic</td>\n",
              "      <td>25952</td>\n",
              "      <td>Diesel</td>\n",
              "      <td>145.0</td>\n",
              "      <td>67.3</td>\n",
              "      <td>2.0</td>\n",
              "      <td>audi</td>\n",
              "    </tr>\n",
              "    <tr>\n",
              "      <th>4</th>\n",
              "      <td>A3</td>\n",
              "      <td>2019</td>\n",
              "      <td>17300</td>\n",
              "      <td>Manual</td>\n",
              "      <td>1998</td>\n",
              "      <td>Petrol</td>\n",
              "      <td>145.0</td>\n",
              "      <td>49.6</td>\n",
              "      <td>1.0</td>\n",
              "      <td>audi</td>\n",
              "    </tr>\n",
              "    <tr>\n",
              "      <th>...</th>\n",
              "      <td>...</td>\n",
              "      <td>...</td>\n",
              "      <td>...</td>\n",
              "      <td>...</td>\n",
              "      <td>...</td>\n",
              "      <td>...</td>\n",
              "      <td>...</td>\n",
              "      <td>...</td>\n",
              "      <td>...</td>\n",
              "      <td>...</td>\n",
              "    </tr>\n",
              "    <tr>\n",
              "      <th>95</th>\n",
              "      <td>A6</td>\n",
              "      <td>2016</td>\n",
              "      <td>17300</td>\n",
              "      <td>Automatic</td>\n",
              "      <td>24421</td>\n",
              "      <td>Diesel</td>\n",
              "      <td>30.0</td>\n",
              "      <td>61.4</td>\n",
              "      <td>2.0</td>\n",
              "      <td>audi</td>\n",
              "    </tr>\n",
              "    <tr>\n",
              "      <th>96</th>\n",
              "      <td>A1</td>\n",
              "      <td>2016</td>\n",
              "      <td>10600</td>\n",
              "      <td>Manual</td>\n",
              "      <td>15567</td>\n",
              "      <td>Diesel</td>\n",
              "      <td>0.0</td>\n",
              "      <td>76.3</td>\n",
              "      <td>1.6</td>\n",
              "      <td>audi</td>\n",
              "    </tr>\n",
              "    <tr>\n",
              "      <th>97</th>\n",
              "      <td>A4</td>\n",
              "      <td>2018</td>\n",
              "      <td>17500</td>\n",
              "      <td>Manual</td>\n",
              "      <td>15207</td>\n",
              "      <td>Petrol</td>\n",
              "      <td>145.0</td>\n",
              "      <td>51.4</td>\n",
              "      <td>1.4</td>\n",
              "      <td>audi</td>\n",
              "    </tr>\n",
              "    <tr>\n",
              "      <th>98</th>\n",
              "      <td>A4</td>\n",
              "      <td>2017</td>\n",
              "      <td>15000</td>\n",
              "      <td>Manual</td>\n",
              "      <td>14864</td>\n",
              "      <td>Petrol</td>\n",
              "      <td>145.0</td>\n",
              "      <td>52.3</td>\n",
              "      <td>1.4</td>\n",
              "      <td>audi</td>\n",
              "    </tr>\n",
              "    <tr>\n",
              "      <th>99</th>\n",
              "      <td>A4</td>\n",
              "      <td>2019</td>\n",
              "      <td>25499</td>\n",
              "      <td>Semi-Auto</td>\n",
              "      <td>9000</td>\n",
              "      <td>Petrol</td>\n",
              "      <td>145.0</td>\n",
              "      <td>38.7</td>\n",
              "      <td>2.0</td>\n",
              "      <td>audi</td>\n",
              "    </tr>\n",
              "  </tbody>\n",
              "</table>\n",
              "<p>100 rows × 10 columns</p>\n",
              "</div>"
            ],
            "text/plain": [
              "   model  year  price transmission  mileage fuelType    tax   mpg  engineSize  \\\n",
              "0     A1  2017  12500       Manual    15735   Petrol  150.0  55.4         1.4   \n",
              "1     A6  2016  16500    Automatic    36203   Diesel   20.0  64.2         2.0   \n",
              "2     A1  2016  11000       Manual    29946   Petrol   30.0  55.4         1.4   \n",
              "3     A4  2017  16800    Automatic    25952   Diesel  145.0  67.3         2.0   \n",
              "4     A3  2019  17300       Manual     1998   Petrol  145.0  49.6         1.0   \n",
              "..   ...   ...    ...          ...      ...      ...    ...   ...         ...   \n",
              "95    A6  2016  17300    Automatic    24421   Diesel   30.0  61.4         2.0   \n",
              "96    A1  2016  10600       Manual    15567   Diesel    0.0  76.3         1.6   \n",
              "97    A4  2018  17500       Manual    15207   Petrol  145.0  51.4         1.4   \n",
              "98    A4  2017  15000       Manual    14864   Petrol  145.0  52.3         1.4   \n",
              "99    A4  2019  25499    Semi-Auto     9000   Petrol  145.0  38.7         2.0   \n",
              "\n",
              "   brand  \n",
              "0   audi  \n",
              "1   audi  \n",
              "2   audi  \n",
              "3   audi  \n",
              "4   audi  \n",
              "..   ...  \n",
              "95  audi  \n",
              "96  audi  \n",
              "97  audi  \n",
              "98  audi  \n",
              "99  audi  \n",
              "\n",
              "[100 rows x 10 columns]"
            ]
          },
          "metadata": {
            "tags": []
          },
          "execution_count": 5
        }
      ]
    },
    {
      "cell_type": "code",
      "metadata": {
        "id": "rural-parcel",
        "outputId": "c6679d71-1b62-41e2-922b-026add0da3c8"
      },
      "source": [
        "df.isnull().sum()/df.isnull().count()"
      ],
      "id": "rural-parcel",
      "execution_count": null,
      "outputs": [
        {
          "output_type": "execute_result",
          "data": {
            "text/plain": [
              "model           0.000000\n",
              "year            0.000000\n",
              "price           0.000000\n",
              "transmission    0.000000\n",
              "mileage         0.000000\n",
              "fuelType        0.000000\n",
              "tax             0.086171\n",
              "mpg             0.086171\n",
              "engineSize      0.000000\n",
              "brand           0.000000\n",
              "dtype: float64"
            ]
          },
          "metadata": {
            "tags": []
          },
          "execution_count": 6
        }
      ]
    },
    {
      "cell_type": "code",
      "metadata": {
        "id": "dirty-north",
        "outputId": "7fe20484-ff9e-4322-bb4c-f0963e74dc31"
      },
      "source": [
        "df.info()"
      ],
      "id": "dirty-north",
      "execution_count": null,
      "outputs": [
        {
          "output_type": "stream",
          "text": [
            "<class 'pandas.core.frame.DataFrame'>\n",
            "RangeIndex: 108540 entries, 0 to 108539\n",
            "Data columns (total 10 columns):\n",
            " #   Column        Non-Null Count   Dtype  \n",
            "---  ------        --------------   -----  \n",
            " 0   model         108540 non-null  object \n",
            " 1   year          108540 non-null  int64  \n",
            " 2   price         108540 non-null  int64  \n",
            " 3   transmission  108540 non-null  object \n",
            " 4   mileage       108540 non-null  int64  \n",
            " 5   fuelType      108540 non-null  object \n",
            " 6   tax           99187 non-null   float64\n",
            " 7   mpg           99187 non-null   float64\n",
            " 8   engineSize    108540 non-null  float64\n",
            " 9   brand         108540 non-null  object \n",
            "dtypes: float64(3), int64(3), object(4)\n",
            "memory usage: 8.3+ MB\n"
          ],
          "name": "stdout"
        }
      ]
    },
    {
      "cell_type": "code",
      "metadata": {
        "scrolled": false,
        "id": "tracked-consumer",
        "outputId": "4fd31018-64a4-4509-9f9f-e4501ec01453"
      },
      "source": [
        "fig, axs = plt.subplots(1, 2, figsize=(15, 6))\n",
        "axs[0].hist(df['tax'],bins=50)\n",
        "axs[0].set_xlim([0,400])\n",
        "axs[0].set_title('tax')\n",
        "axs[1].hist(df['mpg'], bins=50)\n",
        "axs[1].set_xlim([0,175])\n",
        "axs[1].set_title('mpg')\n",
        "fig.suptitle('HISTOGRAMS OF TAX AND MPG FEATURES')\n",
        "plt.show()"
      ],
      "id": "tracked-consumer",
      "execution_count": null,
      "outputs": [
        {
          "output_type": "display_data",
          "data": {
            "image/png": "[encoded data removed]",
            "text/plain": [
              "<Figure size 1080x432 with 2 Axes>"
            ]
          },
          "metadata": {
            "tags": []
          }
        }
      ]
    },
    {
      "cell_type": "code",
      "metadata": {
        "id": "normal-service"
      },
      "source": [
        "#will use mode for tax and median for mpg to fill 8.6% of missing values\n",
        "df['tax'].fillna(145, inplace=True)\n",
        "df['mpg'].fillna(df['mpg'].mean(), inplace=True)"
      ],
      "id": "normal-service",
      "execution_count": null,
      "outputs": []
    },
    {
      "cell_type": "code",
      "metadata": {
        "id": "olive-edition"
      },
      "source": [
        "df['age']=2021-df['year']\n"
      ],
      "id": "olive-edition",
      "execution_count": null,
      "outputs": []
    },
    {
      "cell_type": "code",
      "metadata": {
        "scrolled": true,
        "id": "express-trailer",
        "outputId": "e8392c2b-2e6a-482b-ea9b-d75709136268"
      },
      "source": [
        "num_col=['year','price','mileage','tax','mpg','engineSize','age']\n",
        "plt.figure(figsize=(15, 8), dpi=80)\n",
        "for idx, c in enumerate(num_col):\n",
        "    plt.subplot(3,3,idx+1)\n",
        "    plt.scatter(df[c], df['price'])\n",
        "    plt.xlabel('Value of '+c  )\n",
        "    plt.ylabel('Value of price')\n",
        "plt.tight_layout()\n",
        "plt.show()"
      ],
      "id": "express-trailer",
      "execution_count": null,
      "outputs": [
        {
          "output_type": "display_data",
          "data": {
            "image/png": "[encoded data removed]",
            "text/plain": [
              "<Figure size 1200x640 with 7 Axes>"
            ]
          },
          "metadata": {
            "tags": []
          }
        }
      ]
    },
    {
      "cell_type": "markdown",
      "metadata": {
        "id": "japanese-jacob"
      },
      "source": [
        "There is an unusual value for the year, let's look at the observation closely. Also, later in the process I discovered 286 observation with engineSize equals 0, because the number is small I will delete the rows."
      ],
      "id": "japanese-jacob"
    },
    {
      "cell_type": "code",
      "metadata": {
        "scrolled": true,
        "id": "egyptian-enough",
        "outputId": "4b1b3dbf-c627-401b-8e22-02113277559c"
      },
      "source": [
        "df[df['year']>2020]"
      ],
      "id": "egyptian-enough",
      "execution_count": null,
      "outputs": [
        {
          "output_type": "execute_result",
          "data": {
            "text/html": [
              "<div>\n",
              "<style scoped>\n",
              "    .dataframe tbody tr th:only-of-type {\n",
              "        vertical-align: middle;\n",
              "    }\n",
              "\n",
              "    .dataframe tbody tr th {\n",
              "        vertical-align: top;\n",
              "    }\n",
              "\n",
              "    .dataframe thead th {\n",
              "        text-align: right;\n",
              "    }\n",
              "</style>\n",
              "<table border=\"1\" class=\"dataframe\">\n",
              "  <thead>\n",
              "    <tr style=\"text-align: right;\">\n",
              "      <th></th>\n",
              "      <th>model</th>\n",
              "      <th>year</th>\n",
              "      <th>price</th>\n",
              "      <th>transmission</th>\n",
              "      <th>mileage</th>\n",
              "      <th>fuelType</th>\n",
              "      <th>tax</th>\n",
              "      <th>mpg</th>\n",
              "      <th>engineSize</th>\n",
              "      <th>brand</th>\n",
              "      <th>age</th>\n",
              "    </tr>\n",
              "  </thead>\n",
              "  <tbody>\n",
              "    <tr>\n",
              "      <th>48528</th>\n",
              "      <td>Fiesta</td>\n",
              "      <td>2060</td>\n",
              "      <td>6495</td>\n",
              "      <td>Automatic</td>\n",
              "      <td>54807</td>\n",
              "      <td>Petrol</td>\n",
              "      <td>205.0</td>\n",
              "      <td>42.8</td>\n",
              "      <td>1.4</td>\n",
              "      <td>ford</td>\n",
              "      <td>-39</td>\n",
              "    </tr>\n",
              "  </tbody>\n",
              "</table>\n",
              "</div>"
            ],
            "text/plain": [
              "         model  year  price transmission  mileage fuelType    tax   mpg  \\\n",
              "48528   Fiesta  2060   6495    Automatic    54807   Petrol  205.0  42.8   \n",
              "\n",
              "       engineSize brand  age  \n",
              "48528         1.4  ford  -39  "
            ]
          },
          "metadata": {
            "tags": []
          },
          "execution_count": 12
        }
      ]
    },
    {
      "cell_type": "code",
      "metadata": {
        "id": "constant-better",
        "outputId": "b6a54ce0-902f-4ab2-9907-908d95f59a0e"
      },
      "source": [
        "df[df['engineSize']==0]"
      ],
      "id": "constant-better",
      "execution_count": null,
      "outputs": [
        {
          "output_type": "execute_result",
          "data": {
            "text/html": [
              "<div>\n",
              "<style scoped>\n",
              "    .dataframe tbody tr th:only-of-type {\n",
              "        vertical-align: middle;\n",
              "    }\n",
              "\n",
              "    .dataframe tbody tr th {\n",
              "        vertical-align: top;\n",
              "    }\n",
              "\n",
              "    .dataframe thead th {\n",
              "        text-align: right;\n",
              "    }\n",
              "</style>\n",
              "<table border=\"1\" class=\"dataframe\">\n",
              "  <thead>\n",
              "    <tr style=\"text-align: right;\">\n",
              "      <th></th>\n",
              "      <th>model</th>\n",
              "      <th>year</th>\n",
              "      <th>price</th>\n",
              "      <th>transmission</th>\n",
              "      <th>mileage</th>\n",
              "      <th>fuelType</th>\n",
              "      <th>tax</th>\n",
              "      <th>mpg</th>\n",
              "      <th>engineSize</th>\n",
              "      <th>brand</th>\n",
              "      <th>age</th>\n",
              "    </tr>\n",
              "  </thead>\n",
              "  <tbody>\n",
              "    <tr>\n",
              "      <th>7505</th>\n",
              "      <td>Q5</td>\n",
              "      <td>2019</td>\n",
              "      <td>44790</td>\n",
              "      <td>Automatic</td>\n",
              "      <td>5886</td>\n",
              "      <td>Petrol</td>\n",
              "      <td>135.0</td>\n",
              "      <td>117.7</td>\n",
              "      <td>0.0</td>\n",
              "      <td>audi</td>\n",
              "      <td>2</td>\n",
              "    </tr>\n",
              "    <tr>\n",
              "      <th>7506</th>\n",
              "      <td>Q3</td>\n",
              "      <td>2019</td>\n",
              "      <td>32788</td>\n",
              "      <td>Automatic</td>\n",
              "      <td>1500</td>\n",
              "      <td>Diesel</td>\n",
              "      <td>145.0</td>\n",
              "      <td>47.1</td>\n",
              "      <td>0.0</td>\n",
              "      <td>audi</td>\n",
              "      <td>2</td>\n",
              "    </tr>\n",
              "    <tr>\n",
              "      <th>7516</th>\n",
              "      <td>Q3</td>\n",
              "      <td>2020</td>\n",
              "      <td>29944</td>\n",
              "      <td>Manual</td>\n",
              "      <td>1500</td>\n",
              "      <td>Petrol</td>\n",
              "      <td>145.0</td>\n",
              "      <td>40.9</td>\n",
              "      <td>0.0</td>\n",
              "      <td>audi</td>\n",
              "      <td>1</td>\n",
              "    </tr>\n",
              "    <tr>\n",
              "      <th>7517</th>\n",
              "      <td>Q3</td>\n",
              "      <td>2020</td>\n",
              "      <td>33333</td>\n",
              "      <td>Automatic</td>\n",
              "      <td>1500</td>\n",
              "      <td>Diesel</td>\n",
              "      <td>145.0</td>\n",
              "      <td>47.1</td>\n",
              "      <td>0.0</td>\n",
              "      <td>audi</td>\n",
              "      <td>1</td>\n",
              "    </tr>\n",
              "    <tr>\n",
              "      <th>7518</th>\n",
              "      <td>Q3</td>\n",
              "      <td>2020</td>\n",
              "      <td>29944</td>\n",
              "      <td>Automatic</td>\n",
              "      <td>1500</td>\n",
              "      <td>Petrol</td>\n",
              "      <td>145.0</td>\n",
              "      <td>32.5</td>\n",
              "      <td>0.0</td>\n",
              "      <td>audi</td>\n",
              "      <td>1</td>\n",
              "    </tr>\n",
              "    <tr>\n",
              "      <th>...</th>\n",
              "      <td>...</td>\n",
              "      <td>...</td>\n",
              "      <td>...</td>\n",
              "      <td>...</td>\n",
              "      <td>...</td>\n",
              "      <td>...</td>\n",
              "      <td>...</td>\n",
              "      <td>...</td>\n",
              "      <td>...</td>\n",
              "      <td>...</td>\n",
              "      <td>...</td>\n",
              "    </tr>\n",
              "    <tr>\n",
              "      <th>105031</th>\n",
              "      <td>Tiguan</td>\n",
              "      <td>2016</td>\n",
              "      <td>15300</td>\n",
              "      <td>Manual</td>\n",
              "      <td>38398</td>\n",
              "      <td>Diesel</td>\n",
              "      <td>145.0</td>\n",
              "      <td>53.3</td>\n",
              "      <td>0.0</td>\n",
              "      <td>vw</td>\n",
              "      <td>5</td>\n",
              "    </tr>\n",
              "    <tr>\n",
              "      <th>105038</th>\n",
              "      <td>Tiguan</td>\n",
              "      <td>2018</td>\n",
              "      <td>24000</td>\n",
              "      <td>Automatic</td>\n",
              "      <td>22200</td>\n",
              "      <td>Diesel</td>\n",
              "      <td>145.0</td>\n",
              "      <td>47.9</td>\n",
              "      <td>0.0</td>\n",
              "      <td>vw</td>\n",
              "      <td>3</td>\n",
              "    </tr>\n",
              "    <tr>\n",
              "      <th>106204</th>\n",
              "      <td>Up</td>\n",
              "      <td>2017</td>\n",
              "      <td>8500</td>\n",
              "      <td>Manual</td>\n",
              "      <td>20324</td>\n",
              "      <td>Petrol</td>\n",
              "      <td>20.0</td>\n",
              "      <td>64.2</td>\n",
              "      <td>0.0</td>\n",
              "      <td>vw</td>\n",
              "      <td>4</td>\n",
              "    </tr>\n",
              "    <tr>\n",
              "      <th>106262</th>\n",
              "      <td>Up</td>\n",
              "      <td>2017</td>\n",
              "      <td>8000</td>\n",
              "      <td>Manual</td>\n",
              "      <td>24444</td>\n",
              "      <td>Petrol</td>\n",
              "      <td>20.0</td>\n",
              "      <td>60.1</td>\n",
              "      <td>0.0</td>\n",
              "      <td>vw</td>\n",
              "      <td>4</td>\n",
              "    </tr>\n",
              "    <tr>\n",
              "      <th>106695</th>\n",
              "      <td>Beetle</td>\n",
              "      <td>2017</td>\n",
              "      <td>13800</td>\n",
              "      <td>Manual</td>\n",
              "      <td>17859</td>\n",
              "      <td>Petrol</td>\n",
              "      <td>125.0</td>\n",
              "      <td>53.3</td>\n",
              "      <td>0.0</td>\n",
              "      <td>vw</td>\n",
              "      <td>4</td>\n",
              "    </tr>\n",
              "  </tbody>\n",
              "</table>\n",
              "<p>286 rows × 11 columns</p>\n",
              "</div>"
            ],
            "text/plain": [
              "          model  year  price transmission  mileage fuelType    tax    mpg  \\\n",
              "7505         Q5  2019  44790    Automatic     5886   Petrol  135.0  117.7   \n",
              "7506         Q3  2019  32788    Automatic     1500   Diesel  145.0   47.1   \n",
              "7516         Q3  2020  29944       Manual     1500   Petrol  145.0   40.9   \n",
              "7517         Q3  2020  33333    Automatic     1500   Diesel  145.0   47.1   \n",
              "7518         Q3  2020  29944    Automatic     1500   Petrol  145.0   32.5   \n",
              "...         ...   ...    ...          ...      ...      ...    ...    ...   \n",
              "105031   Tiguan  2016  15300       Manual    38398   Diesel  145.0   53.3   \n",
              "105038   Tiguan  2018  24000    Automatic    22200   Diesel  145.0   47.9   \n",
              "106204       Up  2017   8500       Manual    20324   Petrol   20.0   64.2   \n",
              "106262       Up  2017   8000       Manual    24444   Petrol   20.0   60.1   \n",
              "106695   Beetle  2017  13800       Manual    17859   Petrol  125.0   53.3   \n",
              "\n",
              "        engineSize brand  age  \n",
              "7505           0.0  audi    2  \n",
              "7506           0.0  audi    2  \n",
              "7516           0.0  audi    1  \n",
              "7517           0.0  audi    1  \n",
              "7518           0.0  audi    1  \n",
              "...            ...   ...  ...  \n",
              "105031         0.0    vw    5  \n",
              "105038         0.0    vw    3  \n",
              "106204         0.0    vw    4  \n",
              "106262         0.0    vw    4  \n",
              "106695         0.0    vw    4  \n",
              "\n",
              "[286 rows x 11 columns]"
            ]
          },
          "metadata": {
            "tags": []
          },
          "execution_count": 13
        }
      ]
    },
    {
      "cell_type": "code",
      "metadata": {
        "id": "lesbian-split"
      },
      "source": [
        "zero_index=df[df['engineSize']==0].index.tolist()\n",
        "\n",
        "zero_index.append(48528)"
      ],
      "id": "lesbian-split",
      "execution_count": null,
      "outputs": []
    },
    {
      "cell_type": "code",
      "metadata": {
        "id": "sexual-salvation"
      },
      "source": [
        "#only one entry, we'll just delete it\n",
        "\n",
        "df.drop(zero_index, axis='index', inplace=True)\n",
        "df.reset_index(drop=True, inplace=True)"
      ],
      "id": "sexual-salvation",
      "execution_count": null,
      "outputs": []
    },
    {
      "cell_type": "markdown",
      "metadata": {
        "id": "critical-repair"
      },
      "source": [
        "# Outliers"
      ],
      "id": "critical-repair"
    },
    {
      "cell_type": "code",
      "metadata": {
        "id": "gross-cowboy",
        "colab": {
          "base_uri": "https://localhost:8080/",
          "height": 235
        },
        "outputId": "d946e7c2-4f1e-4688-8c0a-ac6f48506046"
      },
      "source": [
        "# we'll use log transform later\n",
        "#sns.catplot(x=df['model'], y=df['price'], kind=\"boxen\",\n",
        "#           data=df.sort_values(\"model\"))\n",
        "\n",
        "sns.catplot(x=df['transmission'], y=df['price'], kind=\"boxen\",\n",
        "            data=df.sort_values(\"transmission\"))\n",
        "\n",
        "sns.catplot(x=df['fuelType'], y=df['price'], kind=\"boxen\",\n",
        "            data=df.sort_values(\"fuelType\"))\n",
        "\n",
        "g=sns.catplot(x=df['brand'], y=df['price'], kind=\"boxen\",\n",
        "            data=df.sort_values(\"brand\"))  \n",
        "g.set_xticklabels(rotation=30)\n",
        "\n",
        "plt.tight_layout()"
      ],
      "id": "gross-cowboy",
      "execution_count": null,
      "outputs": [
        {
          "output_type": "error",
          "ename": "NameError",
          "evalue": "ignored",
          "traceback": [
            "\u001b[0;31m---------------------------------------------------------------------------\u001b[0m",
            "\u001b[0;31mNameError\u001b[0m                                 Traceback (most recent call last)",
            "\u001b[0;32m<ipython-input-1-966f70ca5f63>\u001b[0m in \u001b[0;36m<module>\u001b[0;34m()\u001b[0m\n\u001b[1;32m      3\u001b[0m \u001b[0;31m#           data=df.sort_values(\"model\"))\u001b[0m\u001b[0;34m\u001b[0m\u001b[0;34m\u001b[0m\u001b[0;34m\u001b[0m\u001b[0m\n\u001b[1;32m      4\u001b[0m \u001b[0;34m\u001b[0m\u001b[0m\n\u001b[0;32m----> 5\u001b[0;31m sns.catplot(x=df['transmission'], y=df['price'], kind=\"boxen\",\n\u001b[0m\u001b[1;32m      6\u001b[0m             data=df.sort_values(\"transmission\"))\n\u001b[1;32m      7\u001b[0m \u001b[0;34m\u001b[0m\u001b[0m\n",
            "\u001b[0;31mNameError\u001b[0m: name 'sns' is not defined"
          ]
        }
      ]
    },
    {
      "cell_type": "code",
      "metadata": {
        "id": "yellow-reunion"
      },
      "source": [
        "# Compute the correlation matrix\n",
        "corr = df.corr()\n",
        "\n",
        "# Generate a mask for the upper triangle\n",
        "mask = np.triu(np.ones_like(corr, dtype=bool))\n",
        "\n",
        "# Set up the matplotlib figure\n",
        "f, ax = plt.subplots(figsize=(11, 9))\n",
        "\n",
        "# Generate a custom diverging colormap\n",
        "cmap = sns.diverging_palette(230, 20, as_cmap=True)\n",
        "\n",
        "# Draw the heatmap with the mask and correct aspect ratio\n",
        "sns.heatmap(corr, mask=mask, cmap=cmap, vmax=1, vmin=-1, center=0,\n",
        "            square=True, linewidths=.5, cbar_kws={\"shrink\": .5})"
      ],
      "id": "yellow-reunion",
      "execution_count": null,
      "outputs": []
    },
    {
      "cell_type": "markdown",
      "metadata": {
        "id": "contemporary-facing"
      },
      "source": [
        "Multicollinearity is not a huge proble in our case, I can see ony age - mileage pair with high collinearity."
      ],
      "id": "contemporary-facing"
    },
    {
      "cell_type": "markdown",
      "metadata": {
        "id": "literary-biography"
      },
      "source": [
        "# Mutual information"
      ],
      "id": "literary-biography"
    },
    {
      "cell_type": "code",
      "metadata": {
        "id": "transsexual-quest"
      },
      "source": [
        "X = df.copy()\n",
        "y = X.pop(\"price\")\n",
        "\n",
        "# Label encoding for categoricals\n",
        "for colname in X.select_dtypes(\"object\"):\n",
        "    X[colname], _ = X[colname].factorize()\n",
        "\n",
        "# All discrete features should now have integer dtypes (double-check this before using MI!)\n",
        "discrete_features = X.dtypes == int"
      ],
      "id": "transsexual-quest",
      "execution_count": null,
      "outputs": []
    },
    {
      "cell_type": "code",
      "metadata": {
        "id": "processed-danger",
        "outputId": "c17fd55e-6798-404b-e383-8db7bdcd2d41"
      },
      "source": [
        "from sklearn.feature_selection import mutual_info_regression\n",
        "\n",
        "def make_mi_scores(X, y, discrete_features):\n",
        "    mi_scores = mutual_info_regression(X, y, discrete_features=discrete_features)\n",
        "    mi_scores = pd.Series(mi_scores, name=\"MI Scores\", index=X.columns)\n",
        "    mi_scores = mi_scores.sort_values(ascending=False)\n",
        "    return mi_scores\n",
        "\n",
        "mi_scores = make_mi_scores(X, y, discrete_features)\n",
        "mi_scores[::]  # show features with their MI scores"
      ],
      "id": "processed-danger",
      "execution_count": null,
      "outputs": [
        {
          "output_type": "execute_result",
          "data": {
            "text/plain": [
              "model           0.786104\n",
              "engineSize      0.422334\n",
              "mpg             0.416606\n",
              "mileage         0.415068\n",
              "year            0.364941\n",
              "age             0.363006\n",
              "brand           0.347841\n",
              "transmission    0.258483\n",
              "tax             0.194231\n",
              "fuelType        0.075925\n",
              "Name: MI Scores, dtype: float64"
            ]
          },
          "metadata": {
            "tags": []
          },
          "execution_count": 19
        }
      ]
    },
    {
      "cell_type": "code",
      "metadata": {
        "id": "preliminary-executive",
        "outputId": "f1297f52-0986-45f4-9216-ad20728a4c7e"
      },
      "source": [
        "# to compare features vusually create a plot\n",
        "def plot_mi_scores(scores):\n",
        "    scores = scores.sort_values(ascending=True)\n",
        "    width = np.arange(len(scores))\n",
        "    ticks = list(scores.index)\n",
        "    plt.barh(width, scores)\n",
        "    plt.yticks(width, ticks)\n",
        "    plt.title(\"Mutual Information Scores\")\n",
        "\n",
        "\n",
        "plt.figure(dpi=100, figsize=(8, 5))\n",
        "plot_mi_scores(mi_scores)"
      ],
      "id": "preliminary-executive",
      "execution_count": null,
      "outputs": [
        {
          "output_type": "display_data",
          "data": {
            "image/png": "[encoded data removed]",
            "text/plain": [
              "<Figure size 800x500 with 1 Axes>"
            ]
          },
          "metadata": {
            "tags": []
          }
        }
      ]
    },
    {
      "cell_type": "markdown",
      "metadata": {
        "id": "behind-czech"
      },
      "source": [
        "model is the biggest contributor into varience of the target"
      ],
      "id": "behind-czech"
    },
    {
      "cell_type": "code",
      "metadata": {
        "id": "dangerous-journalist",
        "outputId": "9e99bbcb-0335-4e1f-a7d4-bccfa48fbe9a"
      },
      "source": [
        "sns.lmplot(x=\"mileage\", y=\"price\", hue=\"transmission\", data=df)\n",
        "plt.title('mileage vs price for different transmission')\n",
        "sns.lmplot(x=\"mpg\", y=\"price\", hue=\"fuelType\", data=df)\n",
        "plt.title('mpg vs price for different fuel types')"
      ],
      "id": "dangerous-journalist",
      "execution_count": null,
      "outputs": [
        {
          "output_type": "execute_result",
          "data": {
            "text/plain": [
              "Text(0.5, 1.0, 'mpg vs price for different fuel types')"
            ]
          },
          "metadata": {
            "tags": []
          },
          "execution_count": 21
        },
        {
          "output_type": "display_data",
          "data": {
            "image/png": "[encoded data removed]",
            "text/plain": [
              "<Figure size 451.35x360 with 1 Axes>"
            ]
          },
          "metadata": {
            "tags": []
          }
        },
        {
          "output_type": "display_data",
          "data": {
            "image/png": "[encoded data removed]",
            "text/plain": [
              "<Figure size 435.85x360 with 1 Axes>"
            ]
          },
          "metadata": {
            "tags": []
          }
        }
      ]
    },
    {
      "cell_type": "markdown",
      "metadata": {
        "id": "lesser-accessory"
      },
      "source": [
        "the plots clearly show while fuelType and transmission scored low on MI plot, there is an interaction between fuelType and mpg - two distinct groups, and transmission-mileage - 3 distinct groups with different price changes."
      ],
      "id": "lesser-accessory"
    },
    {
      "cell_type": "markdown",
      "metadata": {
        "id": "considered-better"
      },
      "source": [
        "# Principal Componet Analysis\n"
      ],
      "id": "considered-better"
    },
    {
      "cell_type": "code",
      "metadata": {
        "id": "excited-hygiene",
        "outputId": "b9cad48b-6d58-4a3b-e56c-d2c783d33754"
      },
      "source": [
        "df.info()"
      ],
      "id": "excited-hygiene",
      "execution_count": null,
      "outputs": [
        {
          "output_type": "stream",
          "text": [
            "<class 'pandas.core.frame.DataFrame'>\n",
            "RangeIndex: 108253 entries, 0 to 108252\n",
            "Data columns (total 11 columns):\n",
            " #   Column        Non-Null Count   Dtype  \n",
            "---  ------        --------------   -----  \n",
            " 0   model         108253 non-null  object \n",
            " 1   year          108253 non-null  int64  \n",
            " 2   price         108253 non-null  int64  \n",
            " 3   transmission  108253 non-null  object \n",
            " 4   mileage       108253 non-null  int64  \n",
            " 5   fuelType      108253 non-null  object \n",
            " 6   tax           108253 non-null  float64\n",
            " 7   mpg           108253 non-null  float64\n",
            " 8   engineSize    108253 non-null  float64\n",
            " 9   brand         108253 non-null  object \n",
            " 10  age           108253 non-null  int64  \n",
            "dtypes: float64(3), int64(4), object(4)\n",
            "memory usage: 9.1+ MB\n"
          ],
          "name": "stdout"
        }
      ]
    },
    {
      "cell_type": "code",
      "metadata": {
        "id": "endangered-pantyhose"
      },
      "source": [
        "features = [\"mileage\", \"tax\", \"mpg\", \"engineSize\",'age']\n",
        "\n",
        "X = df.copy()\n",
        "y = X.pop('price')\n",
        "X = X.loc[:, features]\n",
        "\n",
        "# Standardize\n",
        "X_scaled = (X - X.mean(axis=0)) / X.std(axis=0)"
      ],
      "id": "endangered-pantyhose",
      "execution_count": null,
      "outputs": []
    },
    {
      "cell_type": "code",
      "metadata": {
        "id": "ongoing-suggestion",
        "outputId": "63aeb21a-bb7a-4f70-b6fc-de8251a25bba"
      },
      "source": [
        "#fit PCA\n",
        "from sklearn.decomposition import PCA\n",
        "\n",
        "# Create principal components\n",
        "pca = PCA()\n",
        "X_pca = pca.fit_transform(X_scaled)\n",
        "\n",
        "# Convert to dataframe\n",
        "component_names = [f\"PC{i+1}\" for i in range(X_pca.shape[1])]\n",
        "X_pca = pd.DataFrame(X_pca, columns=component_names)\n",
        "\n",
        "X_pca.head()"
      ],
      "id": "ongoing-suggestion",
      "execution_count": null,
      "outputs": [
        {
          "output_type": "execute_result",
          "data": {
            "text/html": [
              "<div>\n",
              "<style scoped>\n",
              "    .dataframe tbody tr th:only-of-type {\n",
              "        vertical-align: middle;\n",
              "    }\n",
              "\n",
              "    .dataframe tbody tr th {\n",
              "        vertical-align: top;\n",
              "    }\n",
              "\n",
              "    .dataframe thead th {\n",
              "        text-align: right;\n",
              "    }\n",
              "</style>\n",
              "<table border=\"1\" class=\"dataframe\">\n",
              "  <thead>\n",
              "    <tr style=\"text-align: right;\">\n",
              "      <th></th>\n",
              "      <th>PC1</th>\n",
              "      <th>PC2</th>\n",
              "      <th>PC3</th>\n",
              "      <th>PC4</th>\n",
              "      <th>PC5</th>\n",
              "    </tr>\n",
              "  </thead>\n",
              "  <tbody>\n",
              "    <tr>\n",
              "      <th>0</th>\n",
              "      <td>-0.292048</td>\n",
              "      <td>0.223990</td>\n",
              "      <td>-0.485656</td>\n",
              "      <td>0.364636</td>\n",
              "      <td>0.236433</td>\n",
              "    </tr>\n",
              "    <tr>\n",
              "      <th>1</th>\n",
              "      <td>1.595531</td>\n",
              "      <td>0.157939</td>\n",
              "      <td>1.064332</td>\n",
              "      <td>-0.790885</td>\n",
              "      <td>0.027591</td>\n",
              "    </tr>\n",
              "    <tr>\n",
              "      <th>2</th>\n",
              "      <td>1.226956</td>\n",
              "      <td>0.557381</td>\n",
              "      <td>-0.102919</td>\n",
              "      <td>-1.045066</td>\n",
              "      <td>0.081364</td>\n",
              "    </tr>\n",
              "    <tr>\n",
              "      <th>3</th>\n",
              "      <td>0.241185</td>\n",
              "      <td>-0.189604</td>\n",
              "      <td>0.734330</td>\n",
              "      <td>0.846121</td>\n",
              "      <td>0.069353</td>\n",
              "    </tr>\n",
              "    <tr>\n",
              "      <th>4</th>\n",
              "      <td>-1.199531</td>\n",
              "      <td>1.142641</td>\n",
              "      <td>-0.895536</td>\n",
              "      <td>0.032835</td>\n",
              "      <td>-0.050709</td>\n",
              "    </tr>\n",
              "  </tbody>\n",
              "</table>\n",
              "</div>"
            ],
            "text/plain": [
              "        PC1       PC2       PC3       PC4       PC5\n",
              "0 -0.292048  0.223990 -0.485656  0.364636  0.236433\n",
              "1  1.595531  0.157939  1.064332 -0.790885  0.027591\n",
              "2  1.226956  0.557381 -0.102919 -1.045066  0.081364\n",
              "3  0.241185 -0.189604  0.734330  0.846121  0.069353\n",
              "4 -1.199531  1.142641 -0.895536  0.032835 -0.050709"
            ]
          },
          "metadata": {
            "tags": []
          },
          "execution_count": 24
        }
      ]
    },
    {
      "cell_type": "code",
      "metadata": {
        "id": "featured-payday",
        "outputId": "2c584cb8-88be-450e-ef15-76e3908f6369"
      },
      "source": [
        "loadings = pd.DataFrame(\n",
        "    pca.components_.T,  # transpose the matrix of loadings\n",
        "    columns=component_names,  # so the columns are the principal components\n",
        "    index=X.columns,  # and the rows are the original features\n",
        ")\n",
        "loadings"
      ],
      "id": "featured-payday",
      "execution_count": null,
      "outputs": [
        {
          "output_type": "execute_result",
          "data": {
            "text/html": [
              "<div>\n",
              "<style scoped>\n",
              "    .dataframe tbody tr th:only-of-type {\n",
              "        vertical-align: middle;\n",
              "    }\n",
              "\n",
              "    .dataframe tbody tr th {\n",
              "        vertical-align: top;\n",
              "    }\n",
              "\n",
              "    .dataframe thead th {\n",
              "        text-align: right;\n",
              "    }\n",
              "</style>\n",
              "<table border=\"1\" class=\"dataframe\">\n",
              "  <thead>\n",
              "    <tr style=\"text-align: right;\">\n",
              "      <th></th>\n",
              "      <th>PC1</th>\n",
              "      <th>PC2</th>\n",
              "      <th>PC3</th>\n",
              "      <th>PC4</th>\n",
              "      <th>PC5</th>\n",
              "    </tr>\n",
              "  </thead>\n",
              "  <tbody>\n",
              "    <tr>\n",
              "      <th>mileage</th>\n",
              "      <td>0.548852</td>\n",
              "      <td>-0.411732</td>\n",
              "      <td>-0.108842</td>\n",
              "      <td>0.067408</td>\n",
              "      <td>-0.716134</td>\n",
              "    </tr>\n",
              "    <tr>\n",
              "      <th>tax</th>\n",
              "      <td>-0.455030</td>\n",
              "      <td>-0.406276</td>\n",
              "      <td>-0.296474</td>\n",
              "      <td>0.734840</td>\n",
              "      <td>-0.000928</td>\n",
              "    </tr>\n",
              "    <tr>\n",
              "      <th>mpg</th>\n",
              "      <td>0.432801</td>\n",
              "      <td>0.418597</td>\n",
              "      <td>0.423938</td>\n",
              "      <td>0.670586</td>\n",
              "      <td>0.089724</td>\n",
              "    </tr>\n",
              "    <tr>\n",
              "      <th>engineSize</th>\n",
              "      <td>-0.138699</td>\n",
              "      <td>-0.567722</td>\n",
              "      <td>0.802770</td>\n",
              "      <td>-0.075770</td>\n",
              "      <td>0.090963</td>\n",
              "    </tr>\n",
              "    <tr>\n",
              "      <th>age</th>\n",
              "      <td>0.533999</td>\n",
              "      <td>-0.409737</td>\n",
              "      <td>-0.275851</td>\n",
              "      <td>-0.006296</td>\n",
              "      <td>0.686168</td>\n",
              "    </tr>\n",
              "  </tbody>\n",
              "</table>\n",
              "</div>"
            ],
            "text/plain": [
              "                 PC1       PC2       PC3       PC4       PC5\n",
              "mileage     0.548852 -0.411732 -0.108842  0.067408 -0.716134\n",
              "tax        -0.455030 -0.406276 -0.296474  0.734840 -0.000928\n",
              "mpg         0.432801  0.418597  0.423938  0.670586  0.089724\n",
              "engineSize -0.138699 -0.567722  0.802770 -0.075770  0.090963\n",
              "age         0.533999 -0.409737 -0.275851 -0.006296  0.686168"
            ]
          },
          "metadata": {
            "tags": []
          },
          "execution_count": 25
        }
      ]
    },
    {
      "cell_type": "markdown",
      "metadata": {
        "id": "pressed-status"
      },
      "source": [
        "The first component (PC1) shows high contarast between older vihicles with high mileage and newer with low mileage, the 4th- contrast between tax and engineSize. Positive loadings indicate a variable and a principal component are positively correlated: an increase in one results in an increase in the other. Negative loadings indicate a negative correlation. Large (either positive or negative) loadings indicate that a variable has a strong effect on that principal component."
      ],
      "id": "pressed-status"
    },
    {
      "cell_type": "code",
      "metadata": {
        "id": "voluntary-yesterday",
        "outputId": "09310ee7-0f4e-4f99-d1af-17b446a0072b"
      },
      "source": [
        "# Look at explained variance\n",
        "def plot_variance(pca, width=8, dpi=100):\n",
        "    # Create figure\n",
        "    fig, axs = plt.subplots(1, 2)\n",
        "    n = pca.n_components_\n",
        "    grid = np.arange(1, n + 1)\n",
        "    # Explained variance\n",
        "    evr = pca.explained_variance_ratio_\n",
        "    axs[0].bar(grid, evr)\n",
        "    axs[0].set(\n",
        "        xlabel=\"Component\", title=\"% Explained Variance\", ylim=(0.0, 1.0)\n",
        "    )\n",
        "    # Cumulative Variance\n",
        "    cv = np.cumsum(evr)\n",
        "    axs[1].plot(np.r_[0, grid], np.r_[0, cv], \"o-\")\n",
        "    axs[1].set(\n",
        "        xlabel=\"Component\", title=\"% Cumulative Variance\", ylim=(0.0, 1.0)\n",
        "    )\n",
        "    # Set up figure\n",
        "    fig.set(figwidth=8, dpi=100)\n",
        "    return axs\n",
        "plot_variance(pca);"
      ],
      "id": "voluntary-yesterday",
      "execution_count": null,
      "outputs": [
        {
          "output_type": "display_data",
          "data": {
            "image/png": "[encoded data removed]",
            "text/plain": [
              "<Figure size 800x400 with 2 Axes>"
            ]
          },
          "metadata": {
            "tags": []
          }
        }
      ]
    },
    {
      "cell_type": "code",
      "metadata": {
        "id": "dynamic-carter",
        "outputId": "4ae0b0ca-3bab-49c7-f5cc-f40310df3226"
      },
      "source": [
        "mi_scores = make_mi_scores(X_pca, y, discrete_features=False)\n",
        "mi_scores"
      ],
      "id": "dynamic-carter",
      "execution_count": null,
      "outputs": [
        {
          "output_type": "execute_result",
          "data": {
            "text/plain": [
              "PC1    0.552705\n",
              "PC3    0.455820\n",
              "PC4    0.382835\n",
              "PC2    0.304570\n",
              "PC5    0.196373\n",
              "Name: MI Scores, dtype: float64"
            ]
          },
          "metadata": {
            "tags": []
          },
          "execution_count": 27
        }
      ]
    },
    {
      "cell_type": "markdown",
      "metadata": {
        "id": "caroline-identifier"
      },
      "source": [
        "While the first principal components is the largest contributor to the varience of the dependent variable, other components are important enough not to diregard them."
      ],
      "id": "caroline-identifier"
    },
    {
      "cell_type": "code",
      "metadata": {
        "id": "dated-russian"
      },
      "source": [
        "df[\"model\"] = df[\"model\"].astype(\"category\")\n",
        "df[\"transmission\"] = df[\"transmission\"].astype(\"category\")\n",
        "df[\"fuelType\"] = df[\"fuelType\"].astype(\"category\")\n",
        "df[\"brand\"] = df[\"brand\"].astype(\"category\")"
      ],
      "id": "dated-russian",
      "execution_count": null,
      "outputs": []
    },
    {
      "cell_type": "markdown",
      "metadata": {
        "id": "mineral-compromise"
      },
      "source": [
        "# Establish Baseline\n",
        "Finally, let's establish a baseline score to judge our feature engineering against"
      ],
      "id": "mineral-compromise"
    },
    {
      "cell_type": "code",
      "metadata": {
        "id": "terminal-stability"
      },
      "source": [
        "def score_dataset(X, y, model=xgb.XGBRegressor()):\n",
        "    # Label encoding for categoricals\n",
        "    #\n",
        "    # Label encoding is good for XGBoost and RandomForest, but one-hot\n",
        "    # would be better for models like Lasso or Ridge. The `cat.codes`\n",
        "    # attribute holds the category levels.\n",
        "    for colname in X.select_dtypes([\"category\"]):\n",
        "        X[colname] = X[colname].cat.codes\n",
        "    # Metric is RMSLE (Root Mean Squared Log Error)\n",
        "    log_y = np.log(y)\n",
        "    score = cross_val_score(\n",
        "        model, X, log_y, cv=5, scoring=\"neg_mean_squared_error\",\n",
        "    )\n",
        "    score = -1 * score.mean()\n",
        "    score = np.sqrt(score)\n",
        "    return score"
      ],
      "id": "terminal-stability",
      "execution_count": null,
      "outputs": []
    },
    {
      "cell_type": "code",
      "metadata": {
        "id": "personal-discussion",
        "outputId": "b3de4fba-56a5-492c-95b1-c3dfa470dbf5"
      },
      "source": [
        "X = df.copy()\n",
        "y = X.pop(\"price\")\n",
        "\n",
        "baseline_score = score_dataset(X, y)\n",
        "print(f\"Baseline score: {baseline_score:.5f} RMSLE\")"
      ],
      "id": "personal-discussion",
      "execution_count": null,
      "outputs": [
        {
          "output_type": "stream",
          "text": [
            "Baseline score: 0.25839 RMSLE\n"
          ],
          "name": "stdout"
        }
      ]
    },
    {
      "cell_type": "code",
      "metadata": {
        "id": "artificial-weapon"
      },
      "source": [
        "def make_mi_scores(X, y):\n",
        "    X = X.copy()\n",
        "    for colname in X.select_dtypes([\"object\", \"category\"]):\n",
        "        X[colname], _ = X[colname].factorize()\n",
        "    # All discrete features should now have integer dtypes\n",
        "    discrete_features = [pd.api.types.is_integer_dtype(t) for t in X.dtypes]\n",
        "    mi_scores = mutual_info_regression(X, y, discrete_features=discrete_features, random_state=0)\n",
        "    mi_scores = pd.Series(mi_scores, name=\"MI Scores\", index=X.columns)\n",
        "    mi_scores = mi_scores.sort_values(ascending=False)\n",
        "    return mi_scores"
      ],
      "id": "artificial-weapon",
      "execution_count": null,
      "outputs": []
    },
    {
      "cell_type": "code",
      "metadata": {
        "id": "underlying-blame",
        "outputId": "2da5f02f-50a1-4739-f9a6-6ebc3df7c7b1"
      },
      "source": [
        "X = df.copy()\n",
        "y = X.pop(\"price\")\n",
        "\n",
        "mi_scores = make_mi_scores(X, y)\n",
        "mi_scores"
      ],
      "id": "underlying-blame",
      "execution_count": null,
      "outputs": [
        {
          "output_type": "execute_result",
          "data": {
            "text/plain": [
              "model           0.814089\n",
              "mileage         0.809318\n",
              "engineSize      0.423454\n",
              "mpg             0.417586\n",
              "year            0.361903\n",
              "age             0.361903\n",
              "brand           0.345241\n",
              "transmission    0.262695\n",
              "tax             0.193936\n",
              "fuelType        0.072586\n",
              "Name: MI Scores, dtype: float64"
            ]
          },
          "metadata": {
            "tags": []
          },
          "execution_count": 32
        }
      ]
    },
    {
      "cell_type": "code",
      "metadata": {
        "id": "absolute-government",
        "outputId": "0a1e260b-55a9-4700-9a5f-8a6e44c01be1"
      },
      "source": [
        "#delete uninformative/redundant features, we already use age variable instead of year.\n",
        "df.drop(['year'], axis=1, inplace=True)\n",
        "\n",
        "X = df.copy()\n",
        "y = X.pop(\"price\")\n",
        "\n",
        "\n",
        "score_dataset(X, y)"
      ],
      "id": "absolute-government",
      "execution_count": null,
      "outputs": [
        {
          "output_type": "execute_result",
          "data": {
            "text/plain": [
              "0.25919670959397806"
            ]
          },
          "metadata": {
            "tags": []
          },
          "execution_count": 33
        }
      ]
    },
    {
      "cell_type": "code",
      "metadata": {
        "id": "light-gibraltar",
        "outputId": "6063dda7-e5d6-48c4-bc0e-7781c5d93b81"
      },
      "source": [
        "df['mileage_age']=df['mileage']/df['age']\n",
        "X = df.copy()\n",
        "y = X.pop(\"price\")\n",
        "\n",
        "\n",
        "score_dataset(X, y)"
      ],
      "id": "light-gibraltar",
      "execution_count": null,
      "outputs": [
        {
          "output_type": "execute_result",
          "data": {
            "text/plain": [
              "0.25236318420418474"
            ]
          },
          "metadata": {
            "tags": []
          },
          "execution_count": 34
        }
      ]
    },
    {
      "cell_type": "code",
      "metadata": {
        "id": "occupied-covering",
        "outputId": "ec27eaa9-6872-4ab2-d346-d006e99c38e6"
      },
      "source": [
        "df['tax_engineSize']=df['tax']*df['engineSize']\n",
        "X = df.copy()\n",
        "y = X.pop(\"price\")\n",
        "\n",
        "\n",
        "score_dataset(X, y)\n"
      ],
      "id": "occupied-covering",
      "execution_count": null,
      "outputs": [
        {
          "output_type": "execute_result",
          "data": {
            "text/plain": [
              "0.25118991216524367"
            ]
          },
          "metadata": {
            "tags": []
          },
          "execution_count": 35
        }
      ]
    },
    {
      "cell_type": "code",
      "metadata": {
        "scrolled": true,
        "id": "pleased-thomas",
        "outputId": "384b5fec-555a-4e02-8d8a-fd1ed8585e9e"
      },
      "source": [
        "X = df.copy()\n",
        "y = X.pop(\"price\")\n",
        "\n",
        "mi_scores = make_mi_scores(X, y)\n",
        "mi_scores"
      ],
      "id": "pleased-thomas",
      "execution_count": null,
      "outputs": [
        {
          "output_type": "execute_result",
          "data": {
            "text/plain": [
              "model             0.810773\n",
              "mileage           0.806799\n",
              "tax_engineSize    0.634813\n",
              "engineSize        0.424483\n",
              "mpg               0.413722\n",
              "age               0.365094\n",
              "brand             0.343907\n",
              "mileage_age       0.281572\n",
              "transmission      0.261056\n",
              "tax               0.192388\n",
              "fuelType          0.073598\n",
              "Name: MI Scores, dtype: float64"
            ]
          },
          "metadata": {
            "tags": []
          },
          "execution_count": 36
        }
      ]
    },
    {
      "cell_type": "markdown",
      "metadata": {
        "id": "rotary-thanks"
      },
      "source": [
        "# Comparing models"
      ],
      "id": "rotary-thanks"
    },
    {
      "cell_type": "code",
      "metadata": {
        "id": "confirmed-portuguese",
        "outputId": "03eb5849-34d1-4c67-95a8-a8312efbc303"
      },
      "source": [
        "#target distribution is skewed, use log transformation to normalize it\n",
        "df['price_log']=np.log(df['price'])\n",
        "sns.histplot(df['price'])\n"
      ],
      "id": "confirmed-portuguese",
      "execution_count": null,
      "outputs": [
        {
          "output_type": "execute_result",
          "data": {
            "text/plain": [
              "<AxesSubplot:xlabel='price', ylabel='Count'>"
            ]
          },
          "metadata": {
            "tags": []
          },
          "execution_count": 37
        },
        {
          "output_type": "display_data",
          "data": {
            "image/png": "[encoded data removed]",
            "text/plain": [
              "<Figure size 432x288 with 1 Axes>"
            ]
          },
          "metadata": {
            "tags": []
          }
        }
      ]
    },
    {
      "cell_type": "code",
      "metadata": {
        "id": "moral-crystal",
        "outputId": "ee903275-5da9-4eaa-f3ac-dad110fc31e9"
      },
      "source": [
        "sns.histplot(df['price_log'])"
      ],
      "id": "moral-crystal",
      "execution_count": null,
      "outputs": [
        {
          "output_type": "execute_result",
          "data": {
            "text/plain": [
              "<AxesSubplot:xlabel='price_log', ylabel='Count'>"
            ]
          },
          "metadata": {
            "tags": []
          },
          "execution_count": 38
        },
        {
          "output_type": "display_data",
          "data": {
            "image/png": "[encoded data removed]",
            "text/plain": [
              "<Figure size 432x288 with 1 Axes>"
            ]
          },
          "metadata": {
            "tags": []
          }
        }
      ]
    },
    {
      "cell_type": "code",
      "metadata": {
        "scrolled": true,
        "id": "global-coverage",
        "outputId": "faf1e770-ae24-4baf-855a-ac974544ae71"
      },
      "source": [
        "df.info()"
      ],
      "id": "global-coverage",
      "execution_count": null,
      "outputs": [
        {
          "output_type": "stream",
          "text": [
            "<class 'pandas.core.frame.DataFrame'>\n",
            "RangeIndex: 108253 entries, 0 to 108252\n",
            "Data columns (total 13 columns):\n",
            " #   Column          Non-Null Count   Dtype   \n",
            "---  ------          --------------   -----   \n",
            " 0   model           108253 non-null  category\n",
            " 1   price           108253 non-null  int64   \n",
            " 2   transmission    108253 non-null  category\n",
            " 3   mileage         108253 non-null  int64   \n",
            " 4   fuelType        108253 non-null  category\n",
            " 5   tax             108253 non-null  float64 \n",
            " 6   mpg             108253 non-null  float64 \n",
            " 7   engineSize      108253 non-null  float64 \n",
            " 8   brand           108253 non-null  category\n",
            " 9   age             108253 non-null  int64   \n",
            " 10  mileage_age     108253 non-null  float64 \n",
            " 11  tax_engineSize  108253 non-null  float64 \n",
            " 12  price_log       108253 non-null  float64 \n",
            "dtypes: category(4), float64(6), int64(3)\n",
            "memory usage: 8.0 MB\n"
          ],
          "name": "stdout"
        }
      ]
    },
    {
      "cell_type": "markdown",
      "metadata": {
        "id": "laughing-alabama"
      },
      "source": [
        "Scaling the features will make machine learning algorithns to perform better. All coefficient interpretation will change to units snandard deviation."
      ],
      "id": "laughing-alabama"
    },
    {
      "cell_type": "code",
      "metadata": {
        "id": "digital-harrison",
        "outputId": "14aebcdb-69c7-48b8-ff62-d91025c2f771"
      },
      "source": [
        "#scaling numerical features\n",
        "num_col=[col for col in df.columns if (df[col].dtypes=='int64') | (df[col].dtypes=='float64')]\n",
        "num_col.remove('price')\n",
        "num_col.remove('price_log')\n",
        "cat_col=[col for col in df.columns if (df[col].dtype.name=='category')]\n",
        "X = df[num_col]\n",
        "data_scaler = StandardScaler()\n",
        "data_scaler.fit(X)\n",
        "data_trans=data_scaler.transform(X)\n",
        "data_scaled = pd.DataFrame(data_trans, columns=[num_col])\n",
        "data_scaled\n",
        "#data_transform = pd.concat([data_scaled,df[cat_col]], axis=1, ignore_index=True)\n",
        "#data_transform"
      ],
      "id": "digital-harrison",
      "execution_count": null,
      "outputs": [
        {
          "output_type": "execute_result",
          "data": {
            "text/html": [
              "<div>\n",
              "<style scoped>\n",
              "    .dataframe tbody tr th:only-of-type {\n",
              "        vertical-align: middle;\n",
              "    }\n",
              "\n",
              "    .dataframe tbody tr th {\n",
              "        vertical-align: top;\n",
              "    }\n",
              "\n",
              "    .dataframe thead tr th {\n",
              "        text-align: left;\n",
              "    }\n",
              "</style>\n",
              "<table border=\"1\" class=\"dataframe\">\n",
              "  <thead>\n",
              "    <tr>\n",
              "      <th></th>\n",
              "      <th>mileage</th>\n",
              "      <th>tax</th>\n",
              "      <th>mpg</th>\n",
              "      <th>engineSize</th>\n",
              "      <th>age</th>\n",
              "      <th>mileage_age</th>\n",
              "      <th>tax_engineSize</th>\n",
              "    </tr>\n",
              "  </thead>\n",
              "  <tbody>\n",
              "    <tr>\n",
              "      <th>0</th>\n",
              "      <td>-0.344395</td>\n",
              "      <td>0.453605</td>\n",
              "      <td>0.027209</td>\n",
              "      <td>-0.482651</td>\n",
              "      <td>0.046176</td>\n",
              "      <td>-0.390387</td>\n",
              "      <td>-0.017527</td>\n",
              "    </tr>\n",
              "    <tr>\n",
              "      <th>1</th>\n",
              "      <td>0.621769</td>\n",
              "      <td>-1.686935</td>\n",
              "      <td>0.679993</td>\n",
              "      <td>0.605888</td>\n",
              "      <td>0.517615</td>\n",
              "      <td>0.578206</td>\n",
              "      <td>-1.039625</td>\n",
              "    </tr>\n",
              "    <tr>\n",
              "      <th>2</th>\n",
              "      <td>0.326416</td>\n",
              "      <td>-1.522279</td>\n",
              "      <td>0.027209</td>\n",
              "      <td>-0.482651</td>\n",
              "      <td>0.517615</td>\n",
              "      <td>0.211665</td>\n",
              "      <td>-1.027600</td>\n",
              "    </tr>\n",
              "    <tr>\n",
              "      <th>3</th>\n",
              "      <td>0.137884</td>\n",
              "      <td>0.371276</td>\n",
              "      <td>0.909952</td>\n",
              "      <td>0.605888</td>\n",
              "      <td>0.046176</td>\n",
              "      <td>0.357766</td>\n",
              "      <td>0.463461</td>\n",
              "    </tr>\n",
              "    <tr>\n",
              "      <th>4</th>\n",
              "      <td>-0.992832</td>\n",
              "      <td>0.371276</td>\n",
              "      <td>-0.403036</td>\n",
              "      <td>-1.208344</td>\n",
              "      <td>-0.896703</td>\n",
              "      <td>-1.249991</td>\n",
              "      <td>-0.408329</td>\n",
              "    </tr>\n",
              "    <tr>\n",
              "      <th>...</th>\n",
              "      <td>...</td>\n",
              "      <td>...</td>\n",
              "      <td>...</td>\n",
              "      <td>...</td>\n",
              "      <td>...</td>\n",
              "      <td>...</td>\n",
              "      <td>...</td>\n",
              "    </tr>\n",
              "    <tr>\n",
              "      <th>108248</th>\n",
              "      <td>2.405925</td>\n",
              "      <td>0.041962</td>\n",
              "      <td>0.286839</td>\n",
              "      <td>0.605888</td>\n",
              "      <td>2.403373</td>\n",
              "      <td>0.865729</td>\n",
              "      <td>0.222967</td>\n",
              "    </tr>\n",
              "    <tr>\n",
              "      <th>108249</th>\n",
              "      <td>3.071591</td>\n",
              "      <td>0.371276</td>\n",
              "      <td>-0.647830</td>\n",
              "      <td>-0.845498</td>\n",
              "      <td>4.289130</td>\n",
              "      <td>0.442438</td>\n",
              "      <td>-0.233971</td>\n",
              "    </tr>\n",
              "    <tr>\n",
              "      <th>108250</th>\n",
              "      <td>2.217111</td>\n",
              "      <td>1.276889</td>\n",
              "      <td>-0.966805</td>\n",
              "      <td>-0.482651</td>\n",
              "      <td>3.817691</td>\n",
              "      <td>0.166010</td>\n",
              "      <td>0.403337</td>\n",
              "    </tr>\n",
              "    <tr>\n",
              "      <th>108251</th>\n",
              "      <td>2.816786</td>\n",
              "      <td>0.453605</td>\n",
              "      <td>-0.647830</td>\n",
              "      <td>-0.845498</td>\n",
              "      <td>5.232009</td>\n",
              "      <td>0.072359</td>\n",
              "      <td>-0.197897</td>\n",
              "    </tr>\n",
              "    <tr>\n",
              "      <th>108252</th>\n",
              "      <td>2.405925</td>\n",
              "      <td>0.371276</td>\n",
              "      <td>-0.647830</td>\n",
              "      <td>-0.845498</td>\n",
              "      <td>4.760570</td>\n",
              "      <td>0.005610</td>\n",
              "      <td>-0.233971</td>\n",
              "    </tr>\n",
              "  </tbody>\n",
              "</table>\n",
              "<p>108253 rows × 7 columns</p>\n",
              "</div>"
            ],
            "text/plain": [
              "         mileage       tax       mpg engineSize       age mileage_age  \\\n",
              "0      -0.344395  0.453605  0.027209  -0.482651  0.046176   -0.390387   \n",
              "1       0.621769 -1.686935  0.679993   0.605888  0.517615    0.578206   \n",
              "2       0.326416 -1.522279  0.027209  -0.482651  0.517615    0.211665   \n",
              "3       0.137884  0.371276  0.909952   0.605888  0.046176    0.357766   \n",
              "4      -0.992832  0.371276 -0.403036  -1.208344 -0.896703   -1.249991   \n",
              "...          ...       ...       ...        ...       ...         ...   \n",
              "108248  2.405925  0.041962  0.286839   0.605888  2.403373    0.865729   \n",
              "108249  3.071591  0.371276 -0.647830  -0.845498  4.289130    0.442438   \n",
              "108250  2.217111  1.276889 -0.966805  -0.482651  3.817691    0.166010   \n",
              "108251  2.816786  0.453605 -0.647830  -0.845498  5.232009    0.072359   \n",
              "108252  2.405925  0.371276 -0.647830  -0.845498  4.760570    0.005610   \n",
              "\n",
              "       tax_engineSize  \n",
              "0           -0.017527  \n",
              "1           -1.039625  \n",
              "2           -1.027600  \n",
              "3            0.463461  \n",
              "4           -0.408329  \n",
              "...               ...  \n",
              "108248       0.222967  \n",
              "108249      -0.233971  \n",
              "108250       0.403337  \n",
              "108251      -0.197897  \n",
              "108252      -0.233971  \n",
              "\n",
              "[108253 rows x 7 columns]"
            ]
          },
          "metadata": {
            "tags": []
          },
          "execution_count": 40
        }
      ]
    },
    {
      "cell_type": "code",
      "metadata": {
        "id": "scenic-pressure",
        "outputId": "460d71f6-7d0a-4ed5-be72-d970e0ea5168"
      },
      "source": [
        "data_transform = pd.concat([data_scaled,df[cat_col]], axis=1)\n",
        "data_transform"
      ],
      "id": "scenic-pressure",
      "execution_count": null,
      "outputs": [
        {
          "output_type": "execute_result",
          "data": {
            "text/html": [
              "<div>\n",
              "<style scoped>\n",
              "    .dataframe tbody tr th:only-of-type {\n",
              "        vertical-align: middle;\n",
              "    }\n",
              "\n",
              "    .dataframe tbody tr th {\n",
              "        vertical-align: top;\n",
              "    }\n",
              "\n",
              "    .dataframe thead th {\n",
              "        text-align: right;\n",
              "    }\n",
              "</style>\n",
              "<table border=\"1\" class=\"dataframe\">\n",
              "  <thead>\n",
              "    <tr style=\"text-align: right;\">\n",
              "      <th></th>\n",
              "      <th>(mileage,)</th>\n",
              "      <th>(tax,)</th>\n",
              "      <th>(mpg,)</th>\n",
              "      <th>(engineSize,)</th>\n",
              "      <th>(age,)</th>\n",
              "      <th>(mileage_age,)</th>\n",
              "      <th>(tax_engineSize,)</th>\n",
              "      <th>model</th>\n",
              "      <th>transmission</th>\n",
              "      <th>fuelType</th>\n",
              "      <th>brand</th>\n",
              "    </tr>\n",
              "  </thead>\n",
              "  <tbody>\n",
              "    <tr>\n",
              "      <th>0</th>\n",
              "      <td>-0.344395</td>\n",
              "      <td>0.453605</td>\n",
              "      <td>0.027209</td>\n",
              "      <td>-0.482651</td>\n",
              "      <td>0.046176</td>\n",
              "      <td>-0.390387</td>\n",
              "      <td>-0.017527</td>\n",
              "      <td>A1</td>\n",
              "      <td>Manual</td>\n",
              "      <td>Petrol</td>\n",
              "      <td>audi</td>\n",
              "    </tr>\n",
              "    <tr>\n",
              "      <th>1</th>\n",
              "      <td>0.621769</td>\n",
              "      <td>-1.686935</td>\n",
              "      <td>0.679993</td>\n",
              "      <td>0.605888</td>\n",
              "      <td>0.517615</td>\n",
              "      <td>0.578206</td>\n",
              "      <td>-1.039625</td>\n",
              "      <td>A6</td>\n",
              "      <td>Automatic</td>\n",
              "      <td>Diesel</td>\n",
              "      <td>audi</td>\n",
              "    </tr>\n",
              "    <tr>\n",
              "      <th>2</th>\n",
              "      <td>0.326416</td>\n",
              "      <td>-1.522279</td>\n",
              "      <td>0.027209</td>\n",
              "      <td>-0.482651</td>\n",
              "      <td>0.517615</td>\n",
              "      <td>0.211665</td>\n",
              "      <td>-1.027600</td>\n",
              "      <td>A1</td>\n",
              "      <td>Manual</td>\n",
              "      <td>Petrol</td>\n",
              "      <td>audi</td>\n",
              "    </tr>\n",
              "    <tr>\n",
              "      <th>3</th>\n",
              "      <td>0.137884</td>\n",
              "      <td>0.371276</td>\n",
              "      <td>0.909952</td>\n",
              "      <td>0.605888</td>\n",
              "      <td>0.046176</td>\n",
              "      <td>0.357766</td>\n",
              "      <td>0.463461</td>\n",
              "      <td>A4</td>\n",
              "      <td>Automatic</td>\n",
              "      <td>Diesel</td>\n",
              "      <td>audi</td>\n",
              "    </tr>\n",
              "    <tr>\n",
              "      <th>4</th>\n",
              "      <td>-0.992832</td>\n",
              "      <td>0.371276</td>\n",
              "      <td>-0.403036</td>\n",
              "      <td>-1.208344</td>\n",
              "      <td>-0.896703</td>\n",
              "      <td>-1.249991</td>\n",
              "      <td>-0.408329</td>\n",
              "      <td>A3</td>\n",
              "      <td>Manual</td>\n",
              "      <td>Petrol</td>\n",
              "      <td>audi</td>\n",
              "    </tr>\n",
              "    <tr>\n",
              "      <th>...</th>\n",
              "      <td>...</td>\n",
              "      <td>...</td>\n",
              "      <td>...</td>\n",
              "      <td>...</td>\n",
              "      <td>...</td>\n",
              "      <td>...</td>\n",
              "      <td>...</td>\n",
              "      <td>...</td>\n",
              "      <td>...</td>\n",
              "      <td>...</td>\n",
              "      <td>...</td>\n",
              "    </tr>\n",
              "    <tr>\n",
              "      <th>108248</th>\n",
              "      <td>2.405925</td>\n",
              "      <td>0.041962</td>\n",
              "      <td>0.286839</td>\n",
              "      <td>0.605888</td>\n",
              "      <td>2.403373</td>\n",
              "      <td>0.865729</td>\n",
              "      <td>0.222967</td>\n",
              "      <td>Eos</td>\n",
              "      <td>Manual</td>\n",
              "      <td>Diesel</td>\n",
              "      <td>vw</td>\n",
              "    </tr>\n",
              "    <tr>\n",
              "      <th>108249</th>\n",
              "      <td>3.071591</td>\n",
              "      <td>0.371276</td>\n",
              "      <td>-0.647830</td>\n",
              "      <td>-0.845498</td>\n",
              "      <td>4.289130</td>\n",
              "      <td>0.442438</td>\n",
              "      <td>-0.233971</td>\n",
              "      <td>Fox</td>\n",
              "      <td>Manual</td>\n",
              "      <td>Petrol</td>\n",
              "      <td>vw</td>\n",
              "    </tr>\n",
              "    <tr>\n",
              "      <th>108250</th>\n",
              "      <td>2.217111</td>\n",
              "      <td>1.276889</td>\n",
              "      <td>-0.966805</td>\n",
              "      <td>-0.482651</td>\n",
              "      <td>3.817691</td>\n",
              "      <td>0.166010</td>\n",
              "      <td>0.403337</td>\n",
              "      <td>Fox</td>\n",
              "      <td>Manual</td>\n",
              "      <td>Petrol</td>\n",
              "      <td>vw</td>\n",
              "    </tr>\n",
              "    <tr>\n",
              "      <th>108251</th>\n",
              "      <td>2.816786</td>\n",
              "      <td>0.453605</td>\n",
              "      <td>-0.647830</td>\n",
              "      <td>-0.845498</td>\n",
              "      <td>5.232009</td>\n",
              "      <td>0.072359</td>\n",
              "      <td>-0.197897</td>\n",
              "      <td>Fox</td>\n",
              "      <td>Manual</td>\n",
              "      <td>Petrol</td>\n",
              "      <td>vw</td>\n",
              "    </tr>\n",
              "    <tr>\n",
              "      <th>108252</th>\n",
              "      <td>2.405925</td>\n",
              "      <td>0.371276</td>\n",
              "      <td>-0.647830</td>\n",
              "      <td>-0.845498</td>\n",
              "      <td>4.760570</td>\n",
              "      <td>0.005610</td>\n",
              "      <td>-0.233971</td>\n",
              "      <td>Fox</td>\n",
              "      <td>Manual</td>\n",
              "      <td>Petrol</td>\n",
              "      <td>vw</td>\n",
              "    </tr>\n",
              "  </tbody>\n",
              "</table>\n",
              "<p>108253 rows × 11 columns</p>\n",
              "</div>"
            ],
            "text/plain": [
              "        (mileage,)    (tax,)    (mpg,)  (engineSize,)    (age,)  \\\n",
              "0        -0.344395  0.453605  0.027209      -0.482651  0.046176   \n",
              "1         0.621769 -1.686935  0.679993       0.605888  0.517615   \n",
              "2         0.326416 -1.522279  0.027209      -0.482651  0.517615   \n",
              "3         0.137884  0.371276  0.909952       0.605888  0.046176   \n",
              "4        -0.992832  0.371276 -0.403036      -1.208344 -0.896703   \n",
              "...            ...       ...       ...            ...       ...   \n",
              "108248    2.405925  0.041962  0.286839       0.605888  2.403373   \n",
              "108249    3.071591  0.371276 -0.647830      -0.845498  4.289130   \n",
              "108250    2.217111  1.276889 -0.966805      -0.482651  3.817691   \n",
              "108251    2.816786  0.453605 -0.647830      -0.845498  5.232009   \n",
              "108252    2.405925  0.371276 -0.647830      -0.845498  4.760570   \n",
              "\n",
              "        (mileage_age,)  (tax_engineSize,) model transmission fuelType brand  \n",
              "0            -0.390387          -0.017527    A1       Manual   Petrol  audi  \n",
              "1             0.578206          -1.039625    A6    Automatic   Diesel  audi  \n",
              "2             0.211665          -1.027600    A1       Manual   Petrol  audi  \n",
              "3             0.357766           0.463461    A4    Automatic   Diesel  audi  \n",
              "4            -1.249991          -0.408329    A3       Manual   Petrol  audi  \n",
              "...                ...                ...   ...          ...      ...   ...  \n",
              "108248        0.865729           0.222967   Eos       Manual   Diesel    vw  \n",
              "108249        0.442438          -0.233971   Fox       Manual   Petrol    vw  \n",
              "108250        0.166010           0.403337   Fox       Manual   Petrol    vw  \n",
              "108251        0.072359          -0.197897   Fox       Manual   Petrol    vw  \n",
              "108252        0.005610          -0.233971   Fox       Manual   Petrol    vw  \n",
              "\n",
              "[108253 rows x 11 columns]"
            ]
          },
          "metadata": {
            "tags": []
          },
          "execution_count": 41
        }
      ]
    },
    {
      "cell_type": "code",
      "metadata": {
        "id": "undefined-business"
      },
      "source": [
        "data_transform.columns=['mileage','tax','mpg','engineSize','age','mileage_age','tax_engineSize','model','transmission','fuelType','brand']"
      ],
      "id": "undefined-business",
      "execution_count": null,
      "outputs": []
    },
    {
      "cell_type": "code",
      "metadata": {
        "id": "affected-flavor",
        "outputId": "42e8d1bf-2cf3-40bb-b940-2b0f7f0e1774"
      },
      "source": [
        "df_dummies = pd.get_dummies(data_transform, drop_first= True)\n",
        "df_dummies"
      ],
      "id": "affected-flavor",
      "execution_count": null,
      "outputs": [
        {
          "output_type": "execute_result",
          "data": {
            "text/html": [
              "<div>\n",
              "<style scoped>\n",
              "    .dataframe tbody tr th:only-of-type {\n",
              "        vertical-align: middle;\n",
              "    }\n",
              "\n",
              "    .dataframe tbody tr th {\n",
              "        vertical-align: top;\n",
              "    }\n",
              "\n",
              "    .dataframe thead th {\n",
              "        text-align: right;\n",
              "    }\n",
              "</style>\n",
              "<table border=\"1\" class=\"dataframe\">\n",
              "  <thead>\n",
              "    <tr style=\"text-align: right;\">\n",
              "      <th></th>\n",
              "      <th>mileage</th>\n",
              "      <th>tax</th>\n",
              "      <th>mpg</th>\n",
              "      <th>engineSize</th>\n",
              "      <th>age</th>\n",
              "      <th>mileage_age</th>\n",
              "      <th>tax_engineSize</th>\n",
              "      <th>model_ 2 Series</th>\n",
              "      <th>model_ 3 Series</th>\n",
              "      <th>model_ 4 Series</th>\n",
              "      <th>...</th>\n",
              "      <th>brand_bmw</th>\n",
              "      <th>brand_cclass</th>\n",
              "      <th>brand_focus</th>\n",
              "      <th>brand_ford</th>\n",
              "      <th>brand_hyundi</th>\n",
              "      <th>brand_merc</th>\n",
              "      <th>brand_skoda</th>\n",
              "      <th>brand_toyota</th>\n",
              "      <th>brand_vauxhall</th>\n",
              "      <th>brand_vw</th>\n",
              "    </tr>\n",
              "  </thead>\n",
              "  <tbody>\n",
              "    <tr>\n",
              "      <th>0</th>\n",
              "      <td>-0.344395</td>\n",
              "      <td>0.453605</td>\n",
              "      <td>0.027209</td>\n",
              "      <td>-0.482651</td>\n",
              "      <td>0.046176</td>\n",
              "      <td>-0.390387</td>\n",
              "      <td>-0.017527</td>\n",
              "      <td>0</td>\n",
              "      <td>0</td>\n",
              "      <td>0</td>\n",
              "      <td>...</td>\n",
              "      <td>0</td>\n",
              "      <td>0</td>\n",
              "      <td>0</td>\n",
              "      <td>0</td>\n",
              "      <td>0</td>\n",
              "      <td>0</td>\n",
              "      <td>0</td>\n",
              "      <td>0</td>\n",
              "      <td>0</td>\n",
              "      <td>0</td>\n",
              "    </tr>\n",
              "    <tr>\n",
              "      <th>1</th>\n",
              "      <td>0.621769</td>\n",
              "      <td>-1.686935</td>\n",
              "      <td>0.679993</td>\n",
              "      <td>0.605888</td>\n",
              "      <td>0.517615</td>\n",
              "      <td>0.578206</td>\n",
              "      <td>-1.039625</td>\n",
              "      <td>0</td>\n",
              "      <td>0</td>\n",
              "      <td>0</td>\n",
              "      <td>...</td>\n",
              "      <td>0</td>\n",
              "      <td>0</td>\n",
              "      <td>0</td>\n",
              "      <td>0</td>\n",
              "      <td>0</td>\n",
              "      <td>0</td>\n",
              "      <td>0</td>\n",
              "      <td>0</td>\n",
              "      <td>0</td>\n",
              "      <td>0</td>\n",
              "    </tr>\n",
              "    <tr>\n",
              "      <th>2</th>\n",
              "      <td>0.326416</td>\n",
              "      <td>-1.522279</td>\n",
              "      <td>0.027209</td>\n",
              "      <td>-0.482651</td>\n",
              "      <td>0.517615</td>\n",
              "      <td>0.211665</td>\n",
              "      <td>-1.027600</td>\n",
              "      <td>0</td>\n",
              "      <td>0</td>\n",
              "      <td>0</td>\n",
              "      <td>...</td>\n",
              "      <td>0</td>\n",
              "      <td>0</td>\n",
              "      <td>0</td>\n",
              "      <td>0</td>\n",
              "      <td>0</td>\n",
              "      <td>0</td>\n",
              "      <td>0</td>\n",
              "      <td>0</td>\n",
              "      <td>0</td>\n",
              "      <td>0</td>\n",
              "    </tr>\n",
              "    <tr>\n",
              "      <th>3</th>\n",
              "      <td>0.137884</td>\n",
              "      <td>0.371276</td>\n",
              "      <td>0.909952</td>\n",
              "      <td>0.605888</td>\n",
              "      <td>0.046176</td>\n",
              "      <td>0.357766</td>\n",
              "      <td>0.463461</td>\n",
              "      <td>0</td>\n",
              "      <td>0</td>\n",
              "      <td>0</td>\n",
              "      <td>...</td>\n",
              "      <td>0</td>\n",
              "      <td>0</td>\n",
              "      <td>0</td>\n",
              "      <td>0</td>\n",
              "      <td>0</td>\n",
              "      <td>0</td>\n",
              "      <td>0</td>\n",
              "      <td>0</td>\n",
              "      <td>0</td>\n",
              "      <td>0</td>\n",
              "    </tr>\n",
              "    <tr>\n",
              "      <th>4</th>\n",
              "      <td>-0.992832</td>\n",
              "      <td>0.371276</td>\n",
              "      <td>-0.403036</td>\n",
              "      <td>-1.208344</td>\n",
              "      <td>-0.896703</td>\n",
              "      <td>-1.249991</td>\n",
              "      <td>-0.408329</td>\n",
              "      <td>0</td>\n",
              "      <td>0</td>\n",
              "      <td>0</td>\n",
              "      <td>...</td>\n",
              "      <td>0</td>\n",
              "      <td>0</td>\n",
              "      <td>0</td>\n",
              "      <td>0</td>\n",
              "      <td>0</td>\n",
              "      <td>0</td>\n",
              "      <td>0</td>\n",
              "      <td>0</td>\n",
              "      <td>0</td>\n",
              "      <td>0</td>\n",
              "    </tr>\n",
              "    <tr>\n",
              "      <th>...</th>\n",
              "      <td>...</td>\n",
              "      <td>...</td>\n",
              "      <td>...</td>\n",
              "      <td>...</td>\n",
              "      <td>...</td>\n",
              "      <td>...</td>\n",
              "      <td>...</td>\n",
              "      <td>...</td>\n",
              "      <td>...</td>\n",
              "      <td>...</td>\n",
              "      <td>...</td>\n",
              "      <td>...</td>\n",
              "      <td>...</td>\n",
              "      <td>...</td>\n",
              "      <td>...</td>\n",
              "      <td>...</td>\n",
              "      <td>...</td>\n",
              "      <td>...</td>\n",
              "      <td>...</td>\n",
              "      <td>...</td>\n",
              "      <td>...</td>\n",
              "    </tr>\n",
              "    <tr>\n",
              "      <th>108248</th>\n",
              "      <td>2.405925</td>\n",
              "      <td>0.041962</td>\n",
              "      <td>0.286839</td>\n",
              "      <td>0.605888</td>\n",
              "      <td>2.403373</td>\n",
              "      <td>0.865729</td>\n",
              "      <td>0.222967</td>\n",
              "      <td>0</td>\n",
              "      <td>0</td>\n",
              "      <td>0</td>\n",
              "      <td>...</td>\n",
              "      <td>0</td>\n",
              "      <td>0</td>\n",
              "      <td>0</td>\n",
              "      <td>0</td>\n",
              "      <td>0</td>\n",
              "      <td>0</td>\n",
              "      <td>0</td>\n",
              "      <td>0</td>\n",
              "      <td>0</td>\n",
              "      <td>1</td>\n",
              "    </tr>\n",
              "    <tr>\n",
              "      <th>108249</th>\n",
              "      <td>3.071591</td>\n",
              "      <td>0.371276</td>\n",
              "      <td>-0.647830</td>\n",
              "      <td>-0.845498</td>\n",
              "      <td>4.289130</td>\n",
              "      <td>0.442438</td>\n",
              "      <td>-0.233971</td>\n",
              "      <td>0</td>\n",
              "      <td>0</td>\n",
              "      <td>0</td>\n",
              "      <td>...</td>\n",
              "      <td>0</td>\n",
              "      <td>0</td>\n",
              "      <td>0</td>\n",
              "      <td>0</td>\n",
              "      <td>0</td>\n",
              "      <td>0</td>\n",
              "      <td>0</td>\n",
              "      <td>0</td>\n",
              "      <td>0</td>\n",
              "      <td>1</td>\n",
              "    </tr>\n",
              "    <tr>\n",
              "      <th>108250</th>\n",
              "      <td>2.217111</td>\n",
              "      <td>1.276889</td>\n",
              "      <td>-0.966805</td>\n",
              "      <td>-0.482651</td>\n",
              "      <td>3.817691</td>\n",
              "      <td>0.166010</td>\n",
              "      <td>0.403337</td>\n",
              "      <td>0</td>\n",
              "      <td>0</td>\n",
              "      <td>0</td>\n",
              "      <td>...</td>\n",
              "      <td>0</td>\n",
              "      <td>0</td>\n",
              "      <td>0</td>\n",
              "      <td>0</td>\n",
              "      <td>0</td>\n",
              "      <td>0</td>\n",
              "      <td>0</td>\n",
              "      <td>0</td>\n",
              "      <td>0</td>\n",
              "      <td>1</td>\n",
              "    </tr>\n",
              "    <tr>\n",
              "      <th>108251</th>\n",
              "      <td>2.816786</td>\n",
              "      <td>0.453605</td>\n",
              "      <td>-0.647830</td>\n",
              "      <td>-0.845498</td>\n",
              "      <td>5.232009</td>\n",
              "      <td>0.072359</td>\n",
              "      <td>-0.197897</td>\n",
              "      <td>0</td>\n",
              "      <td>0</td>\n",
              "      <td>0</td>\n",
              "      <td>...</td>\n",
              "      <td>0</td>\n",
              "      <td>0</td>\n",
              "      <td>0</td>\n",
              "      <td>0</td>\n",
              "      <td>0</td>\n",
              "      <td>0</td>\n",
              "      <td>0</td>\n",
              "      <td>0</td>\n",
              "      <td>0</td>\n",
              "      <td>1</td>\n",
              "    </tr>\n",
              "    <tr>\n",
              "      <th>108252</th>\n",
              "      <td>2.405925</td>\n",
              "      <td>0.371276</td>\n",
              "      <td>-0.647830</td>\n",
              "      <td>-0.845498</td>\n",
              "      <td>4.760570</td>\n",
              "      <td>0.005610</td>\n",
              "      <td>-0.233971</td>\n",
              "      <td>0</td>\n",
              "      <td>0</td>\n",
              "      <td>0</td>\n",
              "      <td>...</td>\n",
              "      <td>0</td>\n",
              "      <td>0</td>\n",
              "      <td>0</td>\n",
              "      <td>0</td>\n",
              "      <td>0</td>\n",
              "      <td>0</td>\n",
              "      <td>0</td>\n",
              "      <td>0</td>\n",
              "      <td>0</td>\n",
              "      <td>1</td>\n",
              "    </tr>\n",
              "  </tbody>\n",
              "</table>\n",
              "<p>108253 rows × 217 columns</p>\n",
              "</div>"
            ],
            "text/plain": [
              "         mileage       tax       mpg  engineSize       age  mileage_age  \\\n",
              "0      -0.344395  0.453605  0.027209   -0.482651  0.046176    -0.390387   \n",
              "1       0.621769 -1.686935  0.679993    0.605888  0.517615     0.578206   \n",
              "2       0.326416 -1.522279  0.027209   -0.482651  0.517615     0.211665   \n",
              "3       0.137884  0.371276  0.909952    0.605888  0.046176     0.357766   \n",
              "4      -0.992832  0.371276 -0.403036   -1.208344 -0.896703    -1.249991   \n",
              "...          ...       ...       ...         ...       ...          ...   \n",
              "108248  2.405925  0.041962  0.286839    0.605888  2.403373     0.865729   \n",
              "108249  3.071591  0.371276 -0.647830   -0.845498  4.289130     0.442438   \n",
              "108250  2.217111  1.276889 -0.966805   -0.482651  3.817691     0.166010   \n",
              "108251  2.816786  0.453605 -0.647830   -0.845498  5.232009     0.072359   \n",
              "108252  2.405925  0.371276 -0.647830   -0.845498  4.760570     0.005610   \n",
              "\n",
              "        tax_engineSize  model_ 2 Series  model_ 3 Series  model_ 4 Series  \\\n",
              "0            -0.017527                0                0                0   \n",
              "1            -1.039625                0                0                0   \n",
              "2            -1.027600                0                0                0   \n",
              "3             0.463461                0                0                0   \n",
              "4            -0.408329                0                0                0   \n",
              "...                ...              ...              ...              ...   \n",
              "108248        0.222967                0                0                0   \n",
              "108249       -0.233971                0                0                0   \n",
              "108250        0.403337                0                0                0   \n",
              "108251       -0.197897                0                0                0   \n",
              "108252       -0.233971                0                0                0   \n",
              "\n",
              "        ...  brand_bmw  brand_cclass  brand_focus  brand_ford  brand_hyundi  \\\n",
              "0       ...          0             0            0           0             0   \n",
              "1       ...          0             0            0           0             0   \n",
              "2       ...          0             0            0           0             0   \n",
              "3       ...          0             0            0           0             0   \n",
              "4       ...          0             0            0           0             0   \n",
              "...     ...        ...           ...          ...         ...           ...   \n",
              "108248  ...          0             0            0           0             0   \n",
              "108249  ...          0             0            0           0             0   \n",
              "108250  ...          0             0            0           0             0   \n",
              "108251  ...          0             0            0           0             0   \n",
              "108252  ...          0             0            0           0             0   \n",
              "\n",
              "        brand_merc  brand_skoda  brand_toyota  brand_vauxhall  brand_vw  \n",
              "0                0            0             0               0         0  \n",
              "1                0            0             0               0         0  \n",
              "2                0            0             0               0         0  \n",
              "3                0            0             0               0         0  \n",
              "4                0            0             0               0         0  \n",
              "...            ...          ...           ...             ...       ...  \n",
              "108248           0            0             0               0         1  \n",
              "108249           0            0             0               0         1  \n",
              "108250           0            0             0               0         1  \n",
              "108251           0            0             0               0         1  \n",
              "108252           0            0             0               0         1  \n",
              "\n",
              "[108253 rows x 217 columns]"
            ]
          },
          "metadata": {
            "tags": []
          },
          "execution_count": 43
        }
      ]
    },
    {
      "cell_type": "code",
      "metadata": {
        "id": "grand-finder"
      },
      "source": [
        "X = df_dummies\n",
        "y= df['price_log']"
      ],
      "id": "grand-finder",
      "execution_count": null,
      "outputs": []
    },
    {
      "cell_type": "code",
      "metadata": {
        "id": "flexible-label"
      },
      "source": [
        "def test_models(models, X,y, iterations = 100):\n",
        "    results = {}\n",
        "    for i in models:\n",
        "        r2_train = []\n",
        "        r2_test = []\n",
        "        for j in range(iterations):\n",
        "            x_train, x_test, y_train, y_test = train_test_split(X,y,test_size= 0.2)\n",
        "            models[i].fit(x_train,y_train).predict(x_train)\n",
        "            r2_train.append(models[i].fit(x_train,y_train).score(x_train, y_train))\n",
        "            models[i].fit(x_train,y_train).predict(x_test)\n",
        "            r2_test.append(models[i].fit(x_train,y_train).score(x_test, y_test))\n",
        "            \n",
        "            results[i] = [np.mean(r2_train), np.mean(r2_test)]\n",
        "           \n",
        "    return pd.DataFrame(results)\n"
      ],
      "id": "flexible-label",
      "execution_count": null,
      "outputs": []
    },
    {
      "cell_type": "code",
      "metadata": {
        "id": "mechanical-breed",
        "outputId": "d90b72eb-5e52-4fef-b3ef-d2a5a92fd87c"
      },
      "source": [
        "models = {'OLS': LinearRegression(),'Lasso': Lasso(),'Ridge': Ridge()}\n",
        "\n",
        "test_models(models, X, y)"
      ],
      "id": "mechanical-breed",
      "execution_count": null,
      "outputs": [
        {
          "output_type": "execute_result",
          "data": {
            "text/html": [
              "<div>\n",
              "<style scoped>\n",
              "    .dataframe tbody tr th:only-of-type {\n",
              "        vertical-align: middle;\n",
              "    }\n",
              "\n",
              "    .dataframe tbody tr th {\n",
              "        vertical-align: top;\n",
              "    }\n",
              "\n",
              "    .dataframe thead th {\n",
              "        text-align: right;\n",
              "    }\n",
              "</style>\n",
              "<table border=\"1\" class=\"dataframe\">\n",
              "  <thead>\n",
              "    <tr style=\"text-align: right;\">\n",
              "      <th></th>\n",
              "      <th>OLS</th>\n",
              "      <th>Lasso</th>\n",
              "      <th>Ridge</th>\n",
              "    </tr>\n",
              "  </thead>\n",
              "  <tbody>\n",
              "    <tr>\n",
              "      <th>0</th>\n",
              "      <td>9.415538e-01</td>\n",
              "      <td>0.000000</td>\n",
              "      <td>0.941398</td>\n",
              "    </tr>\n",
              "    <tr>\n",
              "      <th>1</th>\n",
              "      <td>-3.665134e+17</td>\n",
              "      <td>-0.000066</td>\n",
              "      <td>0.941125</td>\n",
              "    </tr>\n",
              "  </tbody>\n",
              "</table>\n",
              "</div>"
            ],
            "text/plain": [
              "            OLS     Lasso     Ridge\n",
              "0  9.415538e-01  0.000000  0.941398\n",
              "1 -3.665134e+17 -0.000066  0.941125"
            ]
          },
          "metadata": {
            "tags": []
          },
          "execution_count": 46
        }
      ]
    },
    {
      "cell_type": "code",
      "metadata": {
        "scrolled": true,
        "id": "approximate-delicious",
        "outputId": "99b3efc9-9557-4cae-cbbe-2ce61a672cf3"
      },
      "source": [
        "rrm=Ridge()\n",
        "x_train, x_test, y_train, y_test = train_test_split(X,y,test_size= 0.2)\n",
        "rrm.fit(x_train,y_train).predict(x_train)\n",
        "\n",
        "y_pred=rrm.predict(x_test)\n",
        "y_residuals=y_pred-y_test\n",
        "plt.scatter((y_pred),y_residuals)\n",
        "plt.xlabel('Predicted')\n",
        "plt.ylabel('Residual')\n",
        "plt.axhline(y=0)\n",
        "plt.title('Residual vs. Predicted')\n",
        "plt.show()"
      ],
      "id": "approximate-delicious",
      "execution_count": null,
      "outputs": [
        {
          "output_type": "display_data",
          "data": {
            "image/png": "[encoded data removed]",
            "text/plain": [
              "<Figure size 432x288 with 1 Axes>"
            ]
          },
          "metadata": {
            "tags": []
          }
        }
      ]
    },
    {
      "cell_type": "code",
      "metadata": {
        "id": "moderate-cleaner",
        "outputId": "27ca2cf5-50ed-4e62-db10-b005e88c5e7d"
      },
      "source": [
        "plt.plot(y_residuals)\n",
        "plt.show()"
      ],
      "id": "moderate-cleaner",
      "execution_count": null,
      "outputs": [
        {
          "output_type": "display_data",
          "data": {
            "image/png": "[encoded data removed]",
            "text/plain": [
              "<Figure size 432x288 with 1 Axes>"
            ]
          },
          "metadata": {
            "tags": []
          }
        }
      ]
    },
    {
      "cell_type": "code",
      "metadata": {
        "id": "convinced-culture",
        "outputId": "75a66386-8839-492f-8d28-ee12fda38bf9"
      },
      "source": [
        "from statsmodels.tsa.stattools import acf\n",
        "\n",
        "acf_data = acf(y_residuals)\n",
        "\n",
        "plt.plot(acf_data[1:])\n",
        "plt.show()"
      ],
      "id": "convinced-culture",
      "execution_count": null,
      "outputs": [
        {
          "output_type": "stream",
          "text": [
            "c:\\users\\serge\\appdata\\local\\programs\\python\\python38\\lib\\site-packages\\statsmodels\\tsa\\stattools.py:657: FutureWarning: The default number of lags is changing from 40 tomin(int(10 * np.log10(nobs)), nobs - 1) after 0.12is released. Set the number of lags to an integer to  silence this warning.\n",
            "  warnings.warn(\n",
            "c:\\users\\serge\\appdata\\local\\programs\\python\\python38\\lib\\site-packages\\statsmodels\\tsa\\stattools.py:667: FutureWarning: fft=True will become the default after the release of the 0.12 release of statsmodels. To suppress this warning, explicitly set fft=False.\n",
            "  warnings.warn(\n"
          ],
          "name": "stderr"
        },
        {
          "output_type": "display_data",
          "data": {
            "image/png": "[encoded data removed]",
            "text/plain": [
              "<Figure size 432x288 with 1 Axes>"
            ]
          },
          "metadata": {
            "tags": []
          }
        }
      ]
    },
    {
      "cell_type": "markdown",
      "metadata": {
        "id": "double-finland"
      },
      "source": [
        "In our case Ridge performed better, because we have many significant parameters."
      ],
      "id": "double-finland"
    },
    {
      "cell_type": "code",
      "metadata": {
        "id": "assumed-checkout",
        "outputId": "c36edbb8-22d8-479c-d941-c7a9d0c8d058"
      },
      "source": [
        "rand_nums = np.random.normal(np.mean(y_residuals), np.std(y_residuals), len(y_residuals))\n",
        "\n",
        "plt.figure(figsize=(12,5))\n",
        "\n",
        "plt.subplot(1,2,1)\n",
        "plt.scatter(np.sort(rand_nums), np.sort(y_residuals)) # Sort the arrays\n",
        "plt.xlabel(\"the normally distributed random variable\")\n",
        "plt.ylabel(\"errors of the model\")\n",
        "plt.title(\"QQ plot\")\n",
        "\n",
        "plt.subplot(1,2,2)\n",
        "plt.hist(y_residuals, bins=100)\n",
        "plt.xlabel(\"errors\")\n",
        "plt.title(\"Histogram of the errors\")\n",
        "\n",
        "plt.tight_layout()\n",
        "plt.show()"
      ],
      "id": "assumed-checkout",
      "execution_count": null,
      "outputs": [
        {
          "output_type": "display_data",
          "data": {
            "image/png": "[encoded data removed]",
            "text/plain": [
              "<Figure size 864x360 with 2 Axes>"
            ]
          },
          "metadata": {
            "tags": []
          }
        }
      ]
    },
    {
      "cell_type": "markdown",
      "metadata": {
        "id": "exceptional-break"
      },
      "source": [
        "looks like there are some extreme values of residiuals, compared to normal distribution."
      ],
      "id": "exceptional-break"
    },
    {
      "cell_type": "markdown",
      "metadata": {
        "id": "involved-individual"
      },
      "source": [
        "# Gradient boosting regressor"
      ],
      "id": "involved-individual"
    },
    {
      "cell_type": "code",
      "metadata": {
        "id": "proof-origin"
      },
      "source": [
        "x_train, x_test, y_train, y_test = train_test_split(X,y, test_size = 0.20)"
      ],
      "id": "proof-origin",
      "execution_count": null,
      "outputs": []
    },
    {
      "cell_type": "code",
      "metadata": {
        "id": "electronic-applicant"
      },
      "source": [
        "boosting = GradientBoostingRegressor(n_estimators= 100, learning_rate= 0.1, max_depth=10)\n",
        "boosting.fit(x_train, y_train)\n",
        "y_pred_train = boosting.predict(x_train)\n",
        "y_pred_test =boosting.predict(x_test)"
      ],
      "id": "electronic-applicant",
      "execution_count": null,
      "outputs": []
    },
    {
      "cell_type": "code",
      "metadata": {
        "id": "dramatic-world",
        "outputId": "51df37fa-ccb4-4dd1-a960-73cfaf8f2327"
      },
      "source": [
        "mse_gb_train= mean_squared_error(np.exp(y_train), np.exp(y_pred_train))\n",
        "mse_gb_test= mean_squared_error(np.exp(y_test), np.exp(y_pred_test))\n",
        "mse_abs_gb_train = mean_absolute_error(np.exp(y_train), np.exp(y_pred_train))\n",
        "mse_abs_gb_test = mean_absolute_error(np.exp(y_test), np.exp(y_pred_test))                                    \n",
        "\n",
        "rmse_gb_train = np.sqrt(mse_gb_train)\n",
        "rmse_gb_test = np.sqrt(mse_gb_test)\n",
        "\n",
        "print(\"Train:\", mse_gb_train)\n",
        "print(\"Test:\", mse_gb_test)\n",
        "print(\"Train:\", mse_abs_gb_train)\n",
        "print(\"Test:\", mse_abs_gb_test)\n",
        "print(\"Train:\", rmse_gb_train)\n",
        "print(\"Test:\", rmse_gb_test)"
      ],
      "id": "dramatic-world",
      "execution_count": null,
      "outputs": [
        {
          "output_type": "stream",
          "text": [
            "Train: 2574180.4847818525\n",
            "Test: 4831823.867854407\n",
            "Train: 1049.697864655834\n",
            "Test: 1220.4199093091545\n",
            "Train: 1604.4252817697222\n",
            "Test: 2198.14100272353\n"
          ],
          "name": "stdout"
        }
      ]
    },
    {
      "cell_type": "code",
      "metadata": {
        "id": "pursuant-omega",
        "outputId": "a7db6a0a-832e-43f8-8e55-7fdf14dc58e8"
      },
      "source": [
        "r2_boosting_test = boosting.score(x_test,y_test )\n",
        "r2_boosting_train = boosting.score(x_train,y_train )\n",
        "print(r2_boosting_train)\n",
        "r2_boosting_test"
      ],
      "id": "pursuant-omega",
      "execution_count": null,
      "outputs": [
        {
          "output_type": "stream",
          "text": [
            "0.9761243280518278\n"
          ],
          "name": "stdout"
        },
        {
          "output_type": "execute_result",
          "data": {
            "text/plain": [
              "0.9626541846332372"
            ]
          },
          "metadata": {
            "tags": []
          },
          "execution_count": 73
        }
      ]
    },
    {
      "cell_type": "code",
      "metadata": {
        "id": "supported-wilderness",
        "outputId": "9b36f3c9-17a6-467c-9fbf-1de9fa5eb842"
      },
      "source": [
        "scores_boosting = pd.DataFrame(data = np.round([r2_boosting_train, r2_boosting_test, mse_gb_train, mse_gb_test, rmse_gb_train, rmse_gb_test, mse_abs_gb_train, mse_abs_gb_test],2), index =['r2_train', 'r2_test', 'mse_train', 'mse_test', 'rmse_train', 'rmse_test', 'mse_abs_train', 'mse_abs_test'], columns=['scores'])\n",
        "scores_boosting"
      ],
      "id": "supported-wilderness",
      "execution_count": null,
      "outputs": [
        {
          "output_type": "execute_result",
          "data": {
            "text/html": [
              "<div>\n",
              "<style scoped>\n",
              "    .dataframe tbody tr th:only-of-type {\n",
              "        vertical-align: middle;\n",
              "    }\n",
              "\n",
              "    .dataframe tbody tr th {\n",
              "        vertical-align: top;\n",
              "    }\n",
              "\n",
              "    .dataframe thead th {\n",
              "        text-align: right;\n",
              "    }\n",
              "</style>\n",
              "<table border=\"1\" class=\"dataframe\">\n",
              "  <thead>\n",
              "    <tr style=\"text-align: right;\">\n",
              "      <th></th>\n",
              "      <th>scores</th>\n",
              "    </tr>\n",
              "  </thead>\n",
              "  <tbody>\n",
              "    <tr>\n",
              "      <th>r2_train</th>\n",
              "      <td>0.98</td>\n",
              "    </tr>\n",
              "    <tr>\n",
              "      <th>r2_test</th>\n",
              "      <td>0.96</td>\n",
              "    </tr>\n",
              "    <tr>\n",
              "      <th>mse_train</th>\n",
              "      <td>2574180.48</td>\n",
              "    </tr>\n",
              "    <tr>\n",
              "      <th>mse_test</th>\n",
              "      <td>4831823.87</td>\n",
              "    </tr>\n",
              "    <tr>\n",
              "      <th>rmse_train</th>\n",
              "      <td>1604.43</td>\n",
              "    </tr>\n",
              "    <tr>\n",
              "      <th>rmse_test</th>\n",
              "      <td>2198.14</td>\n",
              "    </tr>\n",
              "    <tr>\n",
              "      <th>mse_abs_train</th>\n",
              "      <td>1049.70</td>\n",
              "    </tr>\n",
              "    <tr>\n",
              "      <th>mse_abs_test</th>\n",
              "      <td>1220.42</td>\n",
              "    </tr>\n",
              "  </tbody>\n",
              "</table>\n",
              "</div>"
            ],
            "text/plain": [
              "                   scores\n",
              "r2_train             0.98\n",
              "r2_test              0.96\n",
              "mse_train      2574180.48\n",
              "mse_test       4831823.87\n",
              "rmse_train        1604.43\n",
              "rmse_test         2198.14\n",
              "mse_abs_train     1049.70\n",
              "mse_abs_test      1220.42"
            ]
          },
          "metadata": {
            "tags": []
          },
          "execution_count": 74
        }
      ]
    },
    {
      "cell_type": "code",
      "metadata": {
        "id": "characteristic-privilege",
        "outputId": "ae4ad536-be49-4bd1-d33b-81a438b18cf3"
      },
      "source": [
        "score_b= cross_val_score(boosting, X, y, cv=20, n_jobs=-1)\n",
        "score_b"
      ],
      "id": "characteristic-privilege",
      "execution_count": null,
      "outputs": [
        {
          "output_type": "execute_result",
          "data": {
            "text/plain": [
              "array([0.93717934, 0.9419186 , 0.90530611, 0.92965091, 0.9271168 ,\n",
              "       0.94497248, 0.93143649, 0.92906173, 0.92879595, 0.91364872,\n",
              "       0.92870113, 0.95191425, 0.93629955, 0.80896553, 0.7780055 ,\n",
              "       0.74762868, 0.74675937, 0.89447503, 0.88892678, 0.8313307 ])"
            ]
          },
          "metadata": {
            "tags": []
          },
          "execution_count": 75
        }
      ]
    },
    {
      "cell_type": "markdown",
      "metadata": {
        "id": "toxic-procedure"
      },
      "source": [
        "# Decision Tree regressor"
      ],
      "id": "toxic-procedure"
    },
    {
      "cell_type": "code",
      "metadata": {
        "id": "sought-functionality"
      },
      "source": [
        "tree_regressor = DecisionTreeRegressor(max_depth=15)\n",
        "tree_regressor.fit(x_train, y_train)\n",
        "y_pred_train = tree_regressor.predict(x_train)\n",
        "y_pred_test = tree_regressor.predict(x_test)"
      ],
      "id": "sought-functionality",
      "execution_count": null,
      "outputs": []
    },
    {
      "cell_type": "code",
      "metadata": {
        "id": "driving-cross",
        "outputId": "36434012-9fb7-4487-e86e-3f19ca4da21e"
      },
      "source": [
        "mse_dtr_train= mean_squared_error(np.exp(y_train), np.exp(y_pred_train))\n",
        "mse_dtr_test= mean_squared_error(np.exp(y_test), np.exp(y_pred_test))\n",
        "mse_abs_dtr_train = mean_absolute_error(np.exp(y_train), np.exp(y_pred_train))\n",
        "mse_abs_dtr_test = mean_absolute_error(np.exp(y_test), np.exp(y_pred_test))                                    \n",
        "\n",
        "rmse_dtr_train = np.sqrt(mse_dtr_train)\n",
        "rmse_dtr_test = np.sqrt(mse_dtr_test)\n",
        "\n",
        "print(\"Train:\", mse_dtr_train)\n",
        "print(\"Test:\", mse_dtr_test)\n",
        "print(\"Train:\", mse_abs_dtr_train)\n",
        "print(\"Test:\", mse_abs_dtr_test)\n",
        "print(\"Train:\", rmse_dtr_train)\n",
        "print(\"Test:\", rmse_dtr_test)"
      ],
      "id": "driving-cross",
      "execution_count": null,
      "outputs": [
        {
          "output_type": "stream",
          "text": [
            "Train: 4079305.034608298\n",
            "Test: 7145347.153574238\n",
            "Train: 1259.548592083217\n",
            "Test: 1565.7114935538732\n",
            "Train: 2019.7289507773805\n",
            "Test: 2673.0782168829696\n"
          ],
          "name": "stdout"
        }
      ]
    },
    {
      "cell_type": "code",
      "metadata": {
        "id": "static-ideal",
        "outputId": "34c181f6-bc89-4e29-a4d2-c30bb5a8ab25"
      },
      "source": [
        "r2_dt_test = tree_regressor.score(x_test,y_test )\n",
        "r2_dt_train = tree_regressor.score(x_train,y_train )\n",
        "print(r2_dt_train)\n",
        "r2_dt_test"
      ],
      "id": "static-ideal",
      "execution_count": null,
      "outputs": [
        {
          "output_type": "stream",
          "text": [
            "0.9597112933979298\n"
          ],
          "name": "stdout"
        },
        {
          "output_type": "execute_result",
          "data": {
            "text/plain": [
              "0.9331449685121723"
            ]
          },
          "metadata": {
            "tags": []
          },
          "execution_count": 78
        }
      ]
    },
    {
      "cell_type": "code",
      "metadata": {
        "id": "infrared-democracy",
        "outputId": "63c55765-b9fe-45c0-f4ea-18290a653adc"
      },
      "source": [
        "scores_DT = pd.DataFrame(data = np.round([r2_dt_train, r2_dt_test, mse_dtr_train, mse_dtr_test, rmse_dtr_train, rmse_dtr_test, mse_abs_dtr_train, mse_abs_dtr_test], 2), index =['r2_train', 'r2_test', 'mse_train', 'mse_test', 'rmse_train', 'rmse_test', 'mse_abs_train', 'mse_abs_test'], columns=['scores'])\n",
        "scores_DT"
      ],
      "id": "infrared-democracy",
      "execution_count": null,
      "outputs": [
        {
          "output_type": "execute_result",
          "data": {
            "text/html": [
              "<div>\n",
              "<style scoped>\n",
              "    .dataframe tbody tr th:only-of-type {\n",
              "        vertical-align: middle;\n",
              "    }\n",
              "\n",
              "    .dataframe tbody tr th {\n",
              "        vertical-align: top;\n",
              "    }\n",
              "\n",
              "    .dataframe thead th {\n",
              "        text-align: right;\n",
              "    }\n",
              "</style>\n",
              "<table border=\"1\" class=\"dataframe\">\n",
              "  <thead>\n",
              "    <tr style=\"text-align: right;\">\n",
              "      <th></th>\n",
              "      <th>scores</th>\n",
              "    </tr>\n",
              "  </thead>\n",
              "  <tbody>\n",
              "    <tr>\n",
              "      <th>r2_train</th>\n",
              "      <td>0.96</td>\n",
              "    </tr>\n",
              "    <tr>\n",
              "      <th>r2_test</th>\n",
              "      <td>0.93</td>\n",
              "    </tr>\n",
              "    <tr>\n",
              "      <th>mse_train</th>\n",
              "      <td>4079305.03</td>\n",
              "    </tr>\n",
              "    <tr>\n",
              "      <th>mse_test</th>\n",
              "      <td>7145347.15</td>\n",
              "    </tr>\n",
              "    <tr>\n",
              "      <th>rmse_train</th>\n",
              "      <td>2019.73</td>\n",
              "    </tr>\n",
              "    <tr>\n",
              "      <th>rmse_test</th>\n",
              "      <td>2673.08</td>\n",
              "    </tr>\n",
              "    <tr>\n",
              "      <th>mse_abs_train</th>\n",
              "      <td>1259.55</td>\n",
              "    </tr>\n",
              "    <tr>\n",
              "      <th>mse_abs_test</th>\n",
              "      <td>1565.71</td>\n",
              "    </tr>\n",
              "  </tbody>\n",
              "</table>\n",
              "</div>"
            ],
            "text/plain": [
              "                   scores\n",
              "r2_train             0.96\n",
              "r2_test              0.93\n",
              "mse_train      4079305.03\n",
              "mse_test       7145347.15\n",
              "rmse_train        2019.73\n",
              "rmse_test         2673.08\n",
              "mse_abs_train     1259.55\n",
              "mse_abs_test      1565.71"
            ]
          },
          "metadata": {
            "tags": []
          },
          "execution_count": 79
        }
      ]
    },
    {
      "cell_type": "markdown",
      "metadata": {
        "id": "fantastic-portal"
      },
      "source": [
        "# Random Forest Regressor"
      ],
      "id": "fantastic-portal"
    },
    {
      "cell_type": "code",
      "metadata": {
        "id": "threaded-vertex"
      },
      "source": [
        "random_forest_reg = RandomForestRegressor(max_depth = 20, max_features = 'auto', n_estimators = 100)\n",
        "random_forest_reg.fit(x_train, y_train)\n",
        "\n",
        "y_pred_train = random_forest_reg.predict(x_train)\n",
        "y_pred_test = random_forest_reg.predict(x_test)"
      ],
      "id": "threaded-vertex",
      "execution_count": null,
      "outputs": []
    },
    {
      "cell_type": "code",
      "metadata": {
        "id": "danish-estate",
        "outputId": "6b699289-f644-4d5a-d6ea-34d95ba441ad"
      },
      "source": [
        "r2_rfr_test = random_forest_reg.score(x_test, y_test)\n",
        "r2_rfr_train = random_forest_reg.score(x_train, y_train)\n",
        "r2_rfr_test, r2_rfr_train"
      ],
      "id": "danish-estate",
      "execution_count": null,
      "outputs": [
        {
          "output_type": "execute_result",
          "data": {
            "text/plain": [
              "(0.9602322044016995, 0.9845940589843581)"
            ]
          },
          "metadata": {
            "tags": []
          },
          "execution_count": 81
        }
      ]
    },
    {
      "cell_type": "code",
      "metadata": {
        "id": "younger-agent",
        "outputId": "6a056296-b788-4609-b151-ad4f01415da5"
      },
      "source": [
        "mse_rfg_train= mean_squared_error(np.exp(y_train), np.exp(y_pred_train))\n",
        "mse_rfg_test= mean_squared_error(np.exp(y_test), np.exp(y_pred_test))\n",
        "mse_abs_rfg_train = mean_absolute_error(np.exp(y_train), np.exp(y_pred_train))\n",
        "mse_abs_rfg_test = mean_absolute_error(np.exp(y_test), np.exp(y_pred_test))                                    \n",
        "\n",
        "rmse_rfg_train = np.sqrt(mse_rfg_train)\n",
        "rmse_rfg_test = np.sqrt(mse_rfg_test)\n",
        "\n",
        "print(\"Train:\", mse_rfg_train)\n",
        "print(\"Test:\", mse_rfg_test)\n",
        "print(\"Train:\", mse_abs_rfg_train)\n",
        "print(\"Test:\", mse_abs_rfg_test)\n",
        "print(\"Train:\", rmse_rfg_train)\n",
        "print(\"Test:\", rmse_rfg_test)"
      ],
      "id": "younger-agent",
      "execution_count": null,
      "outputs": [
        {
          "output_type": "stream",
          "text": [
            "Train: 1819563.2089117223\n",
            "Test: 5034921.465204907\n",
            "Train: 818.1698765316813\n",
            "Test: 1219.3761656433064\n",
            "Train: 1348.911861061249\n",
            "Test: 2243.8630673917933\n"
          ],
          "name": "stdout"
        }
      ]
    },
    {
      "cell_type": "code",
      "metadata": {
        "id": "suspended-alberta",
        "outputId": "dcf22d9a-a0f3-4951-e05c-452336026ec1"
      },
      "source": [
        "scores_randomforest = pd.DataFrame(data = np.round([r2_rfr_train, r2_rfr_test, mse_rfg_train, mse_rfg_test, rmse_rfg_train, rmse_rfg_test, mse_abs_rfg_train, mse_abs_rfg_test],2), index =['r2_train', 'r2_test', 'mse_train', 'mse_test', 'rmse_train', 'rmse_test', 'mse_abs_train', 'mse_abs_test'], columns=['scores'])\n",
        "scores_randomforest"
      ],
      "id": "suspended-alberta",
      "execution_count": null,
      "outputs": [
        {
          "output_type": "execute_result",
          "data": {
            "text/html": [
              "<div>\n",
              "<style scoped>\n",
              "    .dataframe tbody tr th:only-of-type {\n",
              "        vertical-align: middle;\n",
              "    }\n",
              "\n",
              "    .dataframe tbody tr th {\n",
              "        vertical-align: top;\n",
              "    }\n",
              "\n",
              "    .dataframe thead th {\n",
              "        text-align: right;\n",
              "    }\n",
              "</style>\n",
              "<table border=\"1\" class=\"dataframe\">\n",
              "  <thead>\n",
              "    <tr style=\"text-align: right;\">\n",
              "      <th></th>\n",
              "      <th>scores</th>\n",
              "    </tr>\n",
              "  </thead>\n",
              "  <tbody>\n",
              "    <tr>\n",
              "      <th>r2_train</th>\n",
              "      <td>0.98</td>\n",
              "    </tr>\n",
              "    <tr>\n",
              "      <th>r2_test</th>\n",
              "      <td>0.96</td>\n",
              "    </tr>\n",
              "    <tr>\n",
              "      <th>mse_train</th>\n",
              "      <td>1819563.21</td>\n",
              "    </tr>\n",
              "    <tr>\n",
              "      <th>mse_test</th>\n",
              "      <td>5034921.47</td>\n",
              "    </tr>\n",
              "    <tr>\n",
              "      <th>rmse_train</th>\n",
              "      <td>1348.91</td>\n",
              "    </tr>\n",
              "    <tr>\n",
              "      <th>rmse_test</th>\n",
              "      <td>2243.86</td>\n",
              "    </tr>\n",
              "    <tr>\n",
              "      <th>mse_abs_train</th>\n",
              "      <td>818.17</td>\n",
              "    </tr>\n",
              "    <tr>\n",
              "      <th>mse_abs_test</th>\n",
              "      <td>1219.38</td>\n",
              "    </tr>\n",
              "  </tbody>\n",
              "</table>\n",
              "</div>"
            ],
            "text/plain": [
              "                   scores\n",
              "r2_train             0.98\n",
              "r2_test              0.96\n",
              "mse_train      1819563.21\n",
              "mse_test       5034921.47\n",
              "rmse_train        1348.91\n",
              "rmse_test         2243.86\n",
              "mse_abs_train      818.17\n",
              "mse_abs_test      1219.38"
            ]
          },
          "metadata": {
            "tags": []
          },
          "execution_count": 83
        }
      ]
    },
    {
      "cell_type": "code",
      "metadata": {
        "id": "operating-preserve"
      },
      "source": [
        "models_with_scores= pd.concat([scores_DT, scores_boosting, scores_randomforest], axis =1)\n",
        "\n",
        "cols = ['DecisionTrees', 'GradiantBoosting', 'RandomForest']\n",
        "\n",
        "models_with_scores.columns = cols"
      ],
      "id": "operating-preserve",
      "execution_count": null,
      "outputs": []
    },
    {
      "cell_type": "code",
      "metadata": {
        "id": "collective-blanket",
        "outputId": "08d13305-b893-4301-e3f1-2edb5102ae6b"
      },
      "source": [
        "models_with_scores"
      ],
      "id": "collective-blanket",
      "execution_count": null,
      "outputs": [
        {
          "output_type": "execute_result",
          "data": {
            "text/html": [
              "<div>\n",
              "<style scoped>\n",
              "    .dataframe tbody tr th:only-of-type {\n",
              "        vertical-align: middle;\n",
              "    }\n",
              "\n",
              "    .dataframe tbody tr th {\n",
              "        vertical-align: top;\n",
              "    }\n",
              "\n",
              "    .dataframe thead th {\n",
              "        text-align: right;\n",
              "    }\n",
              "</style>\n",
              "<table border=\"1\" class=\"dataframe\">\n",
              "  <thead>\n",
              "    <tr style=\"text-align: right;\">\n",
              "      <th></th>\n",
              "      <th>DecisionTrees</th>\n",
              "      <th>GradiantBoosting</th>\n",
              "      <th>RandomForest</th>\n",
              "    </tr>\n",
              "  </thead>\n",
              "  <tbody>\n",
              "    <tr>\n",
              "      <th>r2_train</th>\n",
              "      <td>0.96</td>\n",
              "      <td>0.98</td>\n",
              "      <td>0.98</td>\n",
              "    </tr>\n",
              "    <tr>\n",
              "      <th>r2_test</th>\n",
              "      <td>0.93</td>\n",
              "      <td>0.96</td>\n",
              "      <td>0.96</td>\n",
              "    </tr>\n",
              "    <tr>\n",
              "      <th>mse_train</th>\n",
              "      <td>4079305.03</td>\n",
              "      <td>2574180.48</td>\n",
              "      <td>1819563.21</td>\n",
              "    </tr>\n",
              "    <tr>\n",
              "      <th>mse_test</th>\n",
              "      <td>7145347.15</td>\n",
              "      <td>4831823.87</td>\n",
              "      <td>5034921.47</td>\n",
              "    </tr>\n",
              "    <tr>\n",
              "      <th>rmse_train</th>\n",
              "      <td>2019.73</td>\n",
              "      <td>1604.43</td>\n",
              "      <td>1348.91</td>\n",
              "    </tr>\n",
              "    <tr>\n",
              "      <th>rmse_test</th>\n",
              "      <td>2673.08</td>\n",
              "      <td>2198.14</td>\n",
              "      <td>2243.86</td>\n",
              "    </tr>\n",
              "    <tr>\n",
              "      <th>mse_abs_train</th>\n",
              "      <td>1259.55</td>\n",
              "      <td>1049.70</td>\n",
              "      <td>818.17</td>\n",
              "    </tr>\n",
              "    <tr>\n",
              "      <th>mse_abs_test</th>\n",
              "      <td>1565.71</td>\n",
              "      <td>1220.42</td>\n",
              "      <td>1219.38</td>\n",
              "    </tr>\n",
              "  </tbody>\n",
              "</table>\n",
              "</div>"
            ],
            "text/plain": [
              "               DecisionTrees  GradiantBoosting  RandomForest\n",
              "r2_train                0.96              0.98          0.98\n",
              "r2_test                 0.93              0.96          0.96\n",
              "mse_train         4079305.03        2574180.48    1819563.21\n",
              "mse_test          7145347.15        4831823.87    5034921.47\n",
              "rmse_train           2019.73           1604.43       1348.91\n",
              "rmse_test            2673.08           2198.14       2243.86\n",
              "mse_abs_train        1259.55           1049.70        818.17\n",
              "mse_abs_test         1565.71           1220.42       1219.38"
            ]
          },
          "metadata": {
            "tags": []
          },
          "execution_count": 85
        }
      ]
    },
    {
      "cell_type": "code",
      "metadata": {
        "id": "elementary-taxation"
      },
      "source": [
        "n_estimators=range(1,122,10)\n",
        "scores=[]\n",
        "for n in n_estimators:\n",
        "    random_forest_reg = RandomForestRegressor(max_depth = 20, max_features = 'auto', n_estimators = n)\n",
        "    random_forest_reg.fit(x_train, y_train)\n",
        "    r2_rfr_test = random_forest_reg.score(x_test, y_test)\n",
        "    scores.append(r2_rfr_test)"
      ],
      "id": "elementary-taxation",
      "execution_count": null,
      "outputs": []
    },
    {
      "cell_type": "code",
      "metadata": {
        "id": "administrative-airplane",
        "outputId": "c2ce76ff-de2f-432b-a3d2-6241a83e2ee4"
      },
      "source": [
        "# plot the relationship between K and testing accuracy\n",
        "# plt.plot(x_axis, y_axis)\n",
        "plt.plot(n_estimators, scores)\n",
        "plt.xlabel('Value of n_estimators for Random Forest Classifier')\n",
        "plt.ylabel('Testing Accuracy')"
      ],
      "id": "administrative-airplane",
      "execution_count": null,
      "outputs": [
        {
          "output_type": "execute_result",
          "data": {
            "text/plain": [
              "Text(0, 0.5, 'Testing Accuracy')"
            ]
          },
          "metadata": {
            "tags": []
          },
          "execution_count": 96
        },
        {
          "output_type": "display_data",
          "data": {
            "image/png": "[encoded data removed]",
            "text/plain": [
              "<Figure size 432x288 with 1 Axes>"
            ]
          },
          "metadata": {
            "tags": []
          }
        }
      ]
    },
    {
      "cell_type": "code",
      "metadata": {
        "id": "civic-perception",
        "outputId": "22c35055-cef4-4089-eca8-c38b24fcf60d"
      },
      "source": [
        "z=pd.DataFrame({'n': n_estimators, 'scores': scores})\n",
        "z"
      ],
      "id": "civic-perception",
      "execution_count": null,
      "outputs": [
        {
          "output_type": "execute_result",
          "data": {
            "text/html": [
              "<div>\n",
              "<style scoped>\n",
              "    .dataframe tbody tr th:only-of-type {\n",
              "        vertical-align: middle;\n",
              "    }\n",
              "\n",
              "    .dataframe tbody tr th {\n",
              "        vertical-align: top;\n",
              "    }\n",
              "\n",
              "    .dataframe thead th {\n",
              "        text-align: right;\n",
              "    }\n",
              "</style>\n",
              "<table border=\"1\" class=\"dataframe\">\n",
              "  <thead>\n",
              "    <tr style=\"text-align: right;\">\n",
              "      <th></th>\n",
              "      <th>n</th>\n",
              "      <th>scores</th>\n",
              "    </tr>\n",
              "  </thead>\n",
              "  <tbody>\n",
              "    <tr>\n",
              "      <th>0</th>\n",
              "      <td>1</td>\n",
              "      <td>0.936596</td>\n",
              "    </tr>\n",
              "    <tr>\n",
              "      <th>1</th>\n",
              "      <td>11</td>\n",
              "      <td>0.958412</td>\n",
              "    </tr>\n",
              "    <tr>\n",
              "      <th>2</th>\n",
              "      <td>21</td>\n",
              "      <td>0.958913</td>\n",
              "    </tr>\n",
              "    <tr>\n",
              "      <th>3</th>\n",
              "      <td>31</td>\n",
              "      <td>0.959358</td>\n",
              "    </tr>\n",
              "    <tr>\n",
              "      <th>4</th>\n",
              "      <td>41</td>\n",
              "      <td>0.960051</td>\n",
              "    </tr>\n",
              "    <tr>\n",
              "      <th>5</th>\n",
              "      <td>51</td>\n",
              "      <td>0.959884</td>\n",
              "    </tr>\n",
              "    <tr>\n",
              "      <th>6</th>\n",
              "      <td>61</td>\n",
              "      <td>0.960034</td>\n",
              "    </tr>\n",
              "    <tr>\n",
              "      <th>7</th>\n",
              "      <td>71</td>\n",
              "      <td>0.959993</td>\n",
              "    </tr>\n",
              "    <tr>\n",
              "      <th>8</th>\n",
              "      <td>81</td>\n",
              "      <td>0.960058</td>\n",
              "    </tr>\n",
              "    <tr>\n",
              "      <th>9</th>\n",
              "      <td>91</td>\n",
              "      <td>0.959909</td>\n",
              "    </tr>\n",
              "    <tr>\n",
              "      <th>10</th>\n",
              "      <td>101</td>\n",
              "      <td>0.960103</td>\n",
              "    </tr>\n",
              "    <tr>\n",
              "      <th>11</th>\n",
              "      <td>111</td>\n",
              "      <td>0.960139</td>\n",
              "    </tr>\n",
              "    <tr>\n",
              "      <th>12</th>\n",
              "      <td>121</td>\n",
              "      <td>0.960218</td>\n",
              "    </tr>\n",
              "  </tbody>\n",
              "</table>\n",
              "</div>"
            ],
            "text/plain": [
              "      n    scores\n",
              "0     1  0.936596\n",
              "1    11  0.958412\n",
              "2    21  0.958913\n",
              "3    31  0.959358\n",
              "4    41  0.960051\n",
              "5    51  0.959884\n",
              "6    61  0.960034\n",
              "7    71  0.959993\n",
              "8    81  0.960058\n",
              "9    91  0.959909\n",
              "10  101  0.960103\n",
              "11  111  0.960139\n",
              "12  121  0.960218"
            ]
          },
          "metadata": {
            "tags": []
          },
          "execution_count": 97
        }
      ]
    },
    {
      "cell_type": "markdown",
      "metadata": {
        "id": "stretch-brooklyn"
      },
      "source": [
        "looks like n=60 the model converges R_2>0.96\n",
        "It would be nice if dataset included variable for the condition of the vehicle. I think it's an important feature when buying a car."
      ],
      "id": "stretch-brooklyn"
    }
  ]
}
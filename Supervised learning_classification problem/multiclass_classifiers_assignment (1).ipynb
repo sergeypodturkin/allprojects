{
  "nbformat": 4,
  "nbformat_minor": 0,
  "metadata": {
    "colab": {
      "name": "multiclass_classifiers_assignment.ipynb",
      "provenance": [],
      "collapsed_sections": []
    },
    "kernelspec": {
      "display_name": "Python 3",
      "language": "python",
      "name": "python3"
    },
    "language_info": {
      "codemirror_mode": {
        "name": "ipython",
        "version": 3
      },
      "file_extension": ".py",
      "mimetype": "text/x-python",
      "name": "python",
      "nbconvert_exporter": "python",
      "pygments_lexer": "ipython3",
      "version": "3.8.1"
    }
  },
  "cells": [
    {
      "cell_type": "markdown",
      "metadata": {
        "id": "iD1KjC8-hl_P"
      },
      "source": [
        "# Multiclass Classifiers\n",
        "In this assignment you will load a dataset and train two models to perform multiclass classification and compare the results of the models. The dataset is the **digits** dataset available from the sklearn's *datasets* library. This dataset contain 1797 samples of written digits. The goal is to correctly identify digits from 0 to 9."
      ]
    },
    {
      "cell_type": "markdown",
      "metadata": {
        "id": "sZYeUk8FjHsd"
      },
      "source": [
        "## Load the data\n",
        "\n",
        "1. import the *load_digits* function from the *sklearn.datasets* library\n",
        "2. invoke *load_digits* with the *return_X_y* parameter set to true and store the returned dataset in variable **X** and **y**."
      ]
    },
    {
      "cell_type": "code",
      "metadata": {
        "id": "yU07T75-he8U"
      },
      "source": [
        "from sklearn.datasets import load_digits\n",
        "X, y = load_digits(return_X_y=True)"
      ],
      "execution_count": null,
      "outputs": []
    },
    {
      "cell_type": "markdown",
      "metadata": {
        "id": "isPHrCpCj5lL"
      },
      "source": [
        "## Exploratory Data Analysis\n",
        "Perform a few exploratory  steps including:\n",
        "\n",
        "1. Display the number of rows of data returned\n",
        "2. Display the number of features in the dataset\n",
        "3. Use Numpy's **bincount** to display how many samples belong to each class. Is this a balanced dataset?"
      ]
    },
    {
      "cell_type": "code",
      "metadata": {
        "id": "EX7gj8IGkTu7",
        "outputId": "f79b528e-32ae-4ccc-b828-0a62d6af96cc"
      },
      "source": [
        "import numpy as np\n",
        "\n",
        "print('The number of rows in the dataset is {:d}'.format(X.shape[0]))\n",
        "print('The number of features in the dataset is {:d}'.format(X.shape[1]))\n",
        "np.bincount(y)"
      ],
      "execution_count": null,
      "outputs": [
        {
          "name": "stdout",
          "output_type": "stream",
          "text": [
            "The number of rows in the dataset is 1797\n",
            "The number of features in the dataset is 64\n"
          ]
        },
        {
          "data": {
            "text/plain": [
              "array([178, 182, 177, 183, 181, 182, 181, 179, 174, 180], dtype=int64)"
            ]
          },
          "execution_count": 2,
          "metadata": {},
          "output_type": "execute_result"
        }
      ]
    },
    {
      "cell_type": "markdown",
      "metadata": {
        "id": "6AdSZLoalPDO"
      },
      "source": [
        "## Prepare training and testing data\n",
        "1. Use *train_test_split* to split the dataset into a training set and a test set. Set the proportion of test data to 20%. Set a random state value so that the results will be repeatable."
      ]
    },
    {
      "cell_type": "code",
      "metadata": {
        "id": "K8oYDSclmIRw"
      },
      "source": [
        "from sklearn.model_selection import train_test_split\n",
        "\n",
        "X_train, X_test, y_train, y_test = train_test_split(X, y, test_size=0.20, random_state=44)"
      ],
      "execution_count": null,
      "outputs": []
    },
    {
      "cell_type": "markdown",
      "metadata": {
        "id": "of-cq2s0mdx6"
      },
      "source": [
        "## Cross validation with Logistic Regression\n",
        "In this step you will create a LogisticRegression classifier and use 5-fold cross validation to train the model.\n",
        "\n",
        "1. import *LogisticRegression* classifier from sklearn\n",
        "2. instantiate a LogisticRegression classifier with the 'lbfgs' solver and 'ovr' multiclass strategy. You may have to set the maximum number of iterations to 1000.\n",
        "3. perform cross validation on the model\n",
        "4. print the cross validation scores and the mean of the cross validation scores."
      ]
    },
    {
      "cell_type": "code",
      "metadata": {
        "id": "UMdjcXaplne9",
        "outputId": "fe6a0a86-42de-4779-84f8-27f49f15ad0b"
      },
      "source": [
        "from sklearn.linear_model import LogisticRegression\n",
        "from sklearn.model_selection import train_test_split, cross_val_score\n",
        "\n",
        "lr_clf = LogisticRegression(solver='lbfgs', multi_class='ovr', max_iter=1000)\n",
        "lr_cv_scores = cross_val_score(lr_clf, X_train, y_train, cv=5)\n",
        "\n",
        "print('Accuracy scores for the 5 folds: ', lr_cv_scores)\n",
        "print('Mean cross validation score: {:.3f}'.format(np.mean(lr_cv_scores)))"
      ],
      "execution_count": null,
      "outputs": [
        {
          "name": "stdout",
          "output_type": "stream",
          "text": [
            "Accuracy scores for the 5 folds:  [0.96180556 0.95138889 0.95121951 0.96167247 0.95470383]\n",
            "Mean cross validation score: 0.956\n"
          ]
        }
      ]
    },
    {
      "cell_type": "markdown",
      "metadata": {
        "id": "PcZHs1vYoRBN"
      },
      "source": [
        "## Cross validation with RandomForest\n",
        "Perform the same steps as above but this time with a RandomForestClassifier."
      ]
    },
    {
      "cell_type": "code",
      "metadata": {
        "id": "pCD2ROdToySP",
        "outputId": "96b6b8f5-6d66-4b65-c31f-73acf8be8cb2"
      },
      "source": [
        "# imports here\n",
        "from sklearn.ensemble import RandomForestRegressor\n",
        "\n",
        "rf_clf = RandomForestRegressor(n_estimators=24)\n",
        "rf_cv_scores = cross_val_score(rf_clf, X_train, y_train, cv=5)\n",
        "\n",
        "print('Accuracy scores for the 5 folds: ', rf_cv_scores)\n",
        "print('Mean cross validation score: {:.3f}'.format(np.mean(rf_cv_scores)))"
      ],
      "execution_count": null,
      "outputs": [
        {
          "name": "stdout",
          "output_type": "stream",
          "text": [
            "Accuracy scores for the 5 folds:  [0.88622286 0.85729375 0.86012838 0.80349318 0.74770325]\n",
            "Mean cross validation score: 0.831\n"
          ]
        }
      ]
    },
    {
      "cell_type": "code",
      "metadata": {
        "id": "n-8-2fwJjIn3"
      },
      "source": [
        ""
      ],
      "execution_count": null,
      "outputs": []
    },
    {
      "cell_type": "code",
      "metadata": {
        "id": "f2KcsrZXjIn4"
      },
      "source": [
        ""
      ],
      "execution_count": null,
      "outputs": []
    }
  ]
}
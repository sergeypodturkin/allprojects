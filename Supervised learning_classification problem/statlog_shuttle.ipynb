{
  "nbformat": 4,
  "nbformat_minor": 5,
  "metadata": {
    "kernelspec": {
      "display_name": "Python 3",
      "language": "python",
      "name": "python3"
    },
    "language_info": {
      "codemirror_mode": {
        "name": "ipython",
        "version": 3
      },
      "file_extension": ".py",
      "mimetype": "text/x-python",
      "name": "python",
      "nbconvert_exporter": "python",
      "pygments_lexer": "ipython3",
      "version": "3.8.1"
    },
    "colab": {
      "name": "statlog_shuttle.ipynb",
      "provenance": []
    }
  },
  "cells": [
    {
      "cell_type": "markdown",
      "metadata": {
        "id": "wicked-jerusalem"
      },
      "source": [
        "# 1. Import necessary packages"
      ],
      "id": "wicked-jerusalem"
    },
    {
      "cell_type": "code",
      "metadata": {
        "id": "applicable-certificate"
      },
      "source": [
        "import matplotlib.pyplot as plt\n",
        "from sklearn.datasets import fetch_20newsgroups_vectorized\n",
        "import numpy as np\n",
        "import pandas as pd\n",
        "import seaborn as sns\n",
        "from sklearn.linear_model import LogisticRegression\n",
        "from sklearn.ensemble import RandomForestRegressor\n",
        "from sklearn.neighbors import KNeighborsClassifier\n",
        "from sklearn.model_selection import train_test_split, cross_val_score\n",
        "from sklearn.dummy import DummyClassifier\n",
        "from sklearn.metrics import confusion_matrix\n",
        "from sklearn.utils.multiclass import unique_labels\n",
        "from sklearn.metrics import accuracy_score, precision_score, recall_score, f1_score, fbeta_score, classification_report\n",
        "from sklearn.metrics import roc_curve, precision_recall_curve, roc_auc_score\n",
        "%matplotlib inline"
      ],
      "id": "applicable-certificate",
      "execution_count": null,
      "outputs": []
    },
    {
      "cell_type": "markdown",
      "metadata": {
        "id": "purple-binary"
      },
      "source": [
        "# 2. Load and prepare the dataset"
      ],
      "id": "purple-binary"
    },
    {
      "cell_type": "code",
      "metadata": {
        "id": "median-leadership"
      },
      "source": [
        "df_train_data = pd.read_csv('http://archive.ics.uci.edu/ml/machine-learning-databases/statlog/shuttle/shuttle.tst', header=None, sep=' ')"
      ],
      "id": "median-leadership",
      "execution_count": null,
      "outputs": []
    },
    {
      "cell_type": "code",
      "metadata": {
        "id": "martial-absorption",
        "outputId": "8ac36a37-b9f5-4c17-b498-44b0c2ef68a8"
      },
      "source": [
        "df_train_data[9].value_counts()"
      ],
      "id": "martial-absorption",
      "execution_count": null,
      "outputs": [
        {
          "data": {
            "text/plain": [
              "1    11478\n",
              "0     3022\n",
              "Name: 9, dtype: int64"
            ]
          },
          "execution_count": 35,
          "metadata": {},
          "output_type": "execute_result"
        }
      ]
    },
    {
      "cell_type": "code",
      "metadata": {
        "id": "egyptian-sucking"
      },
      "source": [
        "#assign 0 class if !=1\n",
        "df_train_data.loc[df_train_data[9]!=1, 9]=0"
      ],
      "id": "egyptian-sucking",
      "execution_count": null,
      "outputs": []
    },
    {
      "cell_type": "code",
      "metadata": {
        "id": "civilian-thought"
      },
      "source": [
        "#Create a DataFrame of nine features named X, drop column 9.\n",
        "#Create a DataFrame of labels named y, select only column 9.\n",
        "columns=df_train_data.columns\n",
        "column_x=columns.drop(9)\n",
        "X=df_train_data[column_x]\n",
        "y = df_train_data[9]"
      ],
      "id": "civilian-thought",
      "execution_count": null,
      "outputs": []
    },
    {
      "cell_type": "code",
      "metadata": {
        "id": "figured-honduras"
      },
      "source": [
        "#Split the data into a training set and a test set.\n",
        "X_train, X_test, y_train, y_test = train_test_split(X, y, random_state=82)"
      ],
      "id": "figured-honduras",
      "execution_count": null,
      "outputs": []
    },
    {
      "cell_type": "markdown",
      "metadata": {
        "id": "advisory-pharmacy"
      },
      "source": [
        "# 3. Create the model"
      ],
      "id": "advisory-pharmacy"
    },
    {
      "cell_type": "code",
      "metadata": {
        "id": "accomplished-pillow",
        "outputId": "49b3f885-4019-40b7-de98-6afe53ac7f2f"
      },
      "source": [
        "lr = LogisticRegression(solver='lbfgs', max_iter=1000)\n",
        "lr.fit(X_train, y_train)\n",
        "lr.score(X_test, y_test)"
      ],
      "id": "accomplished-pillow",
      "execution_count": null,
      "outputs": [
        {
          "data": {
            "text/plain": [
              "0.9677241379310345"
            ]
          },
          "execution_count": 54,
          "metadata": {},
          "output_type": "execute_result"
        }
      ]
    },
    {
      "cell_type": "code",
      "metadata": {
        "id": "fluid-communist",
        "outputId": "6e466157-8828-4cb6-c81c-ddb283033ab0"
      },
      "source": [
        "dummy = DummyClassifier(strategy = 'most_frequent')\n",
        "dummy.fit(X_train, y_train)\n",
        "dummy.score(X_test, y_test)"
      ],
      "id": "fluid-communist",
      "execution_count": null,
      "outputs": [
        {
          "data": {
            "text/plain": [
              "0.7922758620689655"
            ]
          },
          "execution_count": 95,
          "metadata": {},
          "output_type": "execute_result"
        }
      ]
    },
    {
      "cell_type": "code",
      "metadata": {
        "id": "baking-scene",
        "outputId": "35ec3286-4378-4082-e74d-35c613dc1b85"
      },
      "source": [
        "predictions = lr.predict(X_test)\n",
        "\n",
        "confusion = confusion_matrix(y_test, predictions, labels=[1, 0])\n",
        "print(confusion)"
      ],
      "id": "baking-scene",
      "execution_count": null,
      "outputs": [
        {
          "name": "stdout",
          "output_type": "stream",
          "text": [
            "[[2829   43]\n",
            " [  64  689]]\n"
          ]
        }
      ]
    },
    {
      "cell_type": "code",
      "metadata": {
        "id": "funded-humanitarian",
        "outputId": "c9c8dcd8-a29b-41a8-d50a-67051802dc8d"
      },
      "source": [
        "presision=confusion[0][0]/(confusion[0][0]+confusion[1][0])\n",
        "recall=confusion[0][0]/(confusion[0][0]+confusion[0][1])\n",
        "print(presision)\n",
        "print(recall)"
      ],
      "id": "funded-humanitarian",
      "execution_count": null,
      "outputs": [
        {
          "name": "stdout",
          "output_type": "stream",
          "text": [
            "0.9778776356723125\n",
            "0.9850278551532033\n"
          ]
        }
      ]
    },
    {
      "cell_type": "code",
      "metadata": {
        "id": "referenced-heaven",
        "outputId": "cf71cc8a-8d76-431c-dc96-637a41a5d934"
      },
      "source": [
        "accuracy = accuracy_score(y_test, predictions)\n",
        "precision = precision_score(y_test, predictions)\n",
        "recall = recall_score(y_test, predictions)\n",
        "f1 = f1_score(y_test, predictions)\n",
        "fbeta_precision = fbeta_score(y_test, predictions, 0.5)\n",
        "fbeta_recall = fbeta_score(y_test, predictions, 2)\n",
        "\n",
        "print('Accuracy score: {:.2f}'.format(accuracy))\n",
        "print('Precision score: {:.2f}'.format(precision))\n",
        "print('Recall score: {:.2f}'.format(recall))\n",
        "print('F1 score: {:.2f}'.format(f1))\n",
        "print('Fbeta score favoring precision: {:.2f}'.format(fbeta_precision))\n",
        "print('FBeta score favoring recall: {:.2f}'.format(fbeta_recall))"
      ],
      "id": "referenced-heaven",
      "execution_count": null,
      "outputs": [
        {
          "name": "stdout",
          "output_type": "stream",
          "text": [
            "Accuracy score: 0.97\n",
            "Precision score: 0.97\n",
            "Recall score: 0.98\n",
            "F1 score: 0.98\n",
            "Fbeta score favoring precision: 0.98\n",
            "FBeta score favoring recall: 0.98\n"
          ]
        },
        {
          "name": "stderr",
          "output_type": "stream",
          "text": [
            "c:\\users\\serge\\appdata\\local\\programs\\python\\python38\\lib\\site-packages\\sklearn\\utils\\validation.py:70: FutureWarning: Pass beta=0.5 as keyword args. From version 1.0 (renaming of 0.25) passing these as positional arguments will result in an error\n",
            "  warnings.warn(f\"Pass {args_msg} as keyword args. From version \"\n",
            "c:\\users\\serge\\appdata\\local\\programs\\python\\python38\\lib\\site-packages\\sklearn\\utils\\validation.py:70: FutureWarning: Pass beta=2 as keyword args. From version 1.0 (renaming of 0.25) passing these as positional arguments will result in an error\n",
            "  warnings.warn(f\"Pass {args_msg} as keyword args. From version \"\n"
          ]
        }
      ]
    },
    {
      "cell_type": "code",
      "metadata": {
        "id": "delayed-retirement",
        "outputId": "4be54665-6610-435e-d4b6-94b83ece3c66"
      },
      "source": [
        "probs = lr.predict_proba(X_test)[:, 1]\n",
        "print(probs[1:30])"
      ],
      "id": "delayed-retirement",
      "execution_count": null,
      "outputs": [
        {
          "name": "stdout",
          "output_type": "stream",
          "text": [
            "[9.99679624e-01 9.05325842e-01 9.94116509e-01 1.62555031e-01\n",
            " 9.97058259e-01 9.99738183e-01 9.89355758e-01 4.43919215e-05\n",
            " 9.98632172e-01 9.98511422e-01 6.25431089e-01 3.35307171e-01\n",
            " 9.99968990e-01 9.92497733e-01 9.99508354e-01 9.99746775e-01\n",
            " 8.54531168e-06 9.99969170e-01 9.99715057e-01 7.09239806e-02\n",
            " 9.99969243e-01 9.92109264e-01 5.48086657e-14 9.99951187e-01\n",
            " 9.98575113e-01 9.69798788e-01 9.99977080e-01 9.91431764e-01\n",
            " 9.99672883e-01]\n"
          ]
        }
      ]
    },
    {
      "cell_type": "code",
      "metadata": {
        "id": "dated-carolina",
        "outputId": "c7821486-3f6b-4660-b437-3421bb275f56"
      },
      "source": [
        "pos = [i for i, j in zip(probs, y_test) if j == 1]\n",
        "neg = [i for i, j in zip(probs, y_test) if j == 0]\n",
        "\n",
        "with plt.xkcd():\n",
        "  fig = plt.figure(figsize=(8, 4))\n",
        "\n",
        "  sns.distplot(pos, hist = False, kde = True, color='g',\n",
        "                 kde_kws = {'shade': True, 'linewidth': 3})\n",
        "\n",
        "  sns.distplot(neg, hist = False, kde = True, color='r',\n",
        "                 kde_kws = {'shade': True, 'linewidth': 3})\n",
        "\n",
        "  plt.plot([0.5, 0.5], [0, 25], '-b')\n",
        "  plt.annotate(\n",
        "        'The probability threshold\\npositive to the right\\nnegative to the left',\n",
        "        xy=(0.51, 15), arrowprops=dict(arrowstyle='->'), xytext=(0.6, 20))\n",
        "\n",
        "plt.show()"
      ],
      "id": "dated-carolina",
      "execution_count": null,
      "outputs": [
        {
          "name": "stderr",
          "output_type": "stream",
          "text": [
            "c:\\users\\serge\\appdata\\local\\programs\\python\\python38\\lib\\site-packages\\seaborn\\distributions.py:2557: FutureWarning: `distplot` is a deprecated function and will be removed in a future version. Please adapt your code to use either `displot` (a figure-level function with similar flexibility) or `kdeplot` (an axes-level function for kernel density plots).\n",
            "  warnings.warn(msg, FutureWarning)\n",
            "c:\\users\\serge\\appdata\\local\\programs\\python\\python38\\lib\\site-packages\\seaborn\\distributions.py:2557: FutureWarning: `distplot` is a deprecated function and will be removed in a future version. Please adapt your code to use either `displot` (a figure-level function with similar flexibility) or `kdeplot` (an axes-level function for kernel density plots).\n",
            "  warnings.warn(msg, FutureWarning)\n"
          ]
        },
        {
          "data": {
            "image/png": "[encoded data removed]",
            "text/plain": [
              "<Figure size 576x288 with 1 Axes>"
            ]
          },
          "metadata": {},
          "output_type": "display_data"
        }
      ]
    },
    {
      "cell_type": "code",
      "metadata": {
        "id": "organized-terror",
        "outputId": "36909e5d-49c5-4dff-afd4-7fcad93b7e39"
      },
      "source": [
        "fpr, tpr, thresholds = roc_curve(y_test, probs)\n",
        "print(fpr[1:30])\n",
        "print(tpr[1:30])\n",
        "print(thresholds[1:30])\n",
        "fig = plt.figure(figsize = (6, 6))\n",
        "plt.plot([0, 1], [0, 1], 'k--')\n",
        "plt.plot(fpr, tpr)\n",
        "plt.xlabel('False Positive Rate')\n",
        "plt.ylabel('True Positive Rate')\n",
        "plt.title('ROC curve for Logistic Regression Model')\n",
        "plt.show()"
      ],
      "id": "organized-terror",
      "execution_count": null,
      "outputs": [
        {
          "name": "stdout",
          "output_type": "stream",
          "text": [
            "[0.         0.         0.00131062 0.00131062 0.00262123 0.00262123\n",
            " 0.00393185 0.00393185 0.00524246 0.00524246 0.00655308 0.00655308\n",
            " 0.0078637  0.0078637  0.00917431 0.00917431 0.01048493 0.01048493\n",
            " 0.01310616 0.01310616 0.01703801 0.01703801 0.02228047 0.02228047\n",
            " 0.0249017  0.0249017  0.02752294 0.02752294 0.02883355]\n",
            "[3.49406010e-04 9.64360587e-02 9.64360587e-02 2.19077568e-01\n",
            " 2.19077568e-01 2.68693222e-01 2.68693222e-01 4.39902166e-01\n",
            " 4.39902166e-01 5.03144654e-01 5.03144654e-01 6.33473096e-01\n",
            " 6.33473096e-01 6.65618449e-01 6.65618449e-01 7.50524109e-01\n",
            " 7.50524109e-01 9.63312369e-01 9.63312369e-01 9.63661775e-01\n",
            " 9.63661775e-01 9.64011181e-01 9.64011181e-01 9.64360587e-01\n",
            " 9.64360587e-01 9.73445143e-01 9.73445143e-01 9.74842767e-01\n",
            " 9.74842767e-01]\n",
            "[0.99999999 0.99996283 0.9999623  0.99985778 0.99985768 0.99979921\n",
            " 0.99979894 0.99938375 0.99938345 0.99911098 0.99910808 0.99717026\n",
            " 0.99714289 0.99591116 0.9959006  0.98980934 0.98980811 0.77936287\n",
            " 0.77885137 0.77873655 0.77830807 0.77692698 0.76895242 0.76889018\n",
            " 0.76813796 0.67945736 0.67496636 0.66673591 0.65898657]\n"
          ]
        },
        {
          "data": {
            "image/png": "[encoded data removed]",
            "text/plain": [
              "<Figure size 432x432 with 1 Axes>"
            ]
          },
          "metadata": {
            "needs_background": "light"
          },
          "output_type": "display_data"
        }
      ]
    },
    {
      "cell_type": "code",
      "metadata": {
        "id": "affiliated-phrase",
        "outputId": "ca0e5b9a-e2de-4341-83e6-8ca4e525ddb8"
      },
      "source": [
        "pres, rec, thresholds = precision_recall_curve(y_test, predictions)\n",
        "fig = plt.figure(figsize = (6, 6))\n",
        "plt.plot(rec, pres)\n",
        "plt.xlabel('Recall')\n",
        "plt.ylabel('Precision')\n",
        "plt.title('Precision-Recall Curve')\n",
        "plt.show()"
      ],
      "id": "affiliated-phrase",
      "execution_count": null,
      "outputs": [
        {
          "data": {
            "image/png": "[encoded data removed]",
            "text/plain": [
              "<Figure size 432x432 with 1 Axes>"
            ]
          },
          "metadata": {
            "needs_background": "light"
          },
          "output_type": "display_data"
        }
      ]
    },
    {
      "cell_type": "code",
      "metadata": {
        "id": "aggregate-representative",
        "outputId": "e97950b9-712c-47d5-a4ec-5e8b6e943df8"
      },
      "source": [
        "X_train, X_test, y_train, y_test = train_test_split(X, y, random_state=40)\n",
        "clf = LogisticRegression(solver='lbfgs', max_iter=1000)\n",
        "cv_scores = cross_val_score(clf, X_train, y_train, cv = 5)\n",
        "\n",
        "print('Accuracy scores for the five folds: ', cv_scores)\n",
        "print('Mean cross-validation score: {:.3f}'.format(np.mean(cv_scores)))"
      ],
      "id": "aggregate-representative",
      "execution_count": null,
      "outputs": [
        {
          "name": "stdout",
          "output_type": "stream",
          "text": [
            "Accuracy scores for the five folds:  [0.96321839 0.96781609 0.96965517 0.97057471 0.96965517]\n",
            "Mean cross-validation score: 0.968\n"
          ]
        }
      ]
    },
    {
      "cell_type": "markdown",
      "metadata": {
        "id": "loving-recorder"
      },
      "source": [
        "# 13. Is this really linear?\n",
        "Your linear classifier is not giving you better accuracy than the dummy classifier. Suppose that the data was not linearly separable. Instantiate and train a KNN model with k = 7. How does the accuracy of the KNN model compare to the logistic regression from above? What does that tell you about the data?"
      ],
      "id": "loving-recorder"
    },
    {
      "cell_type": "code",
      "metadata": {
        "id": "marked-consideration",
        "outputId": "d4d811ce-d2d6-451b-cbe9-0cdbe08de146"
      },
      "source": [
        "classifier = KNeighborsClassifier(n_neighbors=40)\n",
        "classifier.fit(X_train, y_train)\n",
        "y_pred = classifier.predict(X_test)\n",
        "print(confusion_matrix(y_test, y_pred, labels=[1, 0]))\n",
        "print(classification_report(y_test, y_pred))"
      ],
      "id": "marked-consideration",
      "execution_count": null,
      "outputs": [
        {
          "name": "stdout",
          "output_type": "stream",
          "text": [
            "[[2861   11]\n",
            " [  17  736]]\n",
            "              precision    recall  f1-score   support\n",
            "\n",
            "           0       0.99      0.98      0.98       753\n",
            "           1       0.99      1.00      1.00      2872\n",
            "\n",
            "    accuracy                           0.99      3625\n",
            "   macro avg       0.99      0.99      0.99      3625\n",
            "weighted avg       0.99      0.99      0.99      3625\n",
            "\n"
          ]
        }
      ]
    },
    {
      "cell_type": "code",
      "metadata": {
        "id": "golden-pavilion",
        "outputId": "b6db2801-163a-41a5-ee4c-778ea958b4b0"
      },
      "source": [
        "error = []\n",
        "\n",
        "# Calculating error for K values between 1 and 40\n",
        "for i in range(1, 40):\n",
        "    knn = KNeighborsClassifier(n_neighbors=i)\n",
        "    knn.fit(X_train, y_train)\n",
        "    pred_i = knn.predict(X_test)\n",
        "    error.append(np.mean(pred_i != y_test))\n",
        "plt.figure(figsize=(12, 6))\n",
        "plt.plot(range(1, 40), error, color='red', linestyle='dashed', marker='o',\n",
        "         markerfacecolor='blue', markersize=10)\n",
        "plt.title('Error Rate K Value')\n",
        "plt.xlabel('K Value')\n",
        "plt.ylabel('Mean Error')"
      ],
      "id": "golden-pavilion",
      "execution_count": null,
      "outputs": [
        {
          "data": {
            "text/plain": [
              "Text(0, 0.5, 'Mean Error')"
            ]
          },
          "execution_count": 92,
          "metadata": {},
          "output_type": "execute_result"
        },
        {
          "data": {
            "image/png": "[encoded data removed]",
            "text/plain": [
              "<Figure size 864x432 with 1 Axes>"
            ]
          },
          "metadata": {
            "needs_background": "light"
          },
          "output_type": "display_data"
        }
      ]
    },
    {
      "cell_type": "code",
      "metadata": {
        "id": "actual-disclosure",
        "outputId": "926cb33b-06f7-4f55-d568-a1d0562d708e"
      },
      "source": [
        "regressor = RandomForestRegressor(n_estimators=7, random_state=0)\n",
        "regressor.fit(X_train, y_train)\n",
        "y_pred = regressor.predict(X_test).astype(int)\n",
        "print(confusion_matrix(y_test,y_pred, labels=[1, 0]))\n",
        "print(classification_report(y_test,y_pred))\n",
        "print(accuracy_score(y_test, y_pred))"
      ],
      "id": "actual-disclosure",
      "execution_count": null,
      "outputs": [
        {
          "name": "stdout",
          "output_type": "stream",
          "text": [
            "[[2867    5]\n",
            " [   1  752]]\n",
            "              precision    recall  f1-score   support\n",
            "\n",
            "           0       0.99      1.00      1.00       753\n",
            "           1       1.00      1.00      1.00      2872\n",
            "\n",
            "    accuracy                           1.00      3625\n",
            "   macro avg       1.00      1.00      1.00      3625\n",
            "weighted avg       1.00      1.00      1.00      3625\n",
            "\n",
            "0.9983448275862069\n"
          ]
        }
      ]
    },
    {
      "cell_type": "code",
      "metadata": {
        "id": "innocent-worth",
        "outputId": "615565c9-6f2a-4743-b96a-4c2a9e5aebed"
      },
      "source": [
        "x=[1,2,3,4,5,6]\n",
        "print(x[2::-1])"
      ],
      "id": "innocent-worth",
      "execution_count": null,
      "outputs": [
        {
          "name": "stdout",
          "output_type": "stream",
          "text": [
            "[3, 2, 1]\n"
          ]
        }
      ]
    },
    {
      "cell_type": "code",
      "metadata": {
        "id": "black-strike"
      },
      "source": [
        ""
      ],
      "id": "black-strike",
      "execution_count": null,
      "outputs": []
    }
  ]
}
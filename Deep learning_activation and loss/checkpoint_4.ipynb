{
  "nbformat": 4,
  "nbformat_minor": 5,
  "metadata": {
    "kernelspec": {
      "display_name": "Python 3",
      "language": "python",
      "name": "python3"
    },
    "language_info": {
      "codemirror_mode": {
        "name": "ipython",
        "version": 3
      },
      "file_extension": ".py",
      "mimetype": "text/x-python",
      "name": "python",
      "nbconvert_exporter": "python",
      "pygments_lexer": "ipython3",
      "version": "3.8.1"
    },
    "colab": {
      "name": "checkpoint_4.ipynb",
      "provenance": []
    }
  },
  "cells": [
    {
      "cell_type": "code",
      "metadata": {
        "id": "grateful-capital"
      },
      "source": [
        "import warnings\n",
        "warnings.filterwarnings(\"ignore\")\n",
        "\n",
        "from tensorflow.keras.datasets import mnist"
      ],
      "id": "grateful-capital",
      "execution_count": null,
      "outputs": []
    },
    {
      "cell_type": "code",
      "metadata": {
        "id": "expected-rough"
      },
      "source": [
        "(X_train, y_train), (X_test, y_test) = mnist.load_data()\n",
        "\n",
        "input_dim = 784  # 28*28\n",
        "output_dim = nb_classes = 10\n",
        "batch_size = 128\n",
        "nb_epoch = 20\n",
        "\n",
        "X_train = X_train.reshape(60000, input_dim)\n",
        "X_test = X_test.reshape(10000, input_dim)\n",
        "X_train = X_train.astype('float32')\n",
        "X_test = X_test.astype('float32')\n",
        "X_train /= 255\n",
        "X_test /= 255"
      ],
      "id": "expected-rough",
      "execution_count": null,
      "outputs": []
    },
    {
      "cell_type": "code",
      "metadata": {
        "id": "light-surprise"
      },
      "source": [
        "from tensorflow.keras.utils import to_categorical\n",
        "\n",
        "Y_train = to_categorical(y_train, nb_classes)\n",
        "Y_test = to_categorical(y_test, nb_classes)"
      ],
      "id": "light-surprise",
      "execution_count": null,
      "outputs": []
    },
    {
      "cell_type": "code",
      "metadata": {
        "id": "numerical-enterprise",
        "outputId": "9b43952f-1ffc-4d40-ac15-a269d3017901"
      },
      "source": [
        "X_train[0].shape"
      ],
      "id": "numerical-enterprise",
      "execution_count": null,
      "outputs": [
        {
          "output_type": "execute_result",
          "data": {
            "text/plain": [
              "(784,)"
            ]
          },
          "metadata": {
            "tags": []
          },
          "execution_count": 6
        }
      ]
    },
    {
      "cell_type": "markdown",
      "metadata": {
        "id": "federal-munich"
      },
      "source": [
        "# In this task, you'll build an ANN and train and test it using the MNIST data. This ANN should consist of two hidden layers and one output layer. All of the hidden layers should be dense. The first layer and the second layer should have neuron sizes of 32 and 16, respectively. Train this model for 20 epochs, and compare your training and test set performance with the example in the checkpoint. Is there any difference? If so, why?"
      ],
      "id": "federal-munich"
    },
    {
      "cell_type": "code",
      "metadata": {
        "id": "valued-arcade"
      },
      "source": [
        "from tensorflow.keras.models import Sequential \n",
        "from tensorflow.keras.layers import Dense\n",
        "\n",
        "model = Sequential()\n",
        "# The first dense layer\n",
        "model.add(Dense(32, input_shape=(784,), activation=\"relu\"))\n",
        "# The second dense layer\n",
        "model.add(Dense(16, activation=\"relu\"))\n",
        "# The last layer is the output layer\n",
        "model.add(Dense(10, activation=\"softmax\"))"
      ],
      "id": "valued-arcade",
      "execution_count": null,
      "outputs": []
    },
    {
      "cell_type": "code",
      "metadata": {
        "id": "least-spain",
        "outputId": "565c317a-7c74-4cba-c52a-9da9d1cc6f7e"
      },
      "source": [
        "model.summary()"
      ],
      "id": "least-spain",
      "execution_count": null,
      "outputs": [
        {
          "output_type": "stream",
          "text": [
            "Model: \"sequential\"\n",
            "_________________________________________________________________\n",
            "Layer (type)                 Output Shape              Param #   \n",
            "=================================================================\n",
            "dense (Dense)                (None, 32)                25120     \n",
            "_________________________________________________________________\n",
            "dense_1 (Dense)              (None, 16)                528       \n",
            "_________________________________________________________________\n",
            "dense_2 (Dense)              (None, 10)                170       \n",
            "=================================================================\n",
            "Total params: 25,818\n",
            "Trainable params: 25,818\n",
            "Non-trainable params: 0\n",
            "_________________________________________________________________\n"
          ],
          "name": "stdout"
        }
      ]
    },
    {
      "cell_type": "code",
      "metadata": {
        "id": "incredible-zimbabwe"
      },
      "source": [
        "model.compile(optimizer='sgd', loss='categorical_crossentropy',\n",
        "              metrics=['accuracy'])"
      ],
      "id": "incredible-zimbabwe",
      "execution_count": null,
      "outputs": []
    },
    {
      "cell_type": "code",
      "metadata": {
        "id": "advance-catering",
        "outputId": "54dc4dd1-d1e6-490c-cf12-d0d0343ddb3b"
      },
      "source": [
        "# Setting `verbose=1` prints out some results after each epoch\n",
        "model.fit(X_train, Y_train, batch_size=batch_size, epochs=20, verbose=1)"
      ],
      "id": "advance-catering",
      "execution_count": null,
      "outputs": [
        {
          "output_type": "stream",
          "text": [
            "Epoch 1/20\n",
            "469/469 [==============================] - 1s 1ms/step - loss: 1.6838 - accuracy: 0.4814\n",
            "Epoch 2/20\n",
            "469/469 [==============================] - 1s 1ms/step - loss: 0.7761 - accuracy: 0.8127\n",
            "Epoch 3/20\n",
            "469/469 [==============================] - 1s 1ms/step - loss: 0.4944 - accuracy: 0.8635\n",
            "Epoch 4/20\n",
            "469/469 [==============================] - 1s 1ms/step - loss: 0.4156 - accuracy: 0.8820\n",
            "Epoch 5/20\n",
            "469/469 [==============================] - 1s 1ms/step - loss: 0.3771 - accuracy: 0.8917: 0s - loss: 0.3859 - accuracy: 0.88 - ETA: 0s - loss: 0.3821 - accuracy\n",
            "Epoch 6/20\n",
            "469/469 [==============================] - ETA: 0s - loss: 0.3538 - accuracy: 0.89 - 1s 1ms/step - loss: 0.3520 - accuracy: 0.8982\n",
            "Epoch 7/20\n",
            "469/469 [==============================] - 1s 1ms/step - loss: 0.3329 - accuracy: 0.9035: 0s - loss: 0\n",
            "Epoch 8/20\n",
            "469/469 [==============================] - 1s 1ms/step - loss: 0.3175 - accuracy: 0.9076\n",
            "Epoch 9/20\n",
            "469/469 [==============================] - 1s 1ms/step - loss: 0.3044 - accuracy: 0.9117\n",
            "Epoch 10/20\n",
            "469/469 [==============================] - 1s 1ms/step - loss: 0.2929 - accuracy: 0.9155\n",
            "Epoch 11/20\n",
            "469/469 [==============================] - 1s 1ms/step - loss: 0.2821 - accuracy: 0.9185: 0s - loss: 0.2816 - accuracy: \n",
            "Epoch 12/20\n",
            "469/469 [==============================] - 1s 1ms/step - loss: 0.2729 - accuracy: 0.9214: 0s - loss: 0.2741 - \n",
            "Epoch 13/20\n",
            "469/469 [==============================] - 1s 1ms/step - loss: 0.2638 - accuracy: 0.9242: 0s - loss: 0.2632 - accuracy: 0.92\n",
            "Epoch 14/20\n",
            "469/469 [==============================] - 1s 1ms/step - loss: 0.2558 - accuracy: 0.9265: 0s - loss: 0.2552 - accuracy: 0.\n",
            "Epoch 15/20\n",
            "469/469 [==============================] - 1s 1ms/step - loss: 0.2482 - accuracy: 0.9286\n",
            "Epoch 16/20\n",
            "469/469 [==============================] - 1s 1ms/step - loss: 0.2408 - accuracy: 0.9314\n",
            "Epoch 17/20\n",
            "469/469 [==============================] - 1s 1ms/step - loss: 0.2340 - accuracy: 0.9329: 0s - loss: 0\n",
            "Epoch 18/20\n",
            "469/469 [==============================] - 1s 1ms/step - loss: 0.2274 - accuracy: 0.9351\n",
            "Epoch 19/20\n",
            "469/469 [==============================] - 1s 1ms/step - loss: 0.2213 - accuracy: 0.9369\n",
            "Epoch 20/20\n",
            "469/469 [==============================] - 1s 1ms/step - loss: 0.2152 - accuracy: 0.9380: 0s - loss: 0.2165 - accuracy: 0.\n"
          ],
          "name": "stdout"
        },
        {
          "output_type": "execute_result",
          "data": {
            "text/plain": [
              "<tensorflow.python.keras.callbacks.History at 0x1a6070309d0>"
            ]
          },
          "metadata": {
            "tags": []
          },
          "execution_count": 10
        }
      ]
    },
    {
      "cell_type": "code",
      "metadata": {
        "id": "responsible-monitor",
        "outputId": "5099e1fd-bc23-48ae-c201-47d31291785b"
      },
      "source": [
        "score = model.evaluate(X_test, Y_test, verbose=0)\n",
        "print('Test score:', score[0])\n",
        "print('Test accuracy:', score[1])"
      ],
      "id": "responsible-monitor",
      "execution_count": null,
      "outputs": [
        {
          "output_type": "stream",
          "text": [
            "Test score: 0.21391651034355164\n",
            "Test accuracy: 0.9365000128746033\n"
          ],
          "name": "stdout"
        }
      ]
    },
    {
      "cell_type": "markdown",
      "metadata": {
        "id": "incorporated-terminology"
      },
      "source": [
        "Looks like the model is not complicated enough, test accuracy is down, test loss is up compared to more complicated model"
      ],
      "id": "incorporated-terminology"
    },
    {
      "cell_type": "markdown",
      "metadata": {
        "id": "closing-bottle"
      },
      "source": [
        "# In this task, build another ANN. This ANN should have five hidden layers and one output layer. All of the layers should be dense. The neuron numbers for the hidden layers should be 1024, 512, 256, 128, and 64. Train this model for 20 epochs, and test it using the same data from the previous task. Then compare your results. Is there any difference? If so, why?"
      ],
      "id": "closing-bottle"
    },
    {
      "cell_type": "code",
      "metadata": {
        "id": "norman-hundred"
      },
      "source": [
        "model = Sequential()\n",
        "# The first dense layer\n",
        "model.add(Dense(1024, input_shape=(784,), activation=\"relu\"))\n",
        "# The second dense layer\n",
        "model.add(Dense(512, activation=\"relu\"))\n",
        "# The third dense layer\n",
        "model.add(Dense(256, input_shape=(784,), activation=\"relu\"))\n",
        "# The fourth dense layer\n",
        "model.add(Dense(126, activation=\"relu\"))\n",
        "# The fifth dense layer\n",
        "model.add(Dense(64, activation=\"relu\"))\n",
        "# The last layer is the output layer\n",
        "model.add(Dense(10, activation=\"softmax\"))"
      ],
      "id": "norman-hundred",
      "execution_count": null,
      "outputs": []
    },
    {
      "cell_type": "code",
      "metadata": {
        "id": "detected-adoption"
      },
      "source": [
        "model.compile(optimizer='sgd', loss='categorical_crossentropy',\n",
        "              metrics=['accuracy'])"
      ],
      "id": "detected-adoption",
      "execution_count": null,
      "outputs": []
    },
    {
      "cell_type": "code",
      "metadata": {
        "id": "african-questionnaire",
        "outputId": "880c1b40-3572-4b0a-d790-8d3a092ea5e3"
      },
      "source": [
        "# Setting `verbose=1` prints out some results after each epoch\n",
        "model.fit(X_train, Y_train, batch_size=batch_size, epochs=20, verbose=1)"
      ],
      "id": "african-questionnaire",
      "execution_count": null,
      "outputs": [
        {
          "output_type": "stream",
          "text": [
            "Epoch 1/20\n",
            "469/469 [==============================] - 5s 10ms/step - loss: 1.2566 - accuracy: 0.6525\n",
            "Epoch 2/20\n",
            "469/469 [==============================] - 5s 10ms/step - loss: 0.3717 - accuracy: 0.8954\n",
            "Epoch 3/20\n",
            "469/469 [==============================] - 5s 10ms/step - loss: 0.2798 - accuracy: 0.9200\n",
            "Epoch 4/20\n",
            "469/469 [==============================] - 5s 10ms/step - loss: 0.2336 - accuracy: 0.9333\n",
            "Epoch 5/20\n",
            "469/469 [==============================] - 5s 10ms/step - loss: 0.2024 - accuracy: 0.9418\n",
            "Epoch 6/20\n",
            "469/469 [==============================] - 5s 10ms/step - loss: 0.1790 - accuracy: 0.9489\n",
            "Epoch 7/20\n",
            "469/469 [==============================] - 5s 10ms/step - loss: 0.1605 - accuracy: 0.9545\n",
            "Epoch 8/20\n",
            "469/469 [==============================] - 5s 10ms/step - loss: 0.1465 - accuracy: 0.9583\n",
            "Epoch 9/20\n",
            "469/469 [==============================] - 5s 10ms/step - loss: 0.1337 - accuracy: 0.9615\n",
            "Epoch 10/20\n",
            "469/469 [==============================] - 4s 10ms/step - loss: 0.1230 - accuracy: 0.9653\n",
            "Epoch 11/20\n",
            "469/469 [==============================] - 5s 10ms/step - loss: 0.1130 - accuracy: 0.9679\n",
            "Epoch 12/20\n",
            "469/469 [==============================] - 5s 10ms/step - loss: 0.1041 - accuracy: 0.9704\n",
            "Epoch 13/20\n",
            "469/469 [==============================] - 4s 9ms/step - loss: 0.0969 - accuracy: 0.9719\n",
            "Epoch 14/20\n",
            "469/469 [==============================] - 5s 10ms/step - loss: 0.0897 - accuracy: 0.9745\n",
            "Epoch 15/20\n",
            "469/469 [==============================] - 5s 10ms/step - loss: 0.0833 - accuracy: 0.9759\n",
            "Epoch 16/20\n",
            "469/469 [==============================] - 5s 10ms/step - loss: 0.0772 - accuracy: 0.9779\n",
            "Epoch 17/20\n",
            "469/469 [==============================] - 4s 10ms/step - loss: 0.0717 - accuracy: 0.9798\n",
            "Epoch 18/20\n",
            "469/469 [==============================] - 5s 10ms/step - loss: 0.0670 - accuracy: 0.9807\n",
            "Epoch 19/20\n",
            "469/469 [==============================] - 7s 16ms/step - loss: 0.0624 - accuracy: 0.9823\n",
            "Epoch 20/20\n",
            "469/469 [==============================] - 7s 14ms/step - loss: 0.0574 - accuracy: 0.9839\n"
          ],
          "name": "stdout"
        },
        {
          "output_type": "execute_result",
          "data": {
            "text/plain": [
              "<tensorflow.python.keras.callbacks.History at 0x1a607271d60>"
            ]
          },
          "metadata": {
            "tags": []
          },
          "execution_count": 14
        }
      ]
    },
    {
      "cell_type": "code",
      "metadata": {
        "id": "authorized-china",
        "outputId": "1f535ee5-c9d7-4092-c734-f0b42603df3d"
      },
      "source": [
        "score = model.evaluate(X_test, Y_test, verbose=0)\n",
        "print('Test score:', score[0])\n",
        "print('Test accuracy:', score[1])"
      ],
      "id": "authorized-china",
      "execution_count": null,
      "outputs": [
        {
          "output_type": "stream",
          "text": [
            "Test score: 0.08474591374397278\n",
            "Test accuracy: 0.9739999771118164\n"
          ],
          "name": "stdout"
        }
      ]
    },
    {
      "cell_type": "markdown",
      "metadata": {
        "id": "bizarre-france"
      },
      "source": [
        "There's a big difference. The model with more layers achieved better accuracy on test data. Because a more complicated model was able to learn hard cases the pevious model wasn't able to categorize."
      ],
      "id": "bizarre-france"
    },
    {
      "cell_type": "markdown",
      "metadata": {
        "id": "shared-cholesterol"
      },
      "source": [
        "# In this task, you'll implement several ANN models with different activation functions. For each, use the cross-entropy loss function as the loss function. Specifically, do the following:"
      ],
      "id": "shared-cholesterol"
    },
    {
      "cell_type": "markdown",
      "metadata": {
        "id": "religious-concentrate"
      },
      "source": [
        "## Implement a three-layer ANN model with 128, 64, and 10 neurons in the layers. Use the tanh activation function for each layer."
      ],
      "id": "religious-concentrate"
    },
    {
      "cell_type": "code",
      "metadata": {
        "id": "surgical-morgan",
        "outputId": "66ff6b31-7a8e-4cd6-a9cf-c2b144a10418"
      },
      "source": [
        "model = Sequential()\n",
        "# The first dense layer\n",
        "model.add(Dense(128, input_shape=(784,), activation=\"tanh\"))\n",
        "# The second dense layer\n",
        "model.add(Dense(64, activation=\"tanh\"))\n",
        "# The last layer is the output layer\n",
        "model.add(Dense(10, activation=\"softmax\"))\n",
        "model.compile(optimizer='sgd', loss='categorical_crossentropy',\n",
        "              metrics=['accuracy'])\n",
        "# Setting `verbose=1` prints out some results after each epoch\n",
        "model.fit(X_train, Y_train, batch_size=batch_size, epochs=20, verbose=1)\n",
        "score = model.evaluate(X_test, Y_test, verbose=0)\n",
        "print('Test score:', score[0])\n",
        "print('Test accuracy:', score[1])"
      ],
      "id": "surgical-morgan",
      "execution_count": null,
      "outputs": [
        {
          "output_type": "stream",
          "text": [
            "Epoch 1/20\n",
            "469/469 [==============================] - 1s 2ms/step - loss: 1.0338 - accuracy: 0.7450\n",
            "Epoch 2/20\n",
            "469/469 [==============================] - 1s 2ms/step - loss: 0.5176 - accuracy: 0.8715\n",
            "Epoch 3/20\n",
            "469/469 [==============================] - 1s 2ms/step - loss: 0.4165 - accuracy: 0.8895: 0s - loss: 0.4319 - accuracy - ETA: 0s - loss: 0.4289 - ac\n",
            "Epoch 4/20\n",
            "469/469 [==============================] - 1s 2ms/step - loss: 0.3695 - accuracy: 0.8986: 0s - loss: 0.3744 - accuracy - ETA: 0s - loss: 0.3694 - accuracy: 0.89\n",
            "Epoch 5/20\n",
            "469/469 [==============================] - 1s 2ms/step - loss: 0.3408 - accuracy: 0.9050\n",
            "Epoch 6/20\n",
            "469/469 [==============================] - 1s 2ms/step - loss: 0.3207 - accuracy: 0.9096: 0s - loss: 0\n",
            "Epoch 7/20\n",
            "469/469 [==============================] - 1s 2ms/step - loss: 0.3051 - accuracy: 0.9130\n",
            "Epoch 8/20\n",
            "469/469 [==============================] - 1s 2ms/step - loss: 0.2922 - accuracy: 0.9168\n",
            "Epoch 9/20\n",
            "469/469 [==============================] - 1s 2ms/step - loss: 0.2814 - accuracy: 0.9197\n",
            "Epoch 10/20\n",
            "469/469 [==============================] - 1s 2ms/step - loss: 0.2717 - accuracy: 0.9227\n",
            "Epoch 11/20\n",
            "469/469 [==============================] - ETA: 0s - loss: 0.2640 - accuracy: 0.9238 ETA: 0s - loss: 0.2625 - accu - 1s 2ms/step - loss: 0.2630 - accuracy: 0.9245\n",
            "Epoch 12/20\n",
            "469/469 [==============================] - 1s 2ms/step - loss: 0.2550 - accuracy: 0.9269\n",
            "Epoch 13/20\n",
            "469/469 [==============================] - 1s 2ms/step - loss: 0.2476 - accuracy: 0.9296: 0s - loss: 0.2586 - accuracy: 0.92 - ETA: 0s - loss: 0.2545 - accuracy:  - ETA: 0s - l\n",
            "Epoch 14/20\n",
            "469/469 [==============================] - 1s 2ms/step - loss: 0.2406 - accuracy: 0.9314: 0s - loss:\n",
            "Epoch 15/20\n",
            "469/469 [==============================] - 1s 2ms/step - loss: 0.2340 - accuracy: 0.9335\n",
            "Epoch 16/20\n",
            "469/469 [==============================] - 1s 2ms/step - loss: 0.2278 - accuracy: 0.9351\n",
            "Epoch 17/20\n",
            "469/469 [==============================] - 1s 2ms/step - loss: 0.2219 - accuracy: 0.9369\n",
            "Epoch 18/20\n",
            "469/469 [==============================] - 1s 2ms/step - loss: 0.2163 - accuracy: 0.9386\n",
            "Epoch 19/20\n",
            "469/469 [==============================] - 1s 2ms/step - loss: 0.2111 - accuracy: 0.9401: 0s - loss: 0.2124 - accuracy\n",
            "Epoch 20/20\n",
            "469/469 [==============================] - 1s 2ms/step - loss: 0.2060 - accuracy: 0.9418\n",
            "Test score: 0.20505256950855255\n",
            "Test accuracy: 0.9412999749183655\n"
          ],
          "name": "stdout"
        }
      ]
    },
    {
      "cell_type": "markdown",
      "metadata": {
        "id": "hungry-polymer"
      },
      "source": [
        "## Implement a three-layer ANN model with 128, 64, and 10 neurons in the layers. Use the sigmoid activation function for each layer."
      ],
      "id": "hungry-polymer"
    },
    {
      "cell_type": "code",
      "metadata": {
        "id": "naval-stone",
        "outputId": "508ec13c-89f7-4a39-b792-1b4e72a34c59"
      },
      "source": [
        "model = Sequential()\n",
        "# The first dense layer\n",
        "model.add(Dense(128, input_shape=(784,), activation=\"sigmoid\"))\n",
        "# The second dense layer\n",
        "model.add(Dense(64, activation=\"sigmoid\"))\n",
        "# The last layer is the output layer\n",
        "model.add(Dense(10, activation=\"softmax\"))\n",
        "model.compile(optimizer='sgd', loss='categorical_crossentropy',\n",
        "              metrics=['accuracy'])\n",
        "# Setting `verbose=1` prints out some results after each epoch\n",
        "model.fit(X_train, Y_train, batch_size=batch_size, epochs=20, verbose=1)\n",
        "score = model.evaluate(X_test, Y_test, verbose=0)\n",
        "print('Test score:', score[0])\n",
        "print('Test accuracy:', score[1])"
      ],
      "id": "naval-stone",
      "execution_count": null,
      "outputs": [
        {
          "output_type": "stream",
          "text": [
            "Epoch 1/20\n",
            "469/469 [==============================] - 1s 2ms/step - loss: 2.2870 - accuracy: 0.1704\n",
            "Epoch 2/20\n",
            "469/469 [==============================] - 1s 2ms/step - loss: 2.2263 - accuracy: 0.3496: 0s - loss: 2.2344 - accura\n",
            "Epoch 3/20\n",
            "469/469 [==============================] - 1s 2ms/step - loss: 2.1626 - accuracy: 0.4822: 0s - loss: 2.1807 - accuracy - ETA: 0s - loss: 2.1711 - accuracy\n",
            "Epoch 4/20\n",
            "469/469 [==============================] - 1s 2ms/step - loss: 2.0705 - accuracy: 0.5488\n",
            "Epoch 5/20\n",
            "469/469 [==============================] - 1s 2ms/step - loss: 1.9366 - accuracy: 0.5881\n",
            "Epoch 6/20\n",
            "469/469 [==============================] - 1s 2ms/step - loss: 1.7571 - accuracy: 0.6130\n",
            "Epoch 7/20\n",
            "469/469 [==============================] - 1s 2ms/step - loss: 1.5532 - accuracy: 0.6498: 0s - loss: 1.5853 - accu\n",
            "Epoch 8/20\n",
            "469/469 [==============================] - 1s 2ms/step - loss: 1.3624 - accuracy: 0.6818: 0s - loss: 1.4028 - \n",
            "Epoch 9/20\n",
            "469/469 [==============================] - 1s 2ms/step - loss: 1.2066 - accuracy: 0.7144\n",
            "Epoch 10/20\n",
            "469/469 [==============================] - 1s 2ms/step - loss: 1.0855 - accuracy: 0.7383\n",
            "Epoch 11/20\n",
            "469/469 [==============================] - 1s 2ms/step - loss: 0.9905 - accuracy: 0.7581: 0s - loss: 1.0136 - accuracy: 0. - ETA: 0s - loss: 1.0096 - \n",
            "Epoch 12/20\n",
            "469/469 [==============================] - 1s 2ms/step - loss: 0.9139 - accuracy: 0.7764: 0s - loss: 0.938\n",
            "Epoch 13/20\n",
            "469/469 [==============================] - ETA: 0s - loss: 0.8505 - accuracy: 0.79 - 1s 2ms/step - loss: 0.8500 - accuracy: 0.7910\n",
            "Epoch 14/20\n",
            "469/469 [==============================] - 1s 2ms/step - loss: 0.7955 - accuracy: 0.8031: 0s - loss: 0.8038 - \n",
            "Epoch 15/20\n",
            "469/469 [==============================] - 1s 2ms/step - loss: 0.7482 - accuracy: 0.8140: 0s - loss: 0.7\n",
            "Epoch 16/20\n",
            "469/469 [==============================] - 1s 2ms/step - loss: 0.7070 - accuracy: 0.8233: 0s - loss: 0.7180 - accuracy: 0.82 - ETA: 0s - loss: 0.719\n",
            "Epoch 17/20\n",
            "469/469 [==============================] - 1s 2ms/step - loss: 0.6707 - accuracy: 0.8319: 0s - loss: 0.6\n",
            "Epoch 18/20\n",
            "469/469 [==============================] - 1s 2ms/step - loss: 0.6389 - accuracy: 0.8390\n",
            "Epoch 19/20\n",
            "469/469 [==============================] - ETA: 0s - loss: 0.6111 - accuracy: 0.8446 ETA: 0s - loss: 0.6142 - accu - 1s 2ms/step - loss: 0.6109 - accuracy: 0.8444\n",
            "Epoch 20/20\n",
            "469/469 [==============================] - 1s 2ms/step - loss: 0.5860 - accuracy: 0.8492: 0s - loss: 0.5943 - accura - ETA: 0s - loss: 0.5\n",
            "Test score: 0.5628237128257751\n",
            "Test accuracy: 0.8554999828338623\n"
          ],
          "name": "stdout"
        }
      ]
    },
    {
      "cell_type": "markdown",
      "metadata": {
        "id": "desperate-cinema"
      },
      "source": [
        "## Implement a three-layer ANN model with 128, 64, and 10 neurons in the layers. Use the ReLU activation function for each layer."
      ],
      "id": "desperate-cinema"
    },
    {
      "cell_type": "code",
      "metadata": {
        "id": "paperback-framing",
        "outputId": "fe4d0fd8-ad94-4a20-c99b-920f7c99e1bb"
      },
      "source": [
        "model = Sequential()\n",
        "# The first dense layer\n",
        "model.add(Dense(128, input_shape=(784,), activation=\"relu\"))\n",
        "# The second dense layer\n",
        "model.add(Dense(64, activation=\"relu\"))\n",
        "# The last layer is the output layer\n",
        "model.add(Dense(10, activation=\"softmax\"))\n",
        "model.compile(optimizer='sgd', loss='categorical_crossentropy',\n",
        "              metrics=['accuracy'])\n",
        "# Setting `verbose=1` prints out some results after each epoch\n",
        "model.fit(X_train, Y_train, batch_size=batch_size, epochs=20, verbose=1)\n",
        "score = model.evaluate(X_test, Y_test, verbose=0)\n",
        "print('Test score:', score[0])\n",
        "print('Test accuracy:', score[1])"
      ],
      "id": "paperback-framing",
      "execution_count": null,
      "outputs": [
        {
          "output_type": "stream",
          "text": [
            "Epoch 1/20\n",
            "469/469 [==============================] - 1s 2ms/step - loss: 1.2368 - accuracy: 0.6725\n",
            "Epoch 2/20\n",
            "469/469 [==============================] - 1s 2ms/step - loss: 0.4964 - accuracy: 0.8682\n",
            "Epoch 3/20\n",
            "469/469 [==============================] - 1s 2ms/step - loss: 0.3897 - accuracy: 0.8929: 0s - loss: 0.4185 - accuracy:  - ETA: 0s - loss: 0.4078 \n",
            "Epoch 4/20\n",
            "469/469 [==============================] - 1s 2ms/step - loss: 0.3426 - accuracy: 0.9037: 0s - l\n",
            "Epoch 5/20\n",
            "469/469 [==============================] - 1s 2ms/step - loss: 0.3130 - accuracy: 0.9120: 0s - los\n",
            "Epoch 6/20\n",
            "469/469 [==============================] - 1s 2ms/step - loss: 0.2913 - accuracy: 0.9177: 0s - loss: 0.2\n",
            "Epoch 7/20\n",
            "469/469 [==============================] - 1s 2ms/step - loss: 0.2740 - accuracy: 0.9228\n",
            "Epoch 8/20\n",
            "469/469 [==============================] - 1s 2ms/step - loss: 0.2596 - accuracy: 0.9271: 0s - los\n",
            "Epoch 9/20\n",
            "469/469 [==============================] - 1s 2ms/step - loss: 0.2475 - accuracy: 0.9305: 0s - loss: 0.2483 - accuracy: 0. - ETA: 0s - loss: 0.2475 - accuracy:  - ETA: 0s - loss: 0.2480 - accuracy: 0.\n",
            "Epoch 10/20\n",
            "469/469 [==============================] - 1s 2ms/step - loss: 0.2367 - accuracy: 0.9335\n",
            "Epoch 11/20\n",
            "469/469 [==============================] - 1s 2ms/step - loss: 0.2263 - accuracy: 0.9367\n",
            "Epoch 12/20\n",
            "469/469 [==============================] - 1s 2ms/step - loss: 0.2175 - accuracy: 0.9388: 0s - loss: 0.2177 - accuracy: 0.93\n",
            "Epoch 13/20\n",
            "469/469 [==============================] - 1s 2ms/step - loss: 0.2093 - accuracy: 0.9411\n",
            "Epoch 14/20\n",
            "469/469 [==============================] - 1s 2ms/step - loss: 0.2016 - accuracy: 0.9438\n",
            "Epoch 15/20\n",
            "469/469 [==============================] - 1s 2ms/step - loss: 0.1946 - accuracy: 0.9457\n",
            "Epoch 16/20\n",
            "469/469 [==============================] - 1s 1ms/step - loss: 0.1882 - accuracy: 0.9470\n",
            "Epoch 17/20\n",
            "469/469 [==============================] - 1s 1ms/step - loss: 0.1817 - accuracy: 0.9492: 0s - loss: 0.1864 - \n",
            "Epoch 18/20\n",
            "469/469 [==============================] - 1s 1ms/step - loss: 0.1761 - accuracy: 0.9501: 0s - loss: 0.1815  - ETA: 0s - loss: 0.1770 - accuracy: 0.95\n",
            "Epoch 19/20\n",
            "469/469 [==============================] - ETA: 0s - loss: 0.1710 - accuracy: 0.95 - 1s 1ms/step - loss: 0.1708 - accuracy: 0.9519\n",
            "Epoch 20/20\n",
            "469/469 [==============================] - 1s 1ms/step - loss: 0.1655 - accuracy: 0.9536\n",
            "Test score: 0.16479447484016418\n",
            "Test accuracy: 0.9519000053405762\n"
          ],
          "name": "stdout"
        }
      ]
    },
    {
      "cell_type": "markdown",
      "metadata": {
        "id": "offshore-reliance"
      },
      "source": [
        "Relu rectified linear units performed the best, then tanh, and sigmoid was the worst"
      ],
      "id": "offshore-reliance"
    },
    {
      "cell_type": "markdown",
      "metadata": {
        "id": "metric-entrepreneur"
      },
      "source": [
        "# In this task, you'll implement the ANN models specified below. For each, use the hinge loss function as the loss function. Specifically, do the following:"
      ],
      "id": "metric-entrepreneur"
    },
    {
      "cell_type": "markdown",
      "metadata": {
        "id": "comfortable-insurance"
      },
      "source": [
        "## Implement a three-layer ANN model with 128, 64, and 10 neurons in the layers. Use the tanh activation function for each layer."
      ],
      "id": "comfortable-insurance"
    },
    {
      "cell_type": "code",
      "metadata": {
        "id": "shared-occasions",
        "outputId": "fa4b6c26-b3a1-4969-ef95-72ca6ca6b615"
      },
      "source": [
        "model = Sequential()\n",
        "# The first dense layer\n",
        "model.add(Dense(128, input_shape=(784,), activation=\"tanh\"))\n",
        "# The second dense layer\n",
        "model.add(Dense(64, activation=\"tanh\"))\n",
        "# The last layer is the output layer\n",
        "model.add(Dense(10, activation=\"softmax\"))\n",
        "model.compile(optimizer='sgd', loss='hinge',\n",
        "              metrics=['accuracy'])\n",
        "# Setting `verbose=1` prints out some results after each epoch\n",
        "model.fit(X_train, Y_train, batch_size=batch_size, epochs=20, verbose=1)\n",
        "score = model.evaluate(X_test, Y_test, verbose=0)\n",
        "print('Test score:', score[0])\n",
        "print('Test accuracy:', score[1])"
      ],
      "id": "shared-occasions",
      "execution_count": null,
      "outputs": [
        {
          "output_type": "stream",
          "text": [
            "Epoch 1/20\n",
            "469/469 [==============================] - 1s 2ms/step - loss: 1.0773 - accuracy: 0.1668: 0s - loss: 1.0784 \n",
            "Epoch 2/20\n",
            "469/469 [==============================] - 1s 2ms/step - loss: 1.0714 - accuracy: 0.3255\n",
            "Epoch 3/20\n",
            "469/469 [==============================] - 1s 2ms/step - loss: 1.0619 - accuracy: 0.4217\n",
            "Epoch 4/20\n",
            "469/469 [==============================] - 1s 2ms/step - loss: 1.0501 - accuracy: 0.4574\n",
            "Epoch 5/20\n",
            "469/469 [==============================] - ETA: 0s - loss: 1.0389 - accuracy: 0.48 - ETA: 0s - loss: 1.0386 - accuracy: 0.48 - 1s 2ms/step - loss: 1.0383 - accuracy: 0.4841\n",
            "Epoch 6/20\n",
            "469/469 [==============================] - 1s 2ms/step - loss: 1.0278 - accuracy: 0.5244\n",
            "Epoch 7/20\n",
            "469/469 [==============================] - 1s 2ms/step - loss: 1.0183 - accuracy: 0.5687: 0s - loss: 1.0186 - accuracy: 0.\n",
            "Epoch 8/20\n",
            "469/469 [==============================] - 1s 2ms/step - loss: 1.0098 - accuracy: 0.6007: 0s - loss: 1.0109 - accuracy: 0.59 - ETA: 0s - loss: 1.0107 - ac\n",
            "Epoch 9/20\n",
            "469/469 [==============================] - 1s 2ms/step - loss: 1.0027 - accuracy: 0.6236\n",
            "Epoch 10/20\n",
            "469/469 [==============================] - 1s 2ms/step - loss: 0.9970 - accuracy: 0.6405: 0s - loss: 0.9985 - accuracy: 0. - ETA: 0s - loss: 0.9981 - accuracy - ETA: 0s - loss: 0.9976 - accuracy\n",
            "Epoch 11/20\n",
            "469/469 [==============================] - 1s 2ms/step - loss: 0.9924 - accuracy: 0.6558\n",
            "Epoch 12/20\n",
            "469/469 [==============================] - 1s 2ms/step - loss: 0.9882 - accuracy: 0.6726: 0s - loss: 0.989\n",
            "Epoch 13/20\n",
            "469/469 [==============================] - 1s 2ms/step - loss: 0.9845 - accuracy: 0.6876: 0s - loss: 0.9\n",
            "Epoch 14/20\n",
            "469/469 [==============================] - 1s 2ms/step - loss: 0.9813 - accuracy: 0.6985: 0s - loss: 0.9821 - accu - ETA: 0s - loss: 0.9814 - accuracy\n",
            "Epoch 15/20\n",
            "469/469 [==============================] - 1s 2ms/step - loss: 0.9785 - accuracy: 0.7072\n",
            "Epoch 16/20\n",
            "469/469 [==============================] - 1s 2ms/step - loss: 0.9762 - accuracy: 0.7120: 0s - los\n",
            "Epoch 17/20\n",
            "469/469 [==============================] - 1s 2ms/step - loss: 0.9741 - accuracy: 0.7157\n",
            "Epoch 18/20\n",
            "469/469 [==============================] - ETA: 0s - loss: 0.9724 - accuracy: 0.71 - 1s 2ms/step - loss: 0.9724 - accuracy: 0.7191\n",
            "Epoch 19/20\n",
            "469/469 [==============================] - 1s 2ms/step - loss: 0.9709 - accuracy: 0.7221: 0s - loss: 0.9713 - ac\n",
            "Epoch 20/20\n",
            "469/469 [==============================] - 1s 2ms/step - loss: 0.9695 - accuracy: 0.7245: 0s - loss: 0.9699 -  - ETA: 0s - loss: 0.9697 - accura\n",
            "Test score: 0.9678753614425659\n",
            "Test accuracy: 0.7350999712944031\n"
          ],
          "name": "stdout"
        }
      ]
    },
    {
      "cell_type": "markdown",
      "metadata": {
        "id": "sunrise-vegetable"
      },
      "source": [
        "## Implement a three-layer ANN model with 128, 64, and 10 neurons in the layers. Use the sigmoid activation function for each layer."
      ],
      "id": "sunrise-vegetable"
    },
    {
      "cell_type": "code",
      "metadata": {
        "id": "sharing-demographic",
        "outputId": "1c74d084-712b-4297-cc34-97825a627739"
      },
      "source": [
        "model = Sequential()\n",
        "# The first dense layer\n",
        "model.add(Dense(128, input_shape=(784,), activation=\"sigmoid\"))\n",
        "# The second dense layer\n",
        "model.add(Dense(64, activation=\"sigmoid\"))\n",
        "# The last layer is the output layer\n",
        "model.add(Dense(10, activation=\"softmax\"))\n",
        "model.compile(optimizer='sgd', loss='hinge',\n",
        "              metrics=['accuracy'])\n",
        "# Setting `verbose=1` prints out some results after each epoch\n",
        "model.fit(X_train, Y_train, batch_size=batch_size, epochs=20, verbose=1)\n",
        "score = model.evaluate(X_test, Y_test, verbose=0)\n",
        "print('Test score:', score[0])\n",
        "print('Test accuracy:', score[1])"
      ],
      "id": "sharing-demographic",
      "execution_count": null,
      "outputs": [
        {
          "output_type": "stream",
          "text": [
            "Epoch 1/20\n",
            "469/469 [==============================] - 1s 2ms/step - loss: 1.0801 - accuracy: 0.0993: 0s - loss: 1.0801 - ac - ETA: 0s - loss: 1.0801 - accuracy: 0.\n",
            "Epoch 2/20\n",
            "469/469 [==============================] - 1s 2ms/step - loss: 1.0801 - accuracy: 0.0993\n",
            "Epoch 3/20\n",
            "469/469 [==============================] - 1s 2ms/step - loss: 1.0800 - accuracy: 0.0993: 0s - loss: 1.0800 \n",
            "Epoch 4/20\n",
            "469/469 [==============================] - 1s 2ms/step - loss: 1.0800 - accuracy: 0.0993: 0s - loss: 1.0800 - accuracy:  - ETA: 0s - loss: 1.0801 - accuracy - ETA: 0s - loss: 1.0800 - accu - ETA: 0s - loss: 1.0800 - accuracy: 0.\n",
            "Epoch 5/20\n",
            "469/469 [==============================] - 1s 2ms/step - loss: 1.0800 - accuracy: 0.0993\n",
            "Epoch 6/20\n",
            "469/469 [==============================] - 1s 2ms/step - loss: 1.0799 - accuracy: 0.0993: 0s - loss: 1.0799 - ac\n",
            "Epoch 7/20\n",
            "469/469 [==============================] - 1s 2ms/step - loss: 1.0799 - accuracy: 0.0993\n",
            "Epoch 8/20\n",
            "469/469 [==============================] - 1s 2ms/step - loss: 1.0799 - accuracy: 0.0993\n",
            "Epoch 9/20\n",
            "469/469 [==============================] - 1s 2ms/step - loss: 1.0798 - accuracy: 0.0993: 0s - loss: 1.0798 - accura\n",
            "Epoch 10/20\n",
            "469/469 [==============================] - 1s 2ms/step - loss: 1.0798 - accuracy: 0.0993\n",
            "Epoch 11/20\n",
            "469/469 [==============================] - 1s 2ms/step - loss: 1.0798 - accuracy: 0.0993: 0s -\n",
            "Epoch 12/20\n",
            "469/469 [==============================] - 1s 2ms/step - loss: 1.0797 - accuracy: 0.0993\n",
            "Epoch 13/20\n",
            "469/469 [==============================] - 1s 2ms/step - loss: 1.0797 - accuracy: 0.0993\n",
            "Epoch 14/20\n",
            "469/469 [==============================] - 1s 2ms/step - loss: 1.0796 - accuracy: 0.0993\n",
            "Epoch 15/20\n",
            "469/469 [==============================] - 1s 2ms/step - loss: 1.0796 - accuracy: 0.1008\n",
            "Epoch 16/20\n",
            "469/469 [==============================] - 1s 2ms/step - loss: 1.0796 - accuracy: 0.1441\n",
            "Epoch 17/20\n",
            "469/469 [==============================] - 1s 2ms/step - loss: 1.0795 - accuracy: 0.1797\n",
            "Epoch 18/20\n",
            "469/469 [==============================] - 1s 2ms/step - loss: 1.0795 - accuracy: 0.1549: 0s - loss: 1.0795 - accu\n",
            "Epoch 19/20\n",
            "469/469 [==============================] - 1s 2ms/step - loss: 1.0794 - accuracy: 0.1288\n",
            "Epoch 20/20\n",
            "469/469 [==============================] - 1s 2ms/step - loss: 1.0794 - accuracy: 0.1155\n",
            "Test score: 1.0792120695114136\n",
            "Test accuracy: 0.11429999768733978\n"
          ],
          "name": "stdout"
        }
      ]
    },
    {
      "cell_type": "markdown",
      "metadata": {
        "id": "retired-separation"
      },
      "source": [
        "## Implement a three-layer ANN model with 128, 64, and 10 neurons in the layers. Use the ReLU activation function for each layer."
      ],
      "id": "retired-separation"
    },
    {
      "cell_type": "code",
      "metadata": {
        "id": "canadian-theory",
        "outputId": "86d50bc8-9be4-4d00-d677-e874001e8f9a"
      },
      "source": [
        "model = Sequential()\n",
        "# The first dense layer\n",
        "model.add(Dense(128, input_shape=(784,), activation=\"relu\"))\n",
        "# The second dense layer\n",
        "model.add(Dense(64, activation=\"relu\"))\n",
        "# The last layer is the output layer\n",
        "model.add(Dense(10, activation=\"softmax\"))\n",
        "model.compile(optimizer='sgd', loss='hinge',\n",
        "              metrics=['accuracy'])\n",
        "# Setting `verbose=1` prints out some results after each epoch\n",
        "model.fit(X_train, Y_train, batch_size=batch_size, epochs=20, verbose=1)\n",
        "score = model.evaluate(X_test, Y_test, verbose=0)\n",
        "print('Test score:', score[0])\n",
        "print('Test accuracy:', score[1])"
      ],
      "id": "canadian-theory",
      "execution_count": null,
      "outputs": [
        {
          "output_type": "stream",
          "text": [
            "Epoch 1/20\n",
            "469/469 [==============================] - ETA: 0s - loss: 1.0795 - accuracy: 0.1041 ETA: 0s - loss: 1.0798  - 1s 2ms/step - loss: 1.0794 - accuracy: 0.1054\n",
            "Epoch 2/20\n",
            "469/469 [==============================] - 1s 2ms/step - loss: 1.0778 - accuracy: 0.1555: 0s - l\n",
            "Epoch 3/20\n",
            "469/469 [==============================] - 1s 2ms/step - loss: 1.0757 - accuracy: 0.1742: 0s - loss: 1.0760 - accura\n",
            "Epoch 4/20\n",
            "469/469 [==============================] - 1s 2ms/step - loss: 1.0727 - accuracy: 0.1674\n",
            "Epoch 5/20\n",
            "469/469 [==============================] - 1s 2ms/step - loss: 1.0689 - accuracy: 0.1694\n",
            "Epoch 6/20\n",
            "469/469 [==============================] - 1s 2ms/step - loss: 1.0650 - accuracy: 0.2185: 0s - loss: 1.0654 - accuracy\n",
            "Epoch 7/20\n",
            "469/469 [==============================] - 1s 2ms/step - loss: 1.0608 - accuracy: 0.2964\n",
            "Epoch 8/20\n",
            "469/469 [==============================] - 1s 2ms/step - loss: 1.0557 - accuracy: 0.3507\n",
            "Epoch 9/20\n",
            "469/469 [==============================] - 1s 2ms/step - loss: 1.0495 - accuracy: 0.3834\n",
            "Epoch 10/20\n",
            "469/469 [==============================] - 1s 2ms/step - loss: 1.0424 - accuracy: 0.4146\n",
            "Epoch 11/20\n",
            "469/469 [==============================] - 1s 2ms/step - loss: 1.0348 - accuracy: 0.4537\n",
            "Epoch 12/20\n",
            "469/469 [==============================] - 1s 2ms/step - loss: 1.0270 - accuracy: 0.5055\n",
            "Epoch 13/20\n",
            "469/469 [==============================] - 1s 2ms/step - loss: 1.0193 - accuracy: 0.5630\n",
            "Epoch 14/20\n",
            "469/469 [==============================] - 1s 2ms/step - loss: 1.0111 - accuracy: 0.6128\n",
            "Epoch 15/20\n",
            "469/469 [==============================] - 1s 2ms/step - loss: 1.0030 - accuracy: 0.6325: 0s - loss: 1.0030 - accuracy: 0.63\n",
            "Epoch 16/20\n",
            "469/469 [==============================] - 1s 2ms/step - loss: 0.9963 - accuracy: 0.6389\n",
            "Epoch 17/20\n",
            "469/469 [==============================] - 1s 2ms/step - loss: 0.9910 - accuracy: 0.6437\n",
            "Epoch 18/20\n",
            "469/469 [==============================] - 1s 2ms/step - loss: 0.9867 - accuracy: 0.6522: 0s - loss: 0.9884 - accuracy: 0.65 - ETA: 0s - loss: 0.9881  - ETA: 0s - loss: 0.9869 - accura\n",
            "Epoch 19/20\n",
            "469/469 [==============================] - 1s 2ms/step - loss: 0.9821 - accuracy: 0.6791\n",
            "Epoch 20/20\n",
            "469/469 [==============================] - 1s 2ms/step - loss: 0.9777 - accuracy: 0.7007\n",
            "Test score: 0.9742915034294128\n",
            "Test accuracy: 0.7146000266075134\n"
          ],
          "name": "stdout"
        }
      ]
    },
    {
      "cell_type": "markdown",
      "metadata": {
        "id": "affiliated-athens"
      },
      "source": [
        "crossenthropy loss function performed best"
      ],
      "id": "affiliated-athens"
    },
    {
      "cell_type": "code",
      "metadata": {
        "id": "lesbian-publication"
      },
      "source": [
        ""
      ],
      "id": "lesbian-publication",
      "execution_count": null,
      "outputs": []
    }
  ]
}